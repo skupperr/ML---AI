{
 "cells": [
  {
   "cell_type": "markdown",
   "metadata": {
    "id": "9E81TwloqLo6"
   },
   "source": [
    "# Introduction to python\n",
    "We will cover from the basics to built-in libraries like Numpy and Pandas in Python."
   ]
  },
  {
   "cell_type": "markdown",
   "metadata": {
    "id": "_gykUfjZqq8S"
   },
   "source": [
    "## Basics\n",
    "\n",
    "*   comments\n",
    "*   datatype and variables\n",
    "*   operator\n",
    "*   conditional statements\n",
    "*   loop\n",
    "*   function\n",
    "\n"
   ]
  },
  {
   "cell_type": "code",
   "execution_count": 1,
   "metadata": {
    "colab": {
     "base_uri": "https://localhost:8080/"
    },
    "executionInfo": {
     "elapsed": 1380,
     "status": "ok",
     "timestamp": 1731476421873,
     "user": {
      "displayName": "Rahad Khan",
      "userId": "08986644268056122993"
     },
     "user_tz": -360
    },
    "id": "pwKb2si_qB5d",
    "outputId": "3eeb5a60-bc44-4b71-e27b-b31ff4b284a2"
   },
   "outputs": [
    {
     "name": "stdout",
     "output_type": "stream",
     "text": [
      "Hello World\n"
     ]
    }
   ],
   "source": [
    "print('Hello World')"
   ]
  },
  {
   "cell_type": "code",
   "execution_count": 2,
   "metadata": {
    "colab": {
     "base_uri": "https://localhost:8080/"
    },
    "executionInfo": {
     "elapsed": 2,
     "status": "ok",
     "timestamp": 1731476422787,
     "user": {
      "displayName": "Rahad Khan",
      "userId": "08986644268056122993"
     },
     "user_tz": -360
    },
    "id": "Vbd0Q7Z8CUS7",
    "outputId": "9e0f2d22-58e3-44e2-fec0-19f257958062"
   },
   "outputs": [
    {
     "name": "stdout",
     "output_type": "stream",
     "text": [
      "AI Lab\n"
     ]
    }
   ],
   "source": [
    "print(\"AI Lab\")"
   ]
  },
  {
   "cell_type": "code",
   "execution_count": null,
   "metadata": {
    "id": "7FNQ4KptCmr_"
   },
   "outputs": [],
   "source": [
    "# This is comment\n",
    "# This is another comment"
   ]
  },
  {
   "cell_type": "code",
   "execution_count": null,
   "metadata": {
    "colab": {
     "base_uri": "https://localhost:8080/",
     "height": 36
    },
    "executionInfo": {
     "elapsed": 1097,
     "status": "ok",
     "timestamp": 1731477534377,
     "user": {
      "displayName": "asif uddin ahmed",
      "userId": "00527337476731550440"
     },
     "user_tz": -360
    },
    "id": "DVypvO9IOeLk",
    "outputId": "e9c2e0bf-9e92-4626-a513-54bf0fa714bd"
   },
   "outputs": [
    {
     "data": {
      "application/vnd.google.colaboratory.intrinsic+json": {
       "type": "string"
      },
      "text/plain": [
       "'\\nThis is our second\\nAI Lab for fall 2024.\\n\\n\\n'"
      ]
     },
     "execution_count": 2,
     "metadata": {},
     "output_type": "execute_result"
    }
   ],
   "source": [
    "\"\"\"\n",
    "This is our second\n",
    "AI Lab for fall 2024.\n",
    "\n",
    "\n",
    "\"\"\""
   ]
  },
  {
   "cell_type": "code",
   "execution_count": null,
   "metadata": {
    "id": "6CmT62OUrVHe"
   },
   "outputs": [],
   "source": [
    "message = 'This is comments'\n",
    "name = \"Rahad Khan\"\n",
    "email = '''Dear sir,\n",
    "        I hope you are doing well.'''"
   ]
  },
  {
   "cell_type": "markdown",
   "metadata": {
    "id": "bQG-3H_qyh25"
   },
   "source": [
    "### Variable and Datatype"
   ]
  },
  {
   "cell_type": "code",
   "execution_count": null,
   "metadata": {
    "colab": {
     "base_uri": "https://localhost:8080/"
    },
    "executionInfo": {
     "elapsed": 662,
     "status": "ok",
     "timestamp": 1731477108068,
     "user": {
      "displayName": "Rahad Khan",
      "userId": "08986644268056122993"
     },
     "user_tz": -360
    },
    "id": "OTNvMrJlwk38",
    "outputId": "8addc655-a722-4320-da31-2bd44cc98cbd"
   },
   "outputs": [
    {
     "name": "stdout",
     "output_type": "stream",
     "text": [
      "164071\n",
      "Md Rahad Khan\n",
      "3.15\n",
      "True\n",
      "(13+0j)\n"
     ]
    }
   ],
   "source": [
    "student_ID = 164071\n",
    "name = \"Md Rahad Khan\"\n",
    "CGPA = 3.15\n",
    "is_publication = True\n",
    "a = 3+2j\n",
    "b = 3-2j\n",
    "print(student_ID)\n",
    "print(name)\n",
    "print(CGPA)\n",
    "print(is_publication)\n",
    "print(a*b)"
   ]
  },
  {
   "cell_type": "code",
   "execution_count": null,
   "metadata": {
    "colab": {
     "base_uri": "https://localhost:8080/"
    },
    "executionInfo": {
     "elapsed": 9,
     "status": "ok",
     "timestamp": 1731220120731,
     "user": {
      "displayName": "Rahad Khan",
      "userId": "08986644268056122993"
     },
     "user_tz": -360
    },
    "id": "NaK49vcswl_K",
    "outputId": "d6c83e00-9084-4a8b-a6db-fd695a7a3f4e"
   },
   "outputs": [
    {
     "name": "stdout",
     "output_type": "stream",
     "text": [
      "Student ID: 164071 name:Md Rahad Khan\n",
      "Name: Md Rahad Khan\n",
      "CGPA: 3.15\n",
      "Publication: True\n",
      "Complex Number: (3+2j)\n"
     ]
    }
   ],
   "source": [
    "print(f'Student ID: {student_ID} name:{name}')\n",
    "print(f'Name: {name}')\n",
    "print(f'CGPA: {CGPA}')\n",
    "print(f'Publication: {is_publication}')\n",
    "print(f'Complex Number: {comp}')"
   ]
  },
  {
   "cell_type": "code",
   "execution_count": null,
   "metadata": {
    "colab": {
     "base_uri": "https://localhost:8080/"
    },
    "executionInfo": {
     "elapsed": 750,
     "status": "ok",
     "timestamp": 1731220131096,
     "user": {
      "displayName": "Rahad Khan",
      "userId": "08986644268056122993"
     },
     "user_tz": -360
    },
    "id": "SBKG3uTNwpFK",
    "outputId": "9699fd24-0648-4076-9d03-6b946be3e3ab"
   },
   "outputs": [
    {
     "name": "stdout",
     "output_type": "stream",
     "text": [
      "Dear Sir,\n",
      "Assalamu alaikum. I hope this mail find you well.\n"
     ]
    }
   ],
   "source": [
    "message = '''Dear Sir,\n",
    "Assalamu alaikum. I hope this mail find you well.'''\n",
    "print(message)"
   ]
  },
  {
   "cell_type": "code",
   "execution_count": null,
   "metadata": {
    "colab": {
     "base_uri": "https://localhost:8080/"
    },
    "executionInfo": {
     "elapsed": 3,
     "status": "ok",
     "timestamp": 1731220163533,
     "user": {
      "displayName": "Rahad Khan",
      "userId": "08986644268056122993"
     },
     "user_tz": -360
    },
    "id": "AdwrtlzAwsPq",
    "outputId": "c93e0f85-4778-4839-94d7-1b3df92688c5"
   },
   "outputs": [
    {
     "name": "stdout",
     "output_type": "stream",
     "text": [
      "<class 'int'>\n",
      "<class 'str'>\n",
      "<class 'float'>\n",
      "<class 'bool'>\n",
      "<class 'complex'>\n"
     ]
    }
   ],
   "source": [
    "print(type(student_ID))\n",
    "print(type(name))\n",
    "print(type(CGPA))\n",
    "print(type(is_publication))\n",
    "print(type(comp))"
   ]
  },
  {
   "cell_type": "code",
   "execution_count": null,
   "metadata": {
    "colab": {
     "base_uri": "https://localhost:8080/"
    },
    "executionInfo": {
     "elapsed": 529,
     "status": "ok",
     "timestamp": 1731477202678,
     "user": {
      "displayName": "Rahad Khan",
      "userId": "08986644268056122993"
     },
     "user_tz": -360
    },
    "id": "LRRk7xt7w0Gg",
    "outputId": "03cb6bd5-6a45-4225-fbf2-c3bf7ec0b567"
   },
   "outputs": [
    {
     "name": "stdout",
     "output_type": "stream",
     "text": [
      "(3-2j)\n",
      "3.0\n"
     ]
    }
   ],
   "source": [
    "print(a.conjugate())\n",
    "print(a.real)"
   ]
  },
  {
   "cell_type": "markdown",
   "metadata": {
    "id": "zSYMPSatw_ru"
   },
   "source": [
    "### String Operation"
   ]
  },
  {
   "cell_type": "code",
   "execution_count": null,
   "metadata": {
    "colab": {
     "base_uri": "https://localhost:8080/"
    },
    "executionInfo": {
     "elapsed": 578,
     "status": "ok",
     "timestamp": 1735653566012,
     "user": {
      "displayName": "asif uddin ahmed",
      "userId": "00527337476731550440"
     },
     "user_tz": -360
    },
    "id": "RwxuJa_qw2jh",
    "outputId": "0e1ab007-a805-4a55-9c8d-e5db429c6a29"
   },
   "outputs": [
    {
     "name": "stdout",
     "output_type": "stream",
     "text": [
      "d\n",
      "a  rAT A\n",
      "dhakA is Our CApiTal akA\n",
      "dhakA i\n",
      "kA is Our CApiTal ak\n",
      "Aka laTipAC ruO si Akahd\n"
     ]
    }
   ],
   "source": [
    "message = \"dhakA is Our CApiTal akA\"    # [start:stop:step]\n",
    "print(message[0])\n",
    "print(message[2:5])#slice\n",
    "print(message[2::3])#slice\n",
    "print(message[0:])\n",
    "print(message[:7])\n",
    "print(message[3:-1])\n",
    "print(message[::-1])"
   ]
  },
  {
   "cell_type": "code",
   "execution_count": null,
   "metadata": {
    "colab": {
     "base_uri": "https://localhost:8080/"
    },
    "executionInfo": {
     "elapsed": 557,
     "status": "ok",
     "timestamp": 1735653645652,
     "user": {
      "displayName": "asif uddin ahmed",
      "userId": "00527337476731550440"
     },
     "user_tz": -360
    },
    "id": "KE5NB9GNw7EQ",
    "outputId": "284d125d-a8df-41d1-efba-03baeb9021a4"
   },
   "outputs": [
    {
     "name": "stdout",
     "output_type": "stream",
     "text": [
      "Dhaka is our capital aka\n",
      "DHAKA IS OUR CAPITAL AKA\n",
      "13\n",
      "dhaBaa is Our CApiTal aBaa\n",
      "2\n"
     ]
    }
   ],
   "source": [
    "print(message.capitalize())\n",
    "print(message.upper())\n",
    "print(message.find('akA'))\n",
    "print(message.replace('akA','aBaa'))\n",
    "print(message.count('akA'))"
   ]
  },
  {
   "cell_type": "code",
   "execution_count": null,
   "metadata": {
    "colab": {
     "base_uri": "https://localhost:8080/"
    },
    "executionInfo": {
     "elapsed": 7593,
     "status": "ok",
     "timestamp": 1731229629414,
     "user": {
      "displayName": "Rahad Khan",
      "userId": "08986644268056122993"
     },
     "user_tz": -360
    },
    "id": "E1L6lvBrw-jY",
    "outputId": "d5e4ed82-7c51-4a4d-d19b-39a842986e02"
   },
   "outputs": [
    {
     "name": "stdout",
     "output_type": "stream",
     "text": [
      "Enter your number:3\n",
      "Enter your number:2\n"
     ]
    }
   ],
   "source": [
    "a = int(input('Enter your number:'))\n",
    "b = int(input('Enter your number:'))"
   ]
  },
  {
   "cell_type": "code",
   "execution_count": null,
   "metadata": {
    "colab": {
     "base_uri": "https://localhost:8080/"
    },
    "executionInfo": {
     "elapsed": 443,
     "status": "ok",
     "timestamp": 1731229631148,
     "user": {
      "displayName": "Rahad Khan",
      "userId": "08986644268056122993"
     },
     "user_tz": -360
    },
    "id": "xEPhGvbVxHhi",
    "outputId": "9d543f5f-cbd1-4bb3-cc21-cafe8ec3e026"
   },
   "outputs": [
    {
     "name": "stdout",
     "output_type": "stream",
     "text": [
      "Add: 5\n",
      "Sub: 1\n",
      "Product: 6\n",
      "div: 1.5\n",
      "div: 1\n",
      "exp: 9\n"
     ]
    }
   ],
   "source": [
    "print(f'Add: {a+b}')\n",
    "print(f'Sub: {a-b}')\n",
    "print(f'Product: {a*b}')\n",
    "print(f'div: {a/b}')\n",
    "print(f'div: {a//b}')\n",
    "print(f'exp: {a**b}')"
   ]
  },
  {
   "cell_type": "markdown",
   "metadata": {
    "id": "BXQwgVqsxTh9"
   },
   "source": [
    "###Task-1 Find reverse of a three digit number only using arithmetic operator"
   ]
  },
  {
   "cell_type": "code",
   "execution_count": null,
   "metadata": {
    "colab": {
     "base_uri": "https://localhost:8080/"
    },
    "executionInfo": {
     "elapsed": 13738,
     "status": "ok",
     "timestamp": 1731230107183,
     "user": {
      "displayName": "Rahad Khan",
      "userId": "08986644268056122993"
     },
     "user_tz": -360
    },
    "id": "Lu5C-e4xxLey",
    "outputId": "3fbd0404-2204-4829-b941-11a2eab8afce"
   },
   "outputs": [
    {
     "name": "stdout",
     "output_type": "stream",
     "text": [
      "Enter a number: 534\n"
     ]
    }
   ],
   "source": [
    "num = int(input(\"Enter a number: \"))\n"
   ]
  },
  {
   "cell_type": "code",
   "execution_count": null,
   "metadata": {
    "colab": {
     "base_uri": "https://localhost:8080/"
    },
    "executionInfo": {
     "elapsed": 10,
     "status": "ok",
     "timestamp": 1731230135877,
     "user": {
      "displayName": "Rahad Khan",
      "userId": "08986644268056122993"
     },
     "user_tz": -360
    },
    "id": "K6UGgH0KW1X1",
    "outputId": "47d27a4e-57ff-4826-f14d-df90b1668898"
   },
   "outputs": [
    {
     "data": {
      "text/plain": [
       "4"
      ]
     },
     "execution_count": 17,
     "metadata": {},
     "output_type": "execute_result"
    }
   ],
   "source": [
    "num//10"
   ]
  },
  {
   "cell_type": "code",
   "execution_count": null,
   "metadata": {
    "colab": {
     "base_uri": "https://localhost:8080/"
    },
    "executionInfo": {
     "elapsed": 425,
     "status": "ok",
     "timestamp": 1731230282069,
     "user": {
      "displayName": "Rahad Khan",
      "userId": "08986644268056122993"
     },
     "user_tz": -360
    },
    "id": "8_vNyUSHxYxB",
    "outputId": "0c11104d-0b33-4eaf-a55c-62b172233ba9"
   },
   "outputs": [
    {
     "name": "stdout",
     "output_type": "stream",
     "text": [
      "435\n"
     ]
    }
   ],
   "source": [
    "rev = 0\n",
    "rev = rev*10+num%10 # rev = 4\n",
    "num = num//10 #53\n",
    "rev = rev*10+num%10 # rev = 40 + 3 = 43\n",
    "num = num//10 #5\n",
    "rev = rev*10+num%10 # rev = 43*10 + 5 = 435\n",
    "num = num//10 # 0\n",
    "print(rev)"
   ]
  },
  {
   "cell_type": "markdown",
   "metadata": {
    "id": "yMOn5cBMxgmQ"
   },
   "source": [
    "###Conditional Statement"
   ]
  },
  {
   "cell_type": "code",
   "execution_count": null,
   "metadata": {
    "colab": {
     "base_uri": "https://localhost:8080/"
    },
    "executionInfo": {
     "elapsed": 400,
     "status": "ok",
     "timestamp": 1731220361022,
     "user": {
      "displayName": "Rahad Khan",
      "userId": "08986644268056122993"
     },
     "user_tz": -360
    },
    "id": "Rj6MDENlxdvo",
    "outputId": "fe4e3c91-cab1-4943-9441-8411924c2be6"
   },
   "outputs": [
    {
     "name": "stdout",
     "output_type": "stream",
     "text": [
      "You have to wait a thousand year.\n",
      "Exit\n"
     ]
    }
   ],
   "source": [
    "gender = 'm'\n",
    "if gender=='f' or gender=='F':\n",
    "  print('Welcome to our beauty parlour.')\n",
    "  print('Bye')\n",
    "elif gender=='m' or gender=='M':\n",
    "  print('You have to wait a thousand year.')\n",
    "else:\n",
    "  print(\"You are not allow here....\")\n",
    "print('Exit')"
   ]
  },
  {
   "cell_type": "code",
   "execution_count": null,
   "metadata": {
    "colab": {
     "base_uri": "https://localhost:8080/"
    },
    "executionInfo": {
     "elapsed": 426,
     "status": "ok",
     "timestamp": 1731231316447,
     "user": {
      "displayName": "Rahad Khan",
      "userId": "08986644268056122993"
     },
     "user_tz": -360
    },
    "id": "IxS7heQZxks7",
    "outputId": "b3d95261-0008-4bf9-ffc1-c9a80220592e"
   },
   "outputs": [
    {
     "name": "stdout",
     "output_type": "stream",
     "text": [
      "Not Found\n"
     ]
    }
   ],
   "source": [
    "if 'aka' in message:\n",
    "  print('Found')\n",
    "else:\n",
    "  print('Not Found')"
   ]
  },
  {
   "cell_type": "markdown",
   "metadata": {
    "id": "0WHupdsfxyh-"
   },
   "source": [
    "###Loop"
   ]
  },
  {
   "cell_type": "code",
   "execution_count": null,
   "metadata": {
    "colab": {
     "base_uri": "https://localhost:8080/"
    },
    "executionInfo": {
     "elapsed": 545,
     "status": "ok",
     "timestamp": 1735654084759,
     "user": {
      "displayName": "asif uddin ahmed",
      "userId": "00527337476731550440"
     },
     "user_tz": -360
    },
    "id": "bqswlM4ExqBb",
    "outputId": "5b29cdab-76d9-42bd-b1bc-a554c4742031"
   },
   "outputs": [
    {
     "name": "stdout",
     "output_type": "stream",
     "text": [
      "1\n",
      "3\n",
      "5\n",
      "7\n",
      "9\n"
     ]
    }
   ],
   "source": [
    "for i in range(1,10,2): #range(start,finish,update)\n",
    "  print(i)"
   ]
  },
  {
   "cell_type": "code",
   "execution_count": null,
   "metadata": {
    "colab": {
     "base_uri": "https://localhost:8080/"
    },
    "executionInfo": {
     "elapsed": 445,
     "status": "ok",
     "timestamp": 1731231915640,
     "user": {
      "displayName": "Rahad Khan",
      "userId": "08986644268056122993"
     },
     "user_tz": -360
    },
    "id": "kwdyOCLodJku",
    "outputId": "1458bead-23b6-4572-8681-f44dc1ea8cf5"
   },
   "outputs": [
    {
     "name": "stdout",
     "output_type": "stream",
     "text": [
      "0\n",
      "-2\n",
      "4\n",
      "-6\n",
      "8\n",
      "-10\n",
      "12\n",
      "-14\n",
      "16\n",
      "-18\n"
     ]
    }
   ],
   "source": [
    "# 0,-2,4,-6,........\n",
    "sign = 1\n",
    "for i in range(0,20,2):\n",
    "  print(i*sign)\n",
    "  sign = sign*-1"
   ]
  },
  {
   "cell_type": "code",
   "execution_count": null,
   "metadata": {
    "colab": {
     "base_uri": "https://localhost:8080/"
    },
    "executionInfo": {
     "elapsed": 412,
     "status": "ok",
     "timestamp": 1731232060126,
     "user": {
      "displayName": "Rahad Khan",
      "userId": "08986644268056122993"
     },
     "user_tz": -360
    },
    "id": "cz5e7fc8eFTd",
    "outputId": "611f5918-da54-4a3c-e7e9-5c68b26f5be6"
   },
   "outputs": [
    {
     "name": "stdout",
     "output_type": "stream",
     "text": [
      "****\n"
     ]
    }
   ],
   "source": [
    "print('*'*4)"
   ]
  },
  {
   "cell_type": "code",
   "execution_count": null,
   "metadata": {
    "colab": {
     "base_uri": "https://localhost:8080/"
    },
    "executionInfo": {
     "elapsed": 443,
     "status": "ok",
     "timestamp": 1731232078607,
     "user": {
      "displayName": "Rahad Khan",
      "userId": "08986644268056122993"
     },
     "user_tz": -360
    },
    "id": "IprNV44pd8T2",
    "outputId": "98b3c0da-e274-4eaa-e017-99df6fe63634"
   },
   "outputs": [
    {
     "name": "stdout",
     "output_type": "stream",
     "text": [
      "*\n",
      "**\n",
      "***\n",
      "****\n"
     ]
    }
   ],
   "source": [
    "for i in range(1,5):\n",
    "  print('*'*i)"
   ]
  },
  {
   "cell_type": "code",
   "execution_count": null,
   "metadata": {
    "colab": {
     "base_uri": "https://localhost:8080/"
    },
    "executionInfo": {
     "elapsed": 533,
     "status": "ok",
     "timestamp": 1731220446787,
     "user": {
      "displayName": "Rahad Khan",
      "userId": "08986644268056122993"
     },
     "user_tz": -360
    },
    "id": "sX-mebo3x2vi",
    "outputId": "f20fda50-bb32-45f9-f4c6-d7bc5ad3d390"
   },
   "outputs": [
    {
     "name": "stdout",
     "output_type": "stream",
     "text": [
      "*\n",
      "**\n",
      "***\n",
      "****\n"
     ]
    }
   ],
   "source": [
    "for i in range(1,5):\n",
    "  print('*'*i)"
   ]
  },
  {
   "cell_type": "code",
   "execution_count": null,
   "metadata": {
    "colab": {
     "base_uri": "https://localhost:8080/"
    },
    "executionInfo": {
     "elapsed": 401,
     "status": "ok",
     "timestamp": 1731220458754,
     "user": {
      "displayName": "Rahad Khan",
      "userId": "08986644268056122993"
     },
     "user_tz": -360
    },
    "id": "LMhl1OXax5my",
    "outputId": "058ca67f-8f66-48cb-d1a1-6bfac67e9880"
   },
   "outputs": [
    {
     "name": "stdout",
     "output_type": "stream",
     "text": [
      "    * \n",
      "   * * \n",
      "  * * * \n",
      " * * * * \n"
     ]
    }
   ],
   "source": [
    "for i in range(1,5):\n",
    "  print(' '*(5-i)+'* '*i)"
   ]
  },
  {
   "cell_type": "code",
   "execution_count": null,
   "metadata": {
    "colab": {
     "base_uri": "https://localhost:8080/"
    },
    "executionInfo": {
     "elapsed": 5954,
     "status": "ok",
     "timestamp": 1731232208421,
     "user": {
      "displayName": "Rahad Khan",
      "userId": "08986644268056122993"
     },
     "user_tz": -360
    },
    "id": "RoGRFy5JeYIv",
    "outputId": "23a907b3-e167-4fa6-aca2-171efb0cae66"
   },
   "outputs": [
    {
     "name": "stdout",
     "output_type": "stream",
     "text": [
      "Enter a number:123456\n"
     ]
    }
   ],
   "source": [
    "num = int(input(\"Enter a number:\"))"
   ]
  },
  {
   "cell_type": "code",
   "execution_count": null,
   "metadata": {
    "colab": {
     "base_uri": "https://localhost:8080/"
    },
    "executionInfo": {
     "elapsed": 490,
     "status": "ok",
     "timestamp": 1731232210282,
     "user": {
      "displayName": "Rahad Khan",
      "userId": "08986644268056122993"
     },
     "user_tz": -360
    },
    "id": "0JDH14KSefQV",
    "outputId": "549a211e-2057-451c-9cc1-2402ace80ac6"
   },
   "outputs": [
    {
     "name": "stdout",
     "output_type": "stream",
     "text": [
      "654321\n"
     ]
    }
   ],
   "source": [
    "rev = 0\n",
    "while num!=0:\n",
    "  rev = rev*10+num%10\n",
    "  num = num//10\n",
    "print(rev)"
   ]
  },
  {
   "cell_type": "markdown",
   "metadata": {
    "id": "qGrjN39IyGS2"
   },
   "source": [
    "###Function"
   ]
  },
  {
   "cell_type": "code",
   "execution_count": null,
   "metadata": {
    "id": "B81kcACux8kL"
   },
   "outputs": [],
   "source": [
    "# def fn_name(parameter):\n",
    "#   function_body\n",
    "\n",
    "def sum(a, b):\n",
    "  c = a+b\n",
    "  return c"
   ]
  },
  {
   "cell_type": "code",
   "execution_count": null,
   "metadata": {
    "colab": {
     "base_uri": "https://localhost:8080/"
    },
    "executionInfo": {
     "elapsed": 374,
     "status": "ok",
     "timestamp": 1731220521594,
     "user": {
      "displayName": "Rahad Khan",
      "userId": "08986644268056122993"
     },
     "user_tz": -360
    },
    "id": "zWPMwqpoyKAB",
    "outputId": "2f8ea892-2423-4c42-c69e-2f713959e6b8"
   },
   "outputs": [
    {
     "name": "stdout",
     "output_type": "stream",
     "text": [
      "30\n",
      "10.25\n",
      "Rahad Khan\n"
     ]
    }
   ],
   "source": [
    "print(sum(10,20))\n",
    "print(sum(3.5,6.75))\n",
    "print(sum(\"Rahad\",\" Khan\"))"
   ]
  },
  {
   "cell_type": "code",
   "execution_count": null,
   "metadata": {
    "colab": {
     "base_uri": "https://localhost:8080/"
    },
    "executionInfo": {
     "elapsed": 421,
     "status": "ok",
     "timestamp": 1731232438265,
     "user": {
      "displayName": "Rahad Khan",
      "userId": "08986644268056122993"
     },
     "user_tz": -360
    },
    "id": "a-3kb9s5yL6J",
    "outputId": "d7832a37-e17f-4c20-a245-c2330cf93a21"
   },
   "outputs": [
    {
     "name": "stdout",
     "output_type": "stream",
     "text": [
      "Hello Rashed\n"
     ]
    }
   ],
   "source": [
    "def hello(name):\n",
    "  name = name.capitalize()\n",
    "  print(f'Hello ',name)\n",
    "\n",
    "hello('rashed')"
   ]
  },
  {
   "cell_type": "code",
   "execution_count": null,
   "metadata": {
    "colab": {
     "base_uri": "https://localhost:8080/"
    },
    "executionInfo": {
     "elapsed": 407,
     "status": "ok",
     "timestamp": 1731220544621,
     "user": {
      "displayName": "Rahad Khan",
      "userId": "08986644268056122993"
     },
     "user_tz": -360
    },
    "id": "njBBkmPWyPjo",
    "outputId": "de7568b3-8004-441b-ec29-ff01dfdc4879"
   },
   "outputs": [
    {
     "name": "stdout",
     "output_type": "stream",
     "text": [
      "[1, 2, 3, 4, 5, 1, 2, 3, 4, 5]\n",
      "200\n",
      "goodgood\n"
     ]
    }
   ],
   "source": [
    "def test(arr):\n",
    "  return (arr+arr)\n",
    "print(test([1,2,3,4,5]))\n",
    "print(test(100))\n",
    "print(test(\"good\"))"
   ]
  },
  {
   "cell_type": "code",
   "execution_count": null,
   "metadata": {
    "colab": {
     "base_uri": "https://localhost:8080/"
    },
    "executionInfo": {
     "elapsed": 409,
     "status": "ok",
     "timestamp": 1731220554534,
     "user": {
      "displayName": "Rahad Khan",
      "userId": "08986644268056122993"
     },
     "user_tz": -360
    },
    "id": "nBE3D4LHyRhJ",
    "outputId": "db6ef37b-3583-42a9-e706-393847ebf0f9"
   },
   "outputs": [
    {
     "name": "stdout",
     "output_type": "stream",
     "text": [
      "min:-1, max:9\n",
      "-1 9\n"
     ]
    }
   ],
   "source": [
    "def minmax(arr):\n",
    "  return min(arr),max(arr)\n",
    "min_, max_ = minmax([1,0,9,8,-1])\n",
    "print(f'min:{min_}, max:{max_}')\n",
    "\n",
    "a = minmax([1,0,9,8,-1])\n",
    "print(a[0],a[1])"
   ]
  },
  {
   "cell_type": "code",
   "execution_count": null,
   "metadata": {
    "colab": {
     "base_uri": "https://localhost:8080/"
    },
    "executionInfo": {
     "elapsed": 431,
     "status": "ok",
     "timestamp": 1731232814599,
     "user": {
      "displayName": "Rahad Khan",
      "userId": "08986644268056122993"
     },
     "user_tz": -360
    },
    "id": "HPCbb2r1yT8Z",
    "outputId": "199b3a6a-e29d-4666-a9f7-4653c8ea38a7"
   },
   "outputs": [
    {
     "name": "stdout",
     "output_type": "stream",
     "text": [
      "can vote at the age 132\n",
      "True \n",
      "\n",
      "can't vote 0\n",
      "False \n",
      "\n",
      "can't vote 31\n",
      "False \n",
      "\n"
     ]
    }
   ],
   "source": [
    "def canvote(is_citizen, age=0,is_passport=False):\n",
    "    if not is_citizen:\n",
    "        print(\"can't vote\", age)\n",
    "        return False\n",
    "    if age >= 18:\n",
    "        print(\"can vote at the age\", age)\n",
    "        return True\n",
    "    else:\n",
    "        print(\"can't vote at the age\", age)\n",
    "        return False\n",
    "\n",
    "print(canvote(True, 132), '\\n')\n",
    "print(canvote(False), '\\n')\n",
    "#print(canvote(), '\\n') # error: missing 1 argument\n",
    "print(canvote(False, age = 31), '\\n') # error: positional argument follows keyword argument"
   ]
  },
  {
   "cell_type": "markdown",
   "metadata": {
    "id": "Izb4WdwdyofP"
   },
   "source": [
    "## Built-in data structure\n",
    "\n",
    "\n",
    "1.   Tuple\n",
    "2.   List\n",
    "3.   Set\n",
    "4.   Dictionary\n",
    "\n"
   ]
  },
  {
   "cell_type": "markdown",
   "metadata": {
    "id": "cip5OWGOy4BS"
   },
   "source": [
    "### Tuple"
   ]
  },
  {
   "cell_type": "code",
   "execution_count": null,
   "metadata": {
    "colab": {
     "base_uri": "https://localhost:8080/"
    },
    "executionInfo": {
     "elapsed": 478,
     "status": "ok",
     "timestamp": 1731481941590,
     "user": {
      "displayName": "asif uddin ahmed",
      "userId": "00527337476731550440"
     },
     "user_tz": -360
    },
    "id": "OprkUMsiyWqw",
    "outputId": "8bf04c39-e525-4042-d107-83bb9a173a4d"
   },
   "outputs": [
    {
     "name": "stdout",
     "output_type": "stream",
     "text": [
      "('Red', 1, True, 'Yellow', 4.5, 'Yellow')\n",
      "6\n",
      "True\n",
      "('Red', 1, True, 'Yellow', 4.5, 'Yellow')\n"
     ]
    }
   ],
   "source": [
    "tuple1 = ('Red', 1, True, 'Yellow', 4.5,'Yellow')\n",
    "print(tuple1)\n",
    "print(len(tuple1))\n",
    "print(tuple1[2])\n",
    "\n",
    "print(tuple1)"
   ]
  },
  {
   "cell_type": "code",
   "execution_count": null,
   "metadata": {
    "colab": {
     "base_uri": "https://localhost:8080/"
    },
    "executionInfo": {
     "elapsed": 1,
     "status": "ok",
     "timestamp": 1731232982652,
     "user": {
      "displayName": "Rahad Khan",
      "userId": "08986644268056122993"
     },
     "user_tz": -360
    },
    "id": "bC_9I9-By7fs",
    "outputId": "52780f6d-3a38-4d23-af0d-8d1dfea11b81"
   },
   "outputs": [
    {
     "name": "stdout",
     "output_type": "stream",
     "text": [
      "Not found\n"
     ]
    }
   ],
   "source": [
    "if 'red' in tuple1:\n",
    "  print('found')\n",
    "else:\n",
    "  print('Not found')"
   ]
  },
  {
   "cell_type": "code",
   "execution_count": null,
   "metadata": {
    "colab": {
     "base_uri": "https://localhost:8080/"
    },
    "executionInfo": {
     "elapsed": 416,
     "status": "ok",
     "timestamp": 1731220737925,
     "user": {
      "displayName": "Rahad Khan",
      "userId": "08986644268056122993"
     },
     "user_tz": -360
    },
    "id": "icDRr0hoy9zs",
    "outputId": "96c74472-945c-4678-98b8-3c9205e4bbcb"
   },
   "outputs": [
    {
     "name": "stdout",
     "output_type": "stream",
     "text": [
      "('red', 1, True, 'Yellow', 4.5, 'Yellow', 'Green', 'Magenta')\n",
      "('Green', 'Magenta')\n"
     ]
    }
   ],
   "source": [
    "# We can't insert or delete item in a tuple\n",
    "# Rather we can concate two tuple\n",
    "# convert to list then add\n",
    "tuple2 = (\"Green\",'Magenta')\n",
    "tuple1 += tuple2\n",
    "print(tuple1)\n",
    "print(tuple2)"
   ]
  },
  {
   "cell_type": "code",
   "execution_count": null,
   "metadata": {
    "colab": {
     "base_uri": "https://localhost:8080/"
    },
    "executionInfo": {
     "elapsed": 390,
     "status": "ok",
     "timestamp": 1731220747118,
     "user": {
      "displayName": "Rahad Khan",
      "userId": "08986644268056122993"
     },
     "user_tz": -360
    },
    "id": "ZO3owSGRzAtU",
    "outputId": "61fa51bc-8bce-43df-b2ab-d74d57570890"
   },
   "outputs": [
    {
     "name": "stdout",
     "output_type": "stream",
     "text": [
      "('red', 1, True, 'Yellow', 4.5, 'Yellow', 'Green', 'Magenta', 'cyan')\n"
     ]
    }
   ],
   "source": [
    "x = list(tuple1)\n",
    "x.append('cyan')\n",
    "tuple1 = tuple(x)\n",
    "print(tuple1)"
   ]
  },
  {
   "cell_type": "code",
   "execution_count": null,
   "metadata": {
    "colab": {
     "base_uri": "https://localhost:8080/"
    },
    "executionInfo": {
     "elapsed": 521,
     "status": "ok",
     "timestamp": 1735656437651,
     "user": {
      "displayName": "asif uddin ahmed",
      "userId": "00527337476731550440"
     },
     "user_tz": -360
    },
    "id": "FwukxhOHzC9c",
    "outputId": "05f50bdb-e3ce-4e3f-a5ed-96442a5210cc"
   },
   "outputs": [
    {
     "name": "stdout",
     "output_type": "stream",
     "text": [
      "1 ['apple', True, [1, 2], ('SPL', 'AI')]\n"
     ]
    }
   ],
   "source": [
    "thisTuple = (1,\"apple\",True,[1,2],('SPL','AI'))\n",
    "x, *y = thisTuple #unpack\n",
    "print(x,y)"
   ]
  },
  {
   "cell_type": "code",
   "execution_count": null,
   "metadata": {
    "colab": {
     "base_uri": "https://localhost:8080/"
    },
    "executionInfo": {
     "elapsed": 613,
     "status": "ok",
     "timestamp": 1731220766171,
     "user": {
      "displayName": "Rahad Khan",
      "userId": "08986644268056122993"
     },
     "user_tz": -360
    },
    "id": "8Wgq0OPZzFYE",
    "outputId": "45f91f8a-540d-4c78-db34-20e4437442cb"
   },
   "outputs": [
    {
     "name": "stdout",
     "output_type": "stream",
     "text": [
      "1 apple\n"
     ]
    }
   ],
   "source": [
    "x, y,c,d,e = thisTuple\n",
    "print(x,y)"
   ]
  },
  {
   "cell_type": "code",
   "execution_count": null,
   "metadata": {
    "colab": {
     "base_uri": "https://localhost:8080/"
    },
    "executionInfo": {
     "elapsed": 4,
     "status": "ok",
     "timestamp": 1735656504336,
     "user": {
      "displayName": "asif uddin ahmed",
      "userId": "00527337476731550440"
     },
     "user_tz": -360
    },
    "id": "cdWAb9rQzHjs",
    "outputId": "2e149667-0544-4a4c-d8dc-6351e53c360a"
   },
   "outputs": [
    {
     "name": "stdout",
     "output_type": "stream",
     "text": [
      "[1, 'apple', True] [1, 2] ('SPL', 'AI')\n"
     ]
    }
   ],
   "source": [
    "*x,y,z = thisTuple\n",
    "print(x,y,z)"
   ]
  },
  {
   "cell_type": "code",
   "execution_count": null,
   "metadata": {
    "colab": {
     "base_uri": "https://localhost:8080/"
    },
    "executionInfo": {
     "elapsed": 391,
     "status": "ok",
     "timestamp": 1731220788832,
     "user": {
      "displayName": "Rahad Khan",
      "userId": "08986644268056122993"
     },
     "user_tz": -360
    },
    "id": "N7aQIdOzzK-c",
    "outputId": "4180b385-f05f-4a00-bbce-569a2ee810a3"
   },
   "outputs": [
    {
     "name": "stdout",
     "output_type": "stream",
     "text": [
      "1 ('SPL', 'AI')\n"
     ]
    }
   ],
   "source": [
    "x,*_,y = thisTuple  # ignore *_\n",
    "print(x,y)"
   ]
  },
  {
   "cell_type": "code",
   "execution_count": null,
   "metadata": {
    "colab": {
     "base_uri": "https://localhost:8080/"
    },
    "executionInfo": {
     "elapsed": 400,
     "status": "ok",
     "timestamp": 1731220797472,
     "user": {
      "displayName": "Rahad Khan",
      "userId": "08986644268056122993"
     },
     "user_tz": -360
    },
    "id": "KpmccV9QzNJs",
    "outputId": "5e3d4c86-abb6-4e1d-bd04-050a1853eca9"
   },
   "outputs": [
    {
     "name": "stdout",
     "output_type": "stream",
     "text": [
      "1\n",
      "apple\n",
      "True\n",
      "[1, 2]\n",
      "('SPL', 'AI')\n"
     ]
    }
   ],
   "source": [
    "for item in thisTuple:\n",
    "  print(item)"
   ]
  },
  {
   "cell_type": "code",
   "execution_count": null,
   "metadata": {
    "colab": {
     "base_uri": "https://localhost:8080/"
    },
    "executionInfo": {
     "elapsed": 383,
     "status": "ok",
     "timestamp": 1731220805757,
     "user": {
      "displayName": "Rahad Khan",
      "userId": "08986644268056122993"
     },
     "user_tz": -360
    },
    "id": "aMcsNkyXzPQk",
    "outputId": "14a4a17e-33c6-40a8-8d30-32e077054001"
   },
   "outputs": [
    {
     "name": "stdout",
     "output_type": "stream",
     "text": [
      "1\n",
      "apple\n",
      "True\n",
      "[1, 2]\n",
      "('SPL', 'AI')\n"
     ]
    }
   ],
   "source": [
    "for idx in range(len(thisTuple)):\n",
    "  print(thisTuple[idx])"
   ]
  },
  {
   "cell_type": "markdown",
   "metadata": {
    "id": "RNnM3WZsznfp"
   },
   "source": [
    "### List"
   ]
  },
  {
   "cell_type": "code",
   "execution_count": null,
   "metadata": {
    "colab": {
     "base_uri": "https://localhost:8080/"
    },
    "executionInfo": {
     "elapsed": 419,
     "status": "ok",
     "timestamp": 1731233583222,
     "user": {
      "displayName": "Rahad Khan",
      "userId": "08986644268056122993"
     },
     "user_tz": -360
    },
    "id": "PoCyERK_zo0z",
    "outputId": "217bf676-a43c-4d47-92b1-ccae6ad33094"
   },
   "outputs": [
    {
     "name": "stdout",
     "output_type": "stream",
     "text": [
      "['apple', 'grape', 100, 3.4, [1, 2], (2, 3)]\n",
      "['apple', 'grape']\n"
     ]
    }
   ],
   "source": [
    "arr = ['apple', 'grape', 100, 3.4,[1,2],(2,3)]\n",
    "print(arr)\n",
    "print(arr[:2])"
   ]
  },
  {
   "cell_type": "code",
   "execution_count": null,
   "metadata": {
    "colab": {
     "base_uri": "https://localhost:8080/"
    },
    "executionInfo": {
     "elapsed": 432,
     "status": "ok",
     "timestamp": 1731233612276,
     "user": {
      "displayName": "Rahad Khan",
      "userId": "08986644268056122993"
     },
     "user_tz": -360
    },
    "id": "01yJyH8ckBWj",
    "outputId": "e715860a-9f63-4203-e878-5f4db4d89106"
   },
   "outputs": [
    {
     "name": "stdout",
     "output_type": "stream",
     "text": [
      "[100, 3.4, [1, 2]]\n"
     ]
    }
   ],
   "source": [
    "print(arr[2:-1])"
   ]
  },
  {
   "cell_type": "code",
   "execution_count": null,
   "metadata": {
    "colab": {
     "base_uri": "https://localhost:8080/"
    },
    "executionInfo": {
     "elapsed": 382,
     "status": "ok",
     "timestamp": 1731220921437,
     "user": {
      "displayName": "Rahad Khan",
      "userId": "08986644268056122993"
     },
     "user_tz": -360
    },
    "id": "aIZtSPDJzrWa",
    "outputId": "51bb554e-f873-4bff-e980-7bd26db18b4a"
   },
   "outputs": [
    {
     "name": "stdout",
     "output_type": "stream",
     "text": [
      "['apple', 'grape', 100, 3.4, [1, 2], (2, 3), [4, 3, 5]]\n"
     ]
    }
   ],
   "source": [
    "arr.append([4,3,5])\n",
    "print(arr)"
   ]
  },
  {
   "cell_type": "code",
   "execution_count": null,
   "metadata": {
    "colab": {
     "base_uri": "https://localhost:8080/"
    },
    "executionInfo": {
     "elapsed": 373,
     "status": "ok",
     "timestamp": 1731220932218,
     "user": {
      "displayName": "Rahad Khan",
      "userId": "08986644268056122993"
     },
     "user_tz": -360
    },
    "id": "P5ingw0szuDD",
    "outputId": "0be9ace0-fbd4-41e2-c12f-f942062d8df9"
   },
   "outputs": [
    {
     "name": "stdout",
     "output_type": "stream",
     "text": [
      "['apple', 560, 'grape', 100, 3.4, [1, 2], (2, 3), [4, 3, 5]]\n"
     ]
    }
   ],
   "source": [
    "arr.insert(1,560)\n",
    "print(arr)"
   ]
  },
  {
   "cell_type": "code",
   "execution_count": null,
   "metadata": {
    "colab": {
     "base_uri": "https://localhost:8080/"
    },
    "executionInfo": {
     "elapsed": 392,
     "status": "ok",
     "timestamp": 1731220942768,
     "user": {
      "displayName": "Rahad Khan",
      "userId": "08986644268056122993"
     },
     "user_tz": -360
    },
    "id": "FxXGs7p5zw3a",
    "outputId": "2d507475-9250-4603-b4e7-552e0d7103ba"
   },
   "outputs": [
    {
     "name": "stdout",
     "output_type": "stream",
     "text": [
      "[4, 3, 5]\n",
      "['apple', 560, 'grape', 100, 3.4, [1, 2], (2, 3)]\n"
     ]
    }
   ],
   "source": [
    "print(arr.pop())\n",
    "print(arr)"
   ]
  },
  {
   "cell_type": "code",
   "execution_count": null,
   "metadata": {
    "colab": {
     "base_uri": "https://localhost:8080/"
    },
    "executionInfo": {
     "elapsed": 395,
     "status": "ok",
     "timestamp": 1731220956072,
     "user": {
      "displayName": "Rahad Khan",
      "userId": "08986644268056122993"
     },
     "user_tz": -360
    },
    "id": "P0DoYs9sz1SJ",
    "outputId": "67fda667-e0e2-4071-8054-33c3de202414"
   },
   "outputs": [
    {
     "name": "stdout",
     "output_type": "stream",
     "text": [
      "None\n",
      "['apple', 560, 'grape', 3.4, [1, 2], (2, 3)]\n"
     ]
    }
   ],
   "source": [
    "print(arr.remove(100))\n",
    "print(arr)"
   ]
  },
  {
   "cell_type": "code",
   "execution_count": null,
   "metadata": {
    "colab": {
     "base_uri": "https://localhost:8080/"
    },
    "executionInfo": {
     "elapsed": 366,
     "status": "ok",
     "timestamp": 1731220968336,
     "user": {
      "displayName": "Rahad Khan",
      "userId": "08986644268056122993"
     },
     "user_tz": -360
    },
    "id": "FpD7AMdpz4UI",
    "outputId": "d33e2dda-2f4a-4b3e-cfc7-907ae3498a78"
   },
   "outputs": [
    {
     "name": "stdout",
     "output_type": "stream",
     "text": [
      "found\n"
     ]
    }
   ],
   "source": [
    "if 'apple' in arr:\n",
    "  print('found')\n",
    "else:\n",
    "  print('Not found')"
   ]
  },
  {
   "cell_type": "code",
   "execution_count": null,
   "metadata": {
    "colab": {
     "base_uri": "https://localhost:8080/"
    },
    "executionInfo": {
     "elapsed": 371,
     "status": "ok",
     "timestamp": 1731220979475,
     "user": {
      "displayName": "Rahad Khan",
      "userId": "08986644268056122993"
     },
     "user_tz": -360
    },
    "id": "eeEeevCpz7Dx",
    "outputId": "6319c4c5-bae9-4209-ef2a-a882eaa9a92e"
   },
   "outputs": [
    {
     "name": "stdout",
     "output_type": "stream",
     "text": [
      "6\n"
     ]
    }
   ],
   "source": [
    "print(len(arr))"
   ]
  },
  {
   "cell_type": "code",
   "execution_count": null,
   "metadata": {
    "colab": {
     "base_uri": "https://localhost:8080/"
    },
    "executionInfo": {
     "elapsed": 513,
     "status": "ok",
     "timestamp": 1731220990998,
     "user": {
      "displayName": "Rahad Khan",
      "userId": "08986644268056122993"
     },
     "user_tz": -360
    },
    "id": "tls7bMoOz8cw",
    "outputId": "9e0cb80e-43ef-41e1-82ed-3cb8f1fab222"
   },
   "outputs": [
    {
     "name": "stdout",
     "output_type": "stream",
     "text": [
      "apple\n",
      "560\n",
      "grape\n",
      "3.4\n",
      "[1, 2]\n",
      "(2, 3)\n"
     ]
    }
   ],
   "source": [
    "for item in arr:\n",
    "  print(item)"
   ]
  },
  {
   "cell_type": "code",
   "execution_count": null,
   "metadata": {
    "colab": {
     "base_uri": "https://localhost:8080/"
    },
    "executionInfo": {
     "elapsed": 369,
     "status": "ok",
     "timestamp": 1731221003877,
     "user": {
      "displayName": "Rahad Khan",
      "userId": "08986644268056122993"
     },
     "user_tz": -360
    },
    "id": "JBzFGR6Yz_rJ",
    "outputId": "4b7fbe25-500c-4f43-8c73-5873f66c0b24"
   },
   "outputs": [
    {
     "name": "stdout",
     "output_type": "stream",
     "text": [
      "apple\n",
      "560\n",
      "grape\n",
      "3.4\n",
      "[1, 2]\n",
      "(2, 3)\n"
     ]
    }
   ],
   "source": [
    "for i in range(len(arr)):\n",
    "  print(arr[i])"
   ]
  },
  {
   "cell_type": "code",
   "execution_count": null,
   "metadata": {
    "colab": {
     "base_uri": "https://localhost:8080/"
    },
    "executionInfo": {
     "elapsed": 426,
     "status": "ok",
     "timestamp": 1731221015097,
     "user": {
      "displayName": "Rahad Khan",
      "userId": "08986644268056122993"
     },
     "user_tz": -360
    },
    "id": "asgMj8Dq0D0o",
    "outputId": "7ece4017-cb23-4ade-e9b1-43428c9ffb2d"
   },
   "outputs": [
    {
     "name": "stdout",
     "output_type": "stream",
     "text": [
      "[1, 2, 3, 4, 5, 1, 2, 3, 4, 5, 1, 2, 3, 4, 5]\n"
     ]
    }
   ],
   "source": [
    "temp = [1,2,3,4,5]\n",
    "print(temp*3)"
   ]
  },
  {
   "cell_type": "code",
   "execution_count": null,
   "metadata": {
    "colab": {
     "base_uri": "https://localhost:8080/"
    },
    "executionInfo": {
     "elapsed": 625,
     "status": "ok",
     "timestamp": 1731221031967,
     "user": {
      "displayName": "Rahad Khan",
      "userId": "08986644268056122993"
     },
     "user_tz": -360
    },
    "id": "9rblNKfd0FNA",
    "outputId": "ad640cbc-3b6d-453b-8cfe-f5306eca3017"
   },
   "outputs": [
    {
     "name": "stdout",
     "output_type": "stream",
     "text": [
      "[1, 2, 3, 4, 5, 6] [1, 2, 3, 4, 5, 6]\n"
     ]
    }
   ],
   "source": [
    "arr2 = temp\n",
    "arr2.append(6)\n",
    "print(temp,arr2)"
   ]
  },
  {
   "cell_type": "code",
   "execution_count": null,
   "metadata": {
    "colab": {
     "base_uri": "https://localhost:8080/"
    },
    "executionInfo": {
     "elapsed": 381,
     "status": "ok",
     "timestamp": 1731221041804,
     "user": {
      "displayName": "Rahad Khan",
      "userId": "08986644268056122993"
     },
     "user_tz": -360
    },
    "id": "flEtLAf90JNI",
    "outputId": "5c71f88d-f190-4cb1-907f-cc4ffc2a0429"
   },
   "outputs": [
    {
     "name": "stdout",
     "output_type": "stream",
     "text": [
      "[1, 2, 3, 4, 5, 6] [1, 2, 3, 4, 5, 6, 7]\n"
     ]
    }
   ],
   "source": [
    "arr2 = temp.copy()\n",
    "arr2.append(7)\n",
    "print(temp,arr2)"
   ]
  },
  {
   "cell_type": "code",
   "execution_count": null,
   "metadata": {
    "colab": {
     "base_uri": "https://localhost:8080/"
    },
    "executionInfo": {
     "elapsed": 689,
     "status": "ok",
     "timestamp": 1735657375931,
     "user": {
      "displayName": "asif uddin ahmed",
      "userId": "00527337476731550440"
     },
     "user_tz": -360
    },
    "id": "8GZvoXeP0Lgg",
    "outputId": "43959890-804f-4ffe-87c4-9123ae4e57a5"
   },
   "outputs": [
    {
     "name": "stdout",
     "output_type": "stream",
     "text": [
      "[1, 2, [4]] [1, 2, [4]] \n",
      "\n",
      "[1, 2, [5]] [1, 2, [5]] \n",
      "\n",
      "[1, 2, []] [1, 2, [5]] \n",
      "\n"
     ]
    }
   ],
   "source": [
    "foo = [1, 2, []]\n",
    "bar = foo\n",
    "bar[-1].append(4)\n",
    "print(foo, bar, '\\n')\n",
    "\n",
    "foo = [1, 2, []]\n",
    "bar = foo.copy()\n",
    "bar[-1].append(5)\n",
    "print(foo, bar, '\\n')\n",
    "\n",
    "import copy\n",
    "foo = [1, 2, []]\n",
    "bar = copy.deepcopy(foo)\n",
    "bar[-1].append(5)\n",
    "print(foo, bar, '\\n')"
   ]
  },
  {
   "cell_type": "markdown",
   "metadata": {
    "id": "-V6GWtGozUiw"
   },
   "source": [
    "### Set\n"
   ]
  },
  {
   "cell_type": "code",
   "execution_count": null,
   "metadata": {
    "colab": {
     "base_uri": "https://localhost:8080/"
    },
    "executionInfo": {
     "elapsed": 648,
     "status": "ok",
     "timestamp": 1731220833716,
     "user": {
      "displayName": "Rahad Khan",
      "userId": "08986644268056122993"
     },
     "user_tz": -360
    },
    "id": "0zt2CJaJzRSM",
    "outputId": "191aa3ed-7592-47d4-b61d-4cb870693e9f"
   },
   "outputs": [
    {
     "name": "stdout",
     "output_type": "stream",
     "text": [
      "{1, 'banana', 'apple'}\n"
     ]
    }
   ],
   "source": [
    "set1 = {\"apple\",\"banana\",1,\"apple\"}\n",
    "print(set1)"
   ]
  },
  {
   "cell_type": "code",
   "execution_count": null,
   "metadata": {
    "colab": {
     "base_uri": "https://localhost:8080/"
    },
    "executionInfo": {
     "elapsed": 385,
     "status": "ok",
     "timestamp": 1731220840545,
     "user": {
      "displayName": "Rahad Khan",
      "userId": "08986644268056122993"
     },
     "user_tz": -360
    },
    "id": "XbNRlpx2zYC0",
    "outputId": "6107f95d-2eff-4efb-cbcb-334f8d28f1e2"
   },
   "outputs": [
    {
     "name": "stdout",
     "output_type": "stream",
     "text": [
      "{True}\n"
     ]
    }
   ],
   "source": [
    "set2 = {True}\n",
    "print(set2)"
   ]
  },
  {
   "cell_type": "code",
   "execution_count": null,
   "metadata": {
    "colab": {
     "base_uri": "https://localhost:8080/"
    },
    "executionInfo": {
     "elapsed": 381,
     "status": "ok",
     "timestamp": 1731220847543,
     "user": {
      "displayName": "Rahad Khan",
      "userId": "08986644268056122993"
     },
     "user_tz": -360
    },
    "id": "ANQnukmIzZx0",
    "outputId": "36099f4b-f728-43c6-b404-cbe7ad8a7e58"
   },
   "outputs": [
    {
     "name": "stdout",
     "output_type": "stream",
     "text": [
      "{1, 'banana', 'apple'}\n"
     ]
    }
   ],
   "source": [
    "set1 = {\"apple\",\"banana\",\"apple\",1,True}\n",
    "print(set1)"
   ]
  },
  {
   "cell_type": "code",
   "execution_count": null,
   "metadata": {
    "colab": {
     "base_uri": "https://localhost:8080/"
    },
    "executionInfo": {
     "elapsed": 400,
     "status": "ok",
     "timestamp": 1731220855241,
     "user": {
      "displayName": "Rahad Khan",
      "userId": "08986644268056122993"
     },
     "user_tz": -360
    },
    "id": "EiMt-mgxzbfM",
    "outputId": "de7fe0d8-614e-426f-9bb0-74ba66459a77"
   },
   "outputs": [
    {
     "name": "stdout",
     "output_type": "stream",
     "text": [
      "{1, 'banana', 'apple', 'mango'}\n"
     ]
    }
   ],
   "source": [
    "set1.add(\"mango\")\n",
    "print(set1)"
   ]
  },
  {
   "cell_type": "code",
   "execution_count": null,
   "metadata": {
    "colab": {
     "base_uri": "https://localhost:8080/"
    },
    "executionInfo": {
     "elapsed": 396,
     "status": "ok",
     "timestamp": 1731220864668,
     "user": {
      "displayName": "Rahad Khan",
      "userId": "08986644268056122993"
     },
     "user_tz": -360
    },
    "id": "1n2uRE2TzdW8",
    "outputId": "4df5bd73-b6fa-4dac-f278-e7e9225b52d3"
   },
   "outputs": [
    {
     "name": "stdout",
     "output_type": "stream",
     "text": [
      "{1, 'mango', 'apple', 'banana', 'yellow'}\n"
     ]
    }
   ],
   "source": [
    "set2 = {\"yellow\",'banana'}\n",
    "set1.update(set2)\n",
    "print(set1)"
   ]
  },
  {
   "cell_type": "code",
   "execution_count": null,
   "metadata": {
    "colab": {
     "base_uri": "https://localhost:8080/"
    },
    "executionInfo": {
     "elapsed": 379,
     "status": "ok",
     "timestamp": 1731220874781,
     "user": {
      "displayName": "Rahad Khan",
      "userId": "08986644268056122993"
     },
     "user_tz": -360
    },
    "id": "3xhpokd7zfqk",
    "outputId": "d21c7288-a173-4eee-ac07-8ba24e1e29e9"
   },
   "outputs": [
    {
     "name": "stdout",
     "output_type": "stream",
     "text": [
      "{1, 'mango', 'apple', 'banana'}\n"
     ]
    }
   ],
   "source": [
    "set1.remove(\"yellow\")\n",
    "print(set1)"
   ]
  },
  {
   "cell_type": "code",
   "execution_count": null,
   "metadata": {
    "colab": {
     "base_uri": "https://localhost:8080/"
    },
    "executionInfo": {
     "elapsed": 402,
     "status": "ok",
     "timestamp": 1731220882430,
     "user": {
      "displayName": "Rahad Khan",
      "userId": "08986644268056122993"
     },
     "user_tz": -360
    },
    "id": "G8oROMBOziGc",
    "outputId": "a72f799c-7d19-44fb-c389-b897d65731ce"
   },
   "outputs": [
    {
     "name": "stdout",
     "output_type": "stream",
     "text": [
      "1\n",
      "mango\n",
      "apple\n",
      "banana\n"
     ]
    }
   ],
   "source": [
    "# set can't access by index\n",
    "for x in set1:\n",
    "  print(x)"
   ]
  },
  {
   "cell_type": "markdown",
   "metadata": {
    "id": "DtfcIkqq2Xk7"
   },
   "source": [
    "### Dictionary"
   ]
  },
  {
   "cell_type": "code",
   "execution_count": null,
   "metadata": {
    "id": "6aExeTkgzj_s"
   },
   "outputs": [],
   "source": [
    "person = {\n",
    "    \"name\" : \"Rahad Khan\",\n",
    "    \"email\" : \"rahad@cse.uiu.ac.bd\",\n",
    "    \"joined\" : 2022,\n",
    "    \"course\" : [\"SPL\",\"AI\",\"DSA\"]\n",
    "}"
   ]
  },
  {
   "cell_type": "code",
   "execution_count": null,
   "metadata": {
    "colab": {
     "base_uri": "https://localhost:8080/"
    },
    "executionInfo": {
     "elapsed": 419,
     "status": "ok",
     "timestamp": 1731221638927,
     "user": {
      "displayName": "Rahad Khan",
      "userId": "08986644268056122993"
     },
     "user_tz": -360
    },
    "id": "lXsT_Q842a-6",
    "outputId": "f60f8164-c0ea-41d4-a977-51b68eec79f2"
   },
   "outputs": [
    {
     "name": "stdout",
     "output_type": "stream",
     "text": [
      "{'name': 'Rahad Khan', 'email': 'rahad@cse.uiu.ac.bd', 'joined': 2022, 'course': ['SPL', 'AI', 'DSA']}\n",
      "dict_keys(['name', 'email', 'joined', 'course'])\n",
      "dict_values(['Rahad Khan', 'rahad@cse.uiu.ac.bd', 2022, ['SPL', 'AI', 'DSA']])\n"
     ]
    }
   ],
   "source": [
    "print(person)\n",
    "print(person.keys())\n",
    "print(person.values())"
   ]
  },
  {
   "cell_type": "code",
   "execution_count": null,
   "metadata": {
    "colab": {
     "base_uri": "https://localhost:8080/"
    },
    "executionInfo": {
     "elapsed": 402,
     "status": "ok",
     "timestamp": 1731221647955,
     "user": {
      "displayName": "Rahad Khan",
      "userId": "08986644268056122993"
     },
     "user_tz": -360
    },
    "id": "GCCuqL0b2crH",
    "outputId": "81e4a269-105f-475e-93ba-43cad57ae2b2"
   },
   "outputs": [
    {
     "name": "stdout",
     "output_type": "stream",
     "text": [
      "2022\n",
      "2022\n",
      "True\n"
     ]
    }
   ],
   "source": [
    "print(person.get('joined')) #get(key)\n",
    "print(person['joined']) # We will use this approach often\n",
    "print(\"name\" in person)"
   ]
  },
  {
   "cell_type": "code",
   "execution_count": null,
   "metadata": {
    "colab": {
     "base_uri": "https://localhost:8080/"
    },
    "executionInfo": {
     "elapsed": 406,
     "status": "ok",
     "timestamp": 1731221658122,
     "user": {
      "displayName": "Rahad Khan",
      "userId": "08986644268056122993"
     },
     "user_tz": -360
    },
    "id": "-Br3iTSW2ez3",
    "outputId": "0e80b013-9b75-48df-da31-510b374c0680"
   },
   "outputs": [
    {
     "name": "stdout",
     "output_type": "stream",
     "text": [
      "name ---> Rahad Khan\n",
      "email ---> rahad@cse.uiu.ac.bd\n",
      "joined ---> 2022\n",
      "course ---> ['SPL', 'AI', 'DSA']\n"
     ]
    }
   ],
   "source": [
    "for key in person:# We will use this approach often.\n",
    "  print(key,\"--->\",person[key])"
   ]
  },
  {
   "cell_type": "code",
   "execution_count": null,
   "metadata": {
    "colab": {
     "base_uri": "https://localhost:8080/"
    },
    "executionInfo": {
     "elapsed": 401,
     "status": "ok",
     "timestamp": 1731221667134,
     "user": {
      "displayName": "Rahad Khan",
      "userId": "08986644268056122993"
     },
     "user_tz": -360
    },
    "id": "Fw2NWuvc2hXg",
    "outputId": "9a8c864e-9be7-4392-f2c4-ffc4480559be"
   },
   "outputs": [
    {
     "name": "stdout",
     "output_type": "stream",
     "text": [
      "['SPL', 'AI', 'DSA']\n",
      "{'name': 'Rahad Khan', 'email': 'rahad@cse.uiu.ac.bd', 'joined': 2022}\n",
      "{'name': 'Rahad Khan', 'email': 'rahad@cse.uiu.ac.bd', 'joined': 2022, 'course': ['OOP', 'AOOP']}\n"
     ]
    }
   ],
   "source": [
    "print(person.pop('course'))\n",
    "print(person)\n",
    "\n",
    "person['course'] = [\"OOP\",\"AOOP\"]\n",
    "print(person)"
   ]
  },
  {
   "cell_type": "markdown",
   "metadata": {
    "id": "F9SW66FU2tUs"
   },
   "source": [
    "### write a code that counts the frequency of each letter in a sentence"
   ]
  },
  {
   "cell_type": "code",
   "execution_count": null,
   "metadata": {
    "id": "HRrx60oR2jk_"
   },
   "outputs": [],
   "source": [
    "graph = {\n",
    "    \"A\" :[\"B\",\"C\",\"D\"],\n",
    "    \"B\" :[\"A\",\"C\",\"D\"],\n",
    "    \"C\" :[\"A\",\"B\",\"E\"],\n",
    "    \"D\" :[\"A\",\"B\",\"E\"],\n",
    "    \"E\" :[\"C\",\"D\"]\n",
    "    }"
   ]
  },
  {
   "cell_type": "code",
   "execution_count": null,
   "metadata": {
    "colab": {
     "base_uri": "https://localhost:8080/"
    },
    "executionInfo": {
     "elapsed": 428,
     "status": "ok",
     "timestamp": 1731221729839,
     "user": {
      "displayName": "Rahad Khan",
      "userId": "08986644268056122993"
     },
     "user_tz": -360
    },
    "id": "yBr3dtyd2rnV",
    "outputId": "a61be459-eb3e-4171-e681-fe52f1005d6c"
   },
   "outputs": [
    {
     "name": "stdout",
     "output_type": "stream",
     "text": [
      "A -> ['B', 'C', 'D']\n",
      "B -> ['A', 'C', 'D']\n",
      "C -> ['A', 'B', 'E']\n",
      "D -> ['A', 'B', 'E']\n",
      "E -> ['C', 'D']\n"
     ]
    }
   ],
   "source": [
    "for vertex in graph:\n",
    "  print(vertex,\"->\",graph[vertex])"
   ]
  },
  {
   "cell_type": "markdown",
   "metadata": {
    "id": "mGOZno7U238l"
   },
   "source": [
    "## Class in python"
   ]
  },
  {
   "cell_type": "code",
   "execution_count": null,
   "metadata": {
    "colab": {
     "base_uri": "https://localhost:8080/"
    },
    "executionInfo": {
     "elapsed": 586,
     "status": "ok",
     "timestamp": 1731221775899,
     "user": {
      "displayName": "Rahad Khan",
      "userId": "08986644268056122993"
     },
     "user_tz": -360
    },
    "id": "22E9cXBT2y4A",
    "outputId": "0f18af42-fda6-447c-cc48-ecc09ce03fad"
   },
   "outputs": [
    {
     "name": "stdout",
     "output_type": "stream",
     "text": [
      "Name: John and his/her age is:36\n"
     ]
    }
   ],
   "source": [
    "class Person:\n",
    "  def __init__(self, name, age):\n",
    "    self.name = name\n",
    "    self.age = age\n",
    "\n",
    "  def __str__(self):\n",
    "    return f\"Name: {self.name} and his/her age is:{self.age}\"\n",
    "\n",
    "p1 = Person(\"John\", 36)\n",
    "\n",
    "print(p1)"
   ]
  },
  {
   "cell_type": "code",
   "execution_count": null,
   "metadata": {
    "id": "q5LDVGp72-FA"
   },
   "outputs": [],
   "source": [
    "class Employee:\n",
    "  emp_num = 0 # works like static variable common to all objects of a class\n",
    "\n",
    "  def __init__(self, first, last, pay): # constructor\n",
    "    self.first = first # member variable\n",
    "    self.last = last # member variable\n",
    "    self.email = first + '.' + last + '@email.com' # member variable\n",
    "    self.pay = pay # member variable\n",
    "    apple = 1 # not member variable\n",
    "    Employee.emp_num += 1 # static variable\n",
    "\n",
    "  def fullname(self): # self is comparable to this keyword of Java\n",
    "    return f'{self.first} {self.last}'# \"%s %s\", self.first, self.last\n",
    "\n",
    "  def applyRaise(self, raise_):\n",
    "    self.pay = int(self.pay * raise_)\n",
    "\n",
    "  def __str__(self): # toString()\n",
    "    return f'{self.fullname()} - {self.email}: {self.pay}'\n",
    "\n",
    "  @staticmethod # (Decorator) same working procedure for all objects of a class\n",
    "  def is_holiday(day):\n",
    "    holidays = [1, 30, 49, 350]\n",
    "    if day in holidays:\n",
    "        return True\n",
    "    else:\n",
    "      return False\n"
   ]
  },
  {
   "cell_type": "code",
   "execution_count": null,
   "metadata": {
    "colab": {
     "base_uri": "https://localhost:8080/"
    },
    "executionInfo": {
     "elapsed": 3,
     "status": "ok",
     "timestamp": 1731221800221,
     "user": {
      "displayName": "Rahad Khan",
      "userId": "08986644268056122993"
     },
     "user_tz": -360
    },
    "id": "f6kQS0TT3Bcn",
    "outputId": "4a4d8671-7408-48ea-8f1d-af3f149aaa86"
   },
   "outputs": [
    {
     "name": "stdout",
     "output_type": "stream",
     "text": [
      "0\n",
      "2\n",
      "Corey Schafer\n",
      "75000\n",
      "True\n",
      "False\n",
      "Corey Schafer - Corey.Schafer@email.com: 75000\n"
     ]
    }
   ],
   "source": [
    "print(Employee.emp_num) # 0\n",
    "\n",
    "emp_1 = Employee('Corey', 'Schafer', 50000)\n",
    "emp_2 = Employee('Test', 'Employee', 60000)\n",
    "\n",
    "\n",
    "print(Employee.emp_num) # 2\n",
    "\n",
    "print(emp_1.fullname()) # Corey Schafer\n",
    "\n",
    "emp_1.applyRaise(1.5)\n",
    "print(emp_1.pay) # 75000\n",
    "\n",
    "print(Employee.is_holiday(30)) # True\n",
    "print(Employee.is_holiday(31)) # False\n",
    "\n",
    "print(emp_1) # Corey Schafer corey.schafer@gmail.com 75000"
   ]
  },
  {
   "cell_type": "code",
   "execution_count": null,
   "metadata": {
    "id": "SpwQfOTs3EHP"
   },
   "outputs": [],
   "source": [
    "class Developer(Employee):\n",
    "    def __init__(self, first, last, pay, prog_lang):\n",
    "        super().__init__(first, last, pay) # call parent class constructor\n",
    "        self.prog_lang = prog_lang\n",
    "\n",
    "\n",
    "class Manager(Employee):\n",
    "  def __init__(self, first, last, pay, employees=None):\n",
    "      super().__init__(first, last, pay)\n",
    "      if employees is None:\n",
    "          self.employees = []\n",
    "      else:\n",
    "          self.employees = employees\n",
    "\n",
    "  def add_emp(self, emp):\n",
    "      if emp not in self.employees:\n",
    "          self.employees.append(emp)\n",
    "\n",
    "  def remove_emp(self, emp):\n",
    "      if emp in self.employees:\n",
    "          self.employees.remove(emp)\n",
    "\n",
    "  def print_emps(self):\n",
    "      for emp in self.employees:\n",
    "          print('-->', emp.fullname())\n"
   ]
  },
  {
   "cell_type": "code",
   "execution_count": null,
   "metadata": {
    "colab": {
     "base_uri": "https://localhost:8080/"
    },
    "executionInfo": {
     "elapsed": 376,
     "status": "ok",
     "timestamp": 1731221823570,
     "user": {
      "displayName": "Rahad Khan",
      "userId": "08986644268056122993"
     },
     "user_tz": -360
    },
    "id": "YBIQ1iL_3HXv",
    "outputId": "f596958b-41dc-4675-b585-5c7dd361332b"
   },
   "outputs": [
    {
     "name": "stdout",
     "output_type": "stream",
     "text": [
      "Sue.Smith@email.com\n",
      "--> Corey Schafer\n",
      "--> Test Employee\n",
      "\n",
      "--> Corey Schafer\n",
      "\n",
      "True\n",
      "True\n",
      "False\n",
      "\n",
      "True\n"
     ]
    }
   ],
   "source": [
    "dev_1 = Developer('Corey', 'Schafer', 50000, 'Python')\n",
    "dev_2 = Developer('Test', 'Employee', 60000, 'Java')\n",
    "\n",
    "mgr_1 = Manager('Sue', 'Smith', 90000, [dev_1])\n",
    "print(mgr_1.email)\n",
    "\n",
    "mgr_1.add_emp(dev_2)\n",
    "mgr_1.print_emps()\n",
    "print()\n",
    "\n",
    "mgr_1.remove_emp(dev_2)\n",
    "mgr_1.print_emps()\n",
    "print()\n",
    "\n",
    "print(isinstance(mgr_1, Manager))  # Is mgr_1 an instance of Manager?\n",
    "print(isinstance(mgr_1, Employee))\n",
    "print(isinstance(mgr_1, Developer))\n",
    "print()\n",
    "\n",
    "print(issubclass(Developer, Employee)) # Is Developer class a subclass of Employee class??"
   ]
  },
  {
   "cell_type": "markdown",
   "metadata": {
    "id": "XExXrCjj3Oj0"
   },
   "source": [
    "### write a class Point to store the x,y coords of 2D points.\n",
    "1. The class should have the methods move_left, move_right, move_up, move down.\n",
    "2. move_left moves the point 1 cell to the left, move_right moves the point 1 cell to the right\n",
    "3. move_up moves the point 1 cell up, and move_down moves the point 1 cell down\n",
    "4. write a distance function to calculate the manhattan distance between two points"
   ]
  },
  {
   "cell_type": "code",
   "execution_count": null,
   "metadata": {
    "colab": {
     "base_uri": "https://localhost:8080/"
    },
    "executionInfo": {
     "elapsed": 395,
     "status": "ok",
     "timestamp": 1732633636764,
     "user": {
      "displayName": "asif uddin ahmed",
      "userId": "00527337476731550440"
     },
     "user_tz": -360
    },
    "id": "6Hp0DTNDAr9Z",
    "outputId": "731f96f9-c624-4cbe-ff6f-d5cc1d2868d2"
   },
   "outputs": [
    {
     "name": "stdout",
     "output_type": "stream",
     "text": [
      "Initial positions: Point(2, 3), Point(5, 1)\n",
      "Point1 after movements: Point(1, 4)\n",
      "Manhattan distance between Point(1, 4) and Point(5, 1): 7\n"
     ]
    }
   ],
   "source": [
    "\n",
    "class Point:\n",
    "\n",
    "    def __init__(self, x, y):\n",
    "        self.x = x\n",
    "        self.y = y\n",
    "\n",
    "    def move_left(self):\n",
    "        self.x -= 1\n",
    "\n",
    "    def move_right(self):\n",
    "        self.x += 1\n",
    "\n",
    "    def move_up(self):\n",
    "        self.y += 1\n",
    "\n",
    "    def move_down(self):\n",
    "        self.y -= 1\n",
    "\n",
    "    def __str__(self):\n",
    "        return f\"Point({self.x}, {self.y})\"\n",
    "\n",
    "    @staticmethod\n",
    "    def manhattan_distance(p1, p2):\n",
    "        return abs(p1.x - p2.x) + abs(p1.y - p2.y)\n",
    "\n",
    "\n",
    "if __name__ == \"__main__\":\n",
    "    point1 = Point(2, 3)\n",
    "    point2 = Point(5, 1)\n",
    "\n",
    "    print(f\"Initial positions: {point1}, {point2}\")\n",
    "    point1.move_left()\n",
    "    point1.move_up()\n",
    "    print(f\"Point1 after movements: {point1}\")\n",
    "\n",
    "    distance = Point.manhattan_distance(point1, point2)\n",
    "    print(f\"Manhattan distance between {point1} and {point2}: {distance}\")\n"
   ]
  },
  {
   "cell_type": "markdown",
   "metadata": {
    "id": "FsxYqQPV3T0k"
   },
   "source": [
    "## Numpy\n"
   ]
  },
  {
   "cell_type": "code",
   "execution_count": 2,
   "metadata": {
    "id": "vHBAeQ6a3JuP"
   },
   "outputs": [],
   "source": [
    "# numpy tutorial - http://cs231n.github.io/python-numpy-tutorial/#numpy-arrays\n",
    "# numpy uses the facility of GPU. So, try to use it instead of for loop\n",
    "import numpy as np"
   ]
  },
  {
   "cell_type": "code",
   "execution_count": null,
   "metadata": {
    "colab": {
     "base_uri": "https://localhost:8080/"
    },
    "executionInfo": {
     "elapsed": 2,
     "status": "ok",
     "timestamp": 1732085084181,
     "user": {
      "displayName": "asif uddin ahmed",
      "userId": "00527337476731550440"
     },
     "user_tz": -360
    },
    "id": "Gq7aqQbz3X9U",
    "outputId": "92d83627-4cba-4661-b991-9c81cd199238"
   },
   "outputs": [
    {
     "name": "stdout",
     "output_type": "stream",
     "text": [
      "<class 'list'>\n",
      "<class 'numpy.ndarray'>\n"
     ]
    }
   ],
   "source": [
    "a = [3, 6, 7]\n",
    "print(type(a))\n",
    "arr = np.array(a)\n",
    "print(type(arr))\n",
    "\n"
   ]
  },
  {
   "cell_type": "code",
   "execution_count": null,
   "metadata": {
    "colab": {
     "base_uri": "https://localhost:8080/"
    },
    "executionInfo": {
     "elapsed": 495,
     "status": "ok",
     "timestamp": 1735667890349,
     "user": {
      "displayName": "asif uddin ahmed",
      "userId": "00527337476731550440"
     },
     "user_tz": -360
    },
    "id": "NVmorIWn3Zno",
    "outputId": "57f09f0a-5d63-4356-f518-b41a64feec44"
   },
   "outputs": [
    {
     "name": "stdout",
     "output_type": "stream",
     "text": [
      "4\n"
     ]
    }
   ],
   "source": [
    "book_list = [['ics','dm','dld', 'dsa'],['c','java','python', 'c++']]\n",
    "book_arr = np.array(book_list)\n",
    "print(book_arr.shape[1])"
   ]
  },
  {
   "cell_type": "code",
   "execution_count": 3,
   "metadata": {
    "colab": {
     "base_uri": "https://localhost:8080/"
    },
    "executionInfo": {
     "elapsed": 368,
     "status": "ok",
     "timestamp": 1731221923950,
     "user": {
      "displayName": "Rahad Khan",
      "userId": "08986644268056122993"
     },
     "user_tz": -360
    },
    "id": "j-XcvVsG3ggP",
    "outputId": "907de97e-f076-49a2-cb2b-29210863b297"
   },
   "outputs": [
    {
     "name": "stdout",
     "output_type": "stream",
     "text": [
      "(2, 2)\n"
     ]
    }
   ],
   "source": [
    "a = [\n",
    "     [1, 4],\n",
    "     [3, 5]\n",
    "]\n",
    "a = np.array(a)\n",
    "print(a.shape)"
   ]
  },
  {
   "cell_type": "code",
   "execution_count": 7,
   "metadata": {
    "colab": {
     "base_uri": "https://localhost:8080/"
    },
    "executionInfo": {
     "elapsed": 383,
     "status": "ok",
     "timestamp": 1731221933428,
     "user": {
      "displayName": "Rahad Khan",
      "userId": "08986644268056122993"
     },
     "user_tz": -360
    },
    "id": "jz9MwIn13iR3",
    "outputId": "24f53803-32e3-427f-d010-22e960c0fff3"
   },
   "outputs": [
    {
     "name": "stdout",
     "output_type": "stream",
     "text": [
      "4\n",
      "[4 5]\n"
     ]
    }
   ],
   "source": [
    "print(a[0,1])\n",
    "print(a[:,1])"
   ]
  },
  {
   "cell_type": "code",
   "execution_count": null,
   "metadata": {
    "colab": {
     "base_uri": "https://localhost:8080/"
    },
    "executionInfo": {
     "elapsed": 564,
     "status": "ok",
     "timestamp": 1735663587985,
     "user": {
      "displayName": "asif uddin ahmed",
      "userId": "00527337476731550440"
     },
     "user_tz": -360
    },
    "id": "QxXsWXBX3klX",
    "outputId": "2f69eb9f-ebe9-44fc-a405-615452918167"
   },
   "outputs": [
    {
     "name": "stdout",
     "output_type": "stream",
     "text": [
      "[[0.24368885 0.8065591  0.50695374 0.61552625 0.25738599]\n",
      " [0.66203892 0.24291312 0.95529404 0.69414786 0.12850207]\n",
      " [0.42976043 0.95845318 0.11812095 0.90742943 0.49568878]\n",
      " [0.85667183 0.15440964 0.5345324  0.76600628 0.73507528]]\n",
      "[[ 36  38 140 186 195]\n",
      " [128 161  21  54 193]\n",
      " [ 97 129  42  27 120]\n",
      " [ 57 193 111 102 129]]\n"
     ]
    }
   ],
   "source": [
    "a = np.random.random((4, 5))\n",
    "print(a)\n",
    "a = np.random.randint(20, 200, (4, 5))\n",
    "#a = np.random.randint(low=0, high=10, size=(4, 5))\n",
    "print(a)"
   ]
  },
  {
   "cell_type": "code",
   "execution_count": null,
   "metadata": {
    "colab": {
     "base_uri": "https://localhost:8080/"
    },
    "executionInfo": {
     "elapsed": 406,
     "status": "ok",
     "timestamp": 1731221952476,
     "user": {
      "displayName": "Rahad Khan",
      "userId": "08986644268056122993"
     },
     "user_tz": -360
    },
    "id": "Kzf4OqgB3mqn",
    "outputId": "ebc45ee6-9cee-44f5-e292-2cb5620eda39"
   },
   "outputs": [
    {
     "name": "stdout",
     "output_type": "stream",
     "text": [
      "[[0. 0.]\n",
      " [0. 0.]]\n",
      "[[1. 1.]]\n",
      "[[7 7]\n",
      " [7 7]]\n",
      "[[1. 0. 0.]\n",
      " [0. 1. 0.]\n",
      " [0. 0. 1.]]\n"
     ]
    }
   ],
   "source": [
    "a = np.zeros((2,2))   # Create an array of all zeros\n",
    "print(a)              # Prints \"[[ 0.  0.]\n",
    "                      #          [ 0.  0.]]\"\n",
    "\n",
    "b = np.ones((1,2))    # Create an array of all ones\n",
    "print(b)              # Prints \"[[ 1.  1.]]\"\n",
    "\n",
    "c = np.full((2,2), 7)  # Create a constant array\n",
    "print(c)               # Prints \"[[ 7.  7.]\n",
    "                       #          [ 7.  7.]]\"\n",
    "\n",
    "d = np.eye(3)# Create a 2x2 identity matrix\n",
    "print(d)              # Prints \"[[ 1.  0.]\n",
    "                      #          [ 0.  1.]]\""
   ]
  },
  {
   "cell_type": "code",
   "execution_count": null,
   "metadata": {
    "colab": {
     "base_uri": "https://localhost:8080/"
    },
    "executionInfo": {
     "elapsed": 423,
     "status": "ok",
     "timestamp": 1731221962524,
     "user": {
      "displayName": "Rahad Khan",
      "userId": "08986644268056122993"
     },
     "user_tz": -360
    },
    "id": "L7auPCi13pIz",
    "outputId": "5d540534-5a10-4ae2-ba90-662216d132e5"
   },
   "outputs": [
    {
     "name": "stdout",
     "output_type": "stream",
     "text": [
      "[[ 6  8]\n",
      " [10 12]]\n",
      "[[ 6  8]\n",
      " [10 12]]\n",
      "[[101 102]\n",
      " [103 104]]\n",
      "[[50.5 51. ]\n",
      " [51.5 52. ]]\n"
     ]
    }
   ],
   "source": [
    "x = np.array([[1,2],[3,4]])\n",
    "y = np.array([[5,6],[7,8]])\n",
    "\n",
    "print(x + y)\n",
    "print(np.add(x, y)) #time complexity O(1) if we use GPU\n",
    "\n",
    "print( x+100 )\n",
    "print((x+100) / 2)"
   ]
  },
  {
   "cell_type": "code",
   "execution_count": null,
   "metadata": {
    "colab": {
     "base_uri": "https://localhost:8080/"
    },
    "executionInfo": {
     "elapsed": 438,
     "status": "ok",
     "timestamp": 1731221970338,
     "user": {
      "displayName": "Rahad Khan",
      "userId": "08986644268056122993"
     },
     "user_tz": -360
    },
    "id": "AOYO95Lp3riX",
    "outputId": "63c56a85-d605-4e08-9486-2a19124853fa"
   },
   "outputs": [
    {
     "name": "stdout",
     "output_type": "stream",
     "text": [
      "[[0.2        0.33333333]\n",
      " [0.42857143 0.5       ]]\n",
      "[[ 5 12]\n",
      " [21 32]]\n"
     ]
    }
   ],
   "source": [
    "x = np.array([[1,2],[3,4]])\n",
    "y = np.array([[5,6],[7,8]])\n",
    "z= x/y\n",
    "print(z)\n",
    "z = x*y # element wise multiplication\n",
    "print(z)\n"
   ]
  },
  {
   "cell_type": "code",
   "execution_count": null,
   "metadata": {
    "colab": {
     "base_uri": "https://localhost:8080/"
    },
    "executionInfo": {
     "elapsed": 406,
     "status": "ok",
     "timestamp": 1731221978067,
     "user": {
      "displayName": "Rahad Khan",
      "userId": "08986644268056122993"
     },
     "user_tz": -360
    },
    "id": "PW4jk_sM3tlH",
    "outputId": "47513a38-6050-4d08-cfac-57248b4970f6"
   },
   "outputs": [
    {
     "name": "stdout",
     "output_type": "stream",
     "text": [
      "[[18  5]\n",
      " [42 11]]\n"
     ]
    }
   ],
   "source": [
    "a = np.array([[1,2,3],\n",
    "              [4,5,6]])\n",
    "b = np.array([[3,1],\n",
    "              [0,-1],\n",
    "              [5,2]])\n",
    "z = np.dot(a,b)\n",
    "#z = a.dot(b)\n",
    "print(z)"
   ]
  },
  {
   "cell_type": "code",
   "execution_count": null,
   "metadata": {
    "colab": {
     "base_uri": "https://localhost:8080/"
    },
    "executionInfo": {
     "elapsed": 372,
     "status": "ok",
     "timestamp": 1731221989441,
     "user": {
      "displayName": "Rahad Khan",
      "userId": "08986644268056122993"
     },
     "user_tz": -360
    },
    "id": "ubgXwtDa3vfP",
    "outputId": "94a45979-9236-4ed1-d8aa-4986b27b8ccc"
   },
   "outputs": [
    {
     "name": "stdout",
     "output_type": "stream",
     "text": [
      "16\n",
      "[4 6 6]\n",
      "[8 8]\n"
     ]
    }
   ],
   "source": [
    "x = np.array([\n",
    "              [1,2,5],\n",
    "              [3,4,1]\n",
    "              ])\n",
    "\n",
    "print(np.sum(x))  # Compute sum of all elements; prints \"10\"\n",
    "print(np.sum(x, axis=0))  # Compute sum of each column; prints \"[4 6 6]\"\n",
    "print(np.sum(x, axis=1))  # Compute sum of each row; prints \"[8 8]\""
   ]
  },
  {
   "cell_type": "code",
   "execution_count": null,
   "metadata": {
    "colab": {
     "base_uri": "https://localhost:8080/"
    },
    "executionInfo": {
     "elapsed": 517,
     "status": "ok",
     "timestamp": 1735668688254,
     "user": {
      "displayName": "asif uddin ahmed",
      "userId": "00527337476731550440"
     },
     "user_tz": -360
    },
    "id": "FGfI_JOA3yQ3",
    "outputId": "41613f4b-729b-4ef2-ab5a-d2aa4a0e2f84"
   },
   "outputs": [
    {
     "name": "stdout",
     "output_type": "stream",
     "text": [
      "[[1]\n",
      " [2]\n",
      " [3]]\n",
      "(3, 1)\n",
      "(2,)\n",
      "[[ 4  5]\n",
      " [ 8 10]\n",
      " [12 15]]\n"
     ]
    }
   ],
   "source": [
    "v = np.array([1,2,3])  # v has shape (3,)\n",
    "w = np.array([4,5])    # w has shape (2,)\n",
    "#print(v * w) # can't do this, need to reshape\n",
    "v = np.reshape(v, (3, 1))\n",
    "print(v)\n",
    "print(v.shape)\n",
    "print(w.shape)\n",
    "\n",
    "print(v * w)"
   ]
  },
  {
   "cell_type": "code",
   "execution_count": null,
   "metadata": {
    "colab": {
     "base_uri": "https://localhost:8080/"
    },
    "executionInfo": {
     "elapsed": 579,
     "status": "ok",
     "timestamp": 1735668781730,
     "user": {
      "displayName": "asif uddin ahmed",
      "userId": "00527337476731550440"
     },
     "user_tz": -360
    },
    "id": "noH4rB4E30Nf",
    "outputId": "d8be890b-cbca-468c-9f45-6668cca36115"
   },
   "outputs": [
    {
     "name": "stdout",
     "output_type": "stream",
     "text": [
      "(3, 4)\n",
      "[[[ 1  2]\n",
      "  [ 3  4]\n",
      "  [ 1  0]]\n",
      "\n",
      " [[-1  5]\n",
      "  [ 4  5]\n",
      "  [ 6  6]]]\n"
     ]
    }
   ],
   "source": [
    "a = np.array([[1,2,3,4],\n",
    "              [1,0,-1,5],\n",
    "              [4,5,6,6]])\n",
    "print(a.shape)\n",
    "b = np.reshape(a,(2,3,2))\n",
    "print(b)"
   ]
  },
  {
   "cell_type": "code",
   "execution_count": null,
   "metadata": {
    "colab": {
     "base_uri": "https://localhost:8080/"
    },
    "executionInfo": {
     "elapsed": 412,
     "status": "ok",
     "timestamp": 1731222018276,
     "user": {
      "displayName": "Rahad Khan",
      "userId": "08986644268056122993"
     },
     "user_tz": -360
    },
    "id": "XI8nA80U32vH",
    "outputId": "d01c0bb6-5eea-4947-9382-bc84606938b6"
   },
   "outputs": [
    {
     "name": "stdout",
     "output_type": "stream",
     "text": [
      "[[17 24 47]\n",
      " [15 24 57]]\n"
     ]
    }
   ],
   "source": [
    "a = np.array([[2,5],[6,3]])\n",
    "b = np.array([[1,3],\n",
    "             [2,4],\n",
    "             [6,7]])\n",
    "z = np.dot(a,b.T)\n",
    "print(z)"
   ]
  },
  {
   "cell_type": "markdown",
   "metadata": {
    "id": "s3BsjV954Hv6"
   },
   "source": [
    "## Pandas"
   ]
  },
  {
   "cell_type": "code",
   "execution_count": null,
   "metadata": {
    "id": "2O7EAzot35S_"
   },
   "outputs": [],
   "source": [
    "import pandas as pd"
   ]
  },
  {
   "cell_type": "markdown",
   "metadata": {
    "id": "mRWvTgmK4Ods"
   },
   "source": [
    "### Load dataset\n",
    "1. load dataset using pandas\n",
    "2. get infomation about data, columns, and statistics"
   ]
  },
  {
   "cell_type": "code",
   "execution_count": null,
   "metadata": {
    "id": "nv1UkMat4LF3"
   },
   "outputs": [],
   "source": [
    "PATH = '/content/drive/MyDrive/Research/Dataset/ET_result.csv'"
   ]
  },
  {
   "cell_type": "code",
   "execution_count": null,
   "metadata": {
    "colab": {
     "base_uri": "https://localhost:8080/",
     "height": 304
    },
    "executionInfo": {
     "elapsed": 426,
     "status": "error",
     "timestamp": 1731222128592,
     "user": {
      "displayName": "Rahad Khan",
      "userId": "08986644268056122993"
     },
     "user_tz": -360
    },
    "id": "1Ody1diW4R7B",
    "outputId": "6558bf60-bc15-4422-d31d-f5cf1dc0d6bd"
   },
   "outputs": [
    {
     "ename": "FileNotFoundError",
     "evalue": "[Errno 2] No such file or directory: '/content/drive/MyDrive/Research/Dataset/ET_result.csv'",
     "output_type": "error",
     "traceback": [
      "\u001b[0;31m---------------------------------------------------------------------------\u001b[0m",
      "\u001b[0;31mFileNotFoundError\u001b[0m                         Traceback (most recent call last)",
      "\u001b[0;32m<ipython-input-87-bc66449ffb3d>\u001b[0m in \u001b[0;36m<cell line: 1>\u001b[0;34m()\u001b[0m\n\u001b[0;32m----> 1\u001b[0;31m \u001b[0mdf\u001b[0m \u001b[0;34m=\u001b[0m \u001b[0mpd\u001b[0m\u001b[0;34m.\u001b[0m\u001b[0mread_csv\u001b[0m\u001b[0;34m(\u001b[0m\u001b[0mPATH\u001b[0m\u001b[0;34m)\u001b[0m\u001b[0;34m\u001b[0m\u001b[0;34m\u001b[0m\u001b[0m\n\u001b[0m",
      "\u001b[0;32m/usr/local/lib/python3.10/dist-packages/pandas/io/parsers/readers.py\u001b[0m in \u001b[0;36mread_csv\u001b[0;34m(filepath_or_buffer, sep, delimiter, header, names, index_col, usecols, dtype, engine, converters, true_values, false_values, skipinitialspace, skiprows, skipfooter, nrows, na_values, keep_default_na, na_filter, verbose, skip_blank_lines, parse_dates, infer_datetime_format, keep_date_col, date_parser, date_format, dayfirst, cache_dates, iterator, chunksize, compression, thousands, decimal, lineterminator, quotechar, quoting, doublequote, escapechar, comment, encoding, encoding_errors, dialect, on_bad_lines, delim_whitespace, low_memory, memory_map, float_precision, storage_options, dtype_backend)\u001b[0m\n\u001b[1;32m   1024\u001b[0m     \u001b[0mkwds\u001b[0m\u001b[0;34m.\u001b[0m\u001b[0mupdate\u001b[0m\u001b[0;34m(\u001b[0m\u001b[0mkwds_defaults\u001b[0m\u001b[0;34m)\u001b[0m\u001b[0;34m\u001b[0m\u001b[0;34m\u001b[0m\u001b[0m\n\u001b[1;32m   1025\u001b[0m \u001b[0;34m\u001b[0m\u001b[0m\n\u001b[0;32m-> 1026\u001b[0;31m     \u001b[0;32mreturn\u001b[0m \u001b[0m_read\u001b[0m\u001b[0;34m(\u001b[0m\u001b[0mfilepath_or_buffer\u001b[0m\u001b[0;34m,\u001b[0m \u001b[0mkwds\u001b[0m\u001b[0;34m)\u001b[0m\u001b[0;34m\u001b[0m\u001b[0;34m\u001b[0m\u001b[0m\n\u001b[0m\u001b[1;32m   1027\u001b[0m \u001b[0;34m\u001b[0m\u001b[0m\n\u001b[1;32m   1028\u001b[0m \u001b[0;34m\u001b[0m\u001b[0m\n",
      "\u001b[0;32m/usr/local/lib/python3.10/dist-packages/pandas/io/parsers/readers.py\u001b[0m in \u001b[0;36m_read\u001b[0;34m(filepath_or_buffer, kwds)\u001b[0m\n\u001b[1;32m    618\u001b[0m \u001b[0;34m\u001b[0m\u001b[0m\n\u001b[1;32m    619\u001b[0m     \u001b[0;31m# Create the parser.\u001b[0m\u001b[0;34m\u001b[0m\u001b[0;34m\u001b[0m\u001b[0m\n\u001b[0;32m--> 620\u001b[0;31m     \u001b[0mparser\u001b[0m \u001b[0;34m=\u001b[0m \u001b[0mTextFileReader\u001b[0m\u001b[0;34m(\u001b[0m\u001b[0mfilepath_or_buffer\u001b[0m\u001b[0;34m,\u001b[0m \u001b[0;34m**\u001b[0m\u001b[0mkwds\u001b[0m\u001b[0;34m)\u001b[0m\u001b[0;34m\u001b[0m\u001b[0;34m\u001b[0m\u001b[0m\n\u001b[0m\u001b[1;32m    621\u001b[0m \u001b[0;34m\u001b[0m\u001b[0m\n\u001b[1;32m    622\u001b[0m     \u001b[0;32mif\u001b[0m \u001b[0mchunksize\u001b[0m \u001b[0;32mor\u001b[0m \u001b[0miterator\u001b[0m\u001b[0;34m:\u001b[0m\u001b[0;34m\u001b[0m\u001b[0;34m\u001b[0m\u001b[0m\n",
      "\u001b[0;32m/usr/local/lib/python3.10/dist-packages/pandas/io/parsers/readers.py\u001b[0m in \u001b[0;36m__init__\u001b[0;34m(self, f, engine, **kwds)\u001b[0m\n\u001b[1;32m   1618\u001b[0m \u001b[0;34m\u001b[0m\u001b[0m\n\u001b[1;32m   1619\u001b[0m         \u001b[0mself\u001b[0m\u001b[0;34m.\u001b[0m\u001b[0mhandles\u001b[0m\u001b[0;34m:\u001b[0m \u001b[0mIOHandles\u001b[0m \u001b[0;34m|\u001b[0m \u001b[0;32mNone\u001b[0m \u001b[0;34m=\u001b[0m \u001b[0;32mNone\u001b[0m\u001b[0;34m\u001b[0m\u001b[0;34m\u001b[0m\u001b[0m\n\u001b[0;32m-> 1620\u001b[0;31m         \u001b[0mself\u001b[0m\u001b[0;34m.\u001b[0m\u001b[0m_engine\u001b[0m \u001b[0;34m=\u001b[0m \u001b[0mself\u001b[0m\u001b[0;34m.\u001b[0m\u001b[0m_make_engine\u001b[0m\u001b[0;34m(\u001b[0m\u001b[0mf\u001b[0m\u001b[0;34m,\u001b[0m \u001b[0mself\u001b[0m\u001b[0;34m.\u001b[0m\u001b[0mengine\u001b[0m\u001b[0;34m)\u001b[0m\u001b[0;34m\u001b[0m\u001b[0;34m\u001b[0m\u001b[0m\n\u001b[0m\u001b[1;32m   1621\u001b[0m \u001b[0;34m\u001b[0m\u001b[0m\n\u001b[1;32m   1622\u001b[0m     \u001b[0;32mdef\u001b[0m \u001b[0mclose\u001b[0m\u001b[0;34m(\u001b[0m\u001b[0mself\u001b[0m\u001b[0;34m)\u001b[0m \u001b[0;34m->\u001b[0m \u001b[0;32mNone\u001b[0m\u001b[0;34m:\u001b[0m\u001b[0;34m\u001b[0m\u001b[0;34m\u001b[0m\u001b[0m\n",
      "\u001b[0;32m/usr/local/lib/python3.10/dist-packages/pandas/io/parsers/readers.py\u001b[0m in \u001b[0;36m_make_engine\u001b[0;34m(self, f, engine)\u001b[0m\n\u001b[1;32m   1878\u001b[0m                 \u001b[0;32mif\u001b[0m \u001b[0;34m\"b\"\u001b[0m \u001b[0;32mnot\u001b[0m \u001b[0;32min\u001b[0m \u001b[0mmode\u001b[0m\u001b[0;34m:\u001b[0m\u001b[0;34m\u001b[0m\u001b[0;34m\u001b[0m\u001b[0m\n\u001b[1;32m   1879\u001b[0m                     \u001b[0mmode\u001b[0m \u001b[0;34m+=\u001b[0m \u001b[0;34m\"b\"\u001b[0m\u001b[0;34m\u001b[0m\u001b[0;34m\u001b[0m\u001b[0m\n\u001b[0;32m-> 1880\u001b[0;31m             self.handles = get_handle(\n\u001b[0m\u001b[1;32m   1881\u001b[0m                 \u001b[0mf\u001b[0m\u001b[0;34m,\u001b[0m\u001b[0;34m\u001b[0m\u001b[0;34m\u001b[0m\u001b[0m\n\u001b[1;32m   1882\u001b[0m                 \u001b[0mmode\u001b[0m\u001b[0;34m,\u001b[0m\u001b[0;34m\u001b[0m\u001b[0;34m\u001b[0m\u001b[0m\n",
      "\u001b[0;32m/usr/local/lib/python3.10/dist-packages/pandas/io/common.py\u001b[0m in \u001b[0;36mget_handle\u001b[0;34m(path_or_buf, mode, encoding, compression, memory_map, is_text, errors, storage_options)\u001b[0m\n\u001b[1;32m    871\u001b[0m         \u001b[0;32mif\u001b[0m \u001b[0mioargs\u001b[0m\u001b[0;34m.\u001b[0m\u001b[0mencoding\u001b[0m \u001b[0;32mand\u001b[0m \u001b[0;34m\"b\"\u001b[0m \u001b[0;32mnot\u001b[0m \u001b[0;32min\u001b[0m \u001b[0mioargs\u001b[0m\u001b[0;34m.\u001b[0m\u001b[0mmode\u001b[0m\u001b[0;34m:\u001b[0m\u001b[0;34m\u001b[0m\u001b[0;34m\u001b[0m\u001b[0m\n\u001b[1;32m    872\u001b[0m             \u001b[0;31m# Encoding\u001b[0m\u001b[0;34m\u001b[0m\u001b[0;34m\u001b[0m\u001b[0m\n\u001b[0;32m--> 873\u001b[0;31m             handle = open(\n\u001b[0m\u001b[1;32m    874\u001b[0m                 \u001b[0mhandle\u001b[0m\u001b[0;34m,\u001b[0m\u001b[0;34m\u001b[0m\u001b[0;34m\u001b[0m\u001b[0m\n\u001b[1;32m    875\u001b[0m                 \u001b[0mioargs\u001b[0m\u001b[0;34m.\u001b[0m\u001b[0mmode\u001b[0m\u001b[0;34m,\u001b[0m\u001b[0;34m\u001b[0m\u001b[0;34m\u001b[0m\u001b[0m\n",
      "\u001b[0;31mFileNotFoundError\u001b[0m: [Errno 2] No such file or directory: '/content/drive/MyDrive/Research/Dataset/ET_result.csv'"
     ]
    }
   ],
   "source": [
    "df = pd.read_csv(PATH)"
   ]
  },
  {
   "cell_type": "code",
   "execution_count": null,
   "metadata": {
    "id": "8eXF4vJF4UN6"
   },
   "outputs": [],
   "source": [
    "#To display all column and row\n",
    "pd.set_option('display.max_columns',None)\n",
    "pd.set_option('display.max_rows',None)"
   ]
  },
  {
   "cell_type": "code",
   "execution_count": null,
   "metadata": {
    "id": "tKSNP-i14XFW"
   },
   "outputs": [],
   "source": [
    "df.head()"
   ]
  },
  {
   "cell_type": "code",
   "execution_count": null,
   "metadata": {
    "id": "Cb8tYxnY4ZQO"
   },
   "outputs": [],
   "source": [
    "df.tail()"
   ]
  },
  {
   "cell_type": "code",
   "execution_count": null,
   "metadata": {
    "id": "30EP-Kew4bTj"
   },
   "outputs": [],
   "source": [
    "df.columns"
   ]
  },
  {
   "cell_type": "code",
   "execution_count": null,
   "metadata": {
    "id": "NDBTI0W64dZH"
   },
   "outputs": [],
   "source": [
    "df = df.drop('Unnamed: 0',axis=1)"
   ]
  },
  {
   "cell_type": "code",
   "execution_count": null,
   "metadata": {
    "id": "X3cLR8Pz4fgi"
   },
   "outputs": [],
   "source": [
    "df.info()"
   ]
  },
  {
   "cell_type": "code",
   "execution_count": null,
   "metadata": {
    "id": "yVpt93qm4hdD"
   },
   "outputs": [],
   "source": [
    "df.describe()"
   ]
  },
  {
   "cell_type": "code",
   "execution_count": null,
   "metadata": {
    "id": "wweMZvIB4jtc"
   },
   "outputs": [],
   "source": []
  }
 ],
 "metadata": {
  "colab": {
   "provenance": [
    {
     "file_id": "1l-Vbc9I0MZDn76k45J2aUsPgzELNeBZd",
     "timestamp": 1731482173222
    }
   ]
  },
  "kernelspec": {
   "display_name": "base",
   "language": "python",
   "name": "python3"
  },
  "language_info": {
   "codemirror_mode": {
    "name": "ipython",
    "version": 3
   },
   "file_extension": ".py",
   "mimetype": "text/x-python",
   "name": "python",
   "nbconvert_exporter": "python",
   "pygments_lexer": "ipython3",
   "version": "3.12.7"
  }
 },
 "nbformat": 4,
 "nbformat_minor": 0
}
