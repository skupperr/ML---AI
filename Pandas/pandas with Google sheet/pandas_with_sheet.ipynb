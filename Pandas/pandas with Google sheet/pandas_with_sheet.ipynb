{
 "cells": [
  {
   "cell_type": "markdown",
   "id": "e7a6613a",
   "metadata": {},
   "source": [
    "### Process\n",
    "\n",
    "1. Create a new project in the Google cloud\n",
    "2. Enable Google Drive and sheet api\n",
    "3. Go to credentials -> Create credentials ->  service account.\n",
    "4. Give a service account name\n",
    "5. Manage service account -> Actions -> Manage Keys -> Add key -> Create new key\n",
    "6. Share the service account address with the Google sheet that needs to be accessed"
   ]
  },
  {
   "cell_type": "code",
   "execution_count": 1,
   "id": "2d7e83fc",
   "metadata": {},
   "outputs": [],
   "source": [
    "import pandas as pd\n",
    "import gspread"
   ]
  },
  {
   "cell_type": "code",
   "execution_count": 2,
   "id": "54c433bd",
   "metadata": {},
   "outputs": [
    {
     "data": {
      "text/plain": [
       "<gspread.client.Client at 0x1b66c37a250>"
      ]
     },
     "execution_count": 2,
     "metadata": {},
     "output_type": "execute_result"
    }
   ],
   "source": [
    "gc = gspread.service_account(filename=\"pandas-with-c22c4492235d.json\")\n",
    "gc"
   ]
  },
  {
   "cell_type": "code",
   "execution_count": 3,
   "id": "c7f08b21",
   "metadata": {},
   "outputs": [],
   "source": [
    "sheet = gc.open_by_url(\"https://docs.google.com/spreadsheets/d/1rjR8xv6x3ep3ffbtdX3yxzgv9HSUWTTr_rQv7TZ-Ri4/edit?usp=sharing\")\n",
    "ws = sheet.worksheet('Sheet1')"
   ]
  },
  {
   "cell_type": "code",
   "execution_count": 11,
   "id": "32f9e8f7",
   "metadata": {},
   "outputs": [
    {
     "data": {
      "text/html": [
       "<div>\n",
       "<style scoped>\n",
       "    .dataframe tbody tr th:only-of-type {\n",
       "        vertical-align: middle;\n",
       "    }\n",
       "\n",
       "    .dataframe tbody tr th {\n",
       "        vertical-align: top;\n",
       "    }\n",
       "\n",
       "    .dataframe thead th {\n",
       "        text-align: right;\n",
       "    }\n",
       "</style>\n",
       "<table border=\"1\" class=\"dataframe\">\n",
       "  <thead>\n",
       "    <tr style=\"text-align: right;\">\n",
       "      <th></th>\n",
       "      <th>Name</th>\n",
       "      <th>Appointment Date</th>\n",
       "      <th>Applying For</th>\n",
       "      <th>Offer Letter</th>\n",
       "      <th>Defferment</th>\n",
       "      <th>Enrolled</th>\n",
       "      <th>Block money</th>\n",
       "      <th>Facebook ID Link</th>\n",
       "      <th>University</th>\n",
       "      <th></th>\n",
       "    </tr>\n",
       "  </thead>\n",
       "  <tbody>\n",
       "    <tr>\n",
       "      <th>0</th>\n",
       "      <td>Mehrun Nesa</td>\n",
       "      <td>27-Apr-2023</td>\n",
       "      <td>Bachelor's</td>\n",
       "      <td>Yes! ✌️</td>\n",
       "      <td>No</td>\n",
       "      <td>Yes</td>\n",
       "      <td>Yes</td>\n",
       "      <td>https://www.facebook.com/profile.php?id=100055...</td>\n",
       "      <td>Hamm lippstadt University</td>\n",
       "      <td></td>\n",
       "    </tr>\n",
       "    <tr>\n",
       "      <th>1</th>\n",
       "      <td>MD SEZAN SARDAR</td>\n",
       "      <td>11-Apr-2023</td>\n",
       "      <td>Bachelor's</td>\n",
       "      <td>Yes! ✌️</td>\n",
       "      <td>Yes</td>\n",
       "      <td>Yes</td>\n",
       "      <td>No</td>\n",
       "      <td></td>\n",
       "      <td>deggendorf institute of technology</td>\n",
       "      <td>Bachelor's = 1</td>\n",
       "    </tr>\n",
       "    <tr>\n",
       "      <th>2</th>\n",
       "      <td>MD Abdullah Al Mamun</td>\n",
       "      <td>12-Apr-2023</td>\n",
       "      <td>Bachelor's</td>\n",
       "      <td>Yes! ✌️</td>\n",
       "      <td>No</td>\n",
       "      <td>Yes</td>\n",
       "      <td>No</td>\n",
       "      <td>https://www.facebook.com/amisai.amisai.7/</td>\n",
       "      <td>DIT</td>\n",
       "      <td></td>\n",
       "    </tr>\n",
       "    <tr>\n",
       "      <th>3</th>\n",
       "      <td>Tanbir Alam</td>\n",
       "      <td>14-Apr-2023</td>\n",
       "      <td>Bachelor's</td>\n",
       "      <td>Yes! ✌️</td>\n",
       "      <td>Yes</td>\n",
       "      <td>Yes</td>\n",
       "      <td>No</td>\n",
       "      <td>https://www.facebook.com/tanvir.alom.771?mibex...</td>\n",
       "      <td>DIT</td>\n",
       "      <td></td>\n",
       "    </tr>\n",
       "    <tr>\n",
       "      <th>4</th>\n",
       "      <td>Amit Hasan</td>\n",
       "      <td>2-Apr-2023</td>\n",
       "      <td>Bachelor's</td>\n",
       "      <td>Yes! ✌️</td>\n",
       "      <td>Yes</td>\n",
       "      <td>Yes</td>\n",
       "      <td>No</td>\n",
       "      <td>https://www.facebook.com/profile.php?id=100035...</td>\n",
       "      <td>Fulda university of applied science</td>\n",
       "      <td></td>\n",
       "    </tr>\n",
       "  </tbody>\n",
       "</table>\n",
       "</div>"
      ],
      "text/plain": [
       "                   Name Appointment Date Applying For Offer Letter Defferment  \\\n",
       "0          Mehrun Nesa       27-Apr-2023   Bachelor's      Yes! ✌️         No   \n",
       "1       MD SEZAN SARDAR      11-Apr-2023   Bachelor's      Yes! ✌️        Yes   \n",
       "2  MD Abdullah Al Mamun      12-Apr-2023   Bachelor's      Yes! ✌️         No   \n",
       "3           Tanbir Alam      14-Apr-2023   Bachelor's      Yes! ✌️        Yes   \n",
       "4            Amit Hasan       2-Apr-2023   Bachelor's      Yes! ✌️        Yes   \n",
       "\n",
       "  Enrolled Block money                                   Facebook ID Link  \\\n",
       "0      Yes         Yes  https://www.facebook.com/profile.php?id=100055...   \n",
       "1      Yes          No                                                      \n",
       "2      Yes          No          https://www.facebook.com/amisai.amisai.7/   \n",
       "3      Yes          No  https://www.facebook.com/tanvir.alom.771?mibex...   \n",
       "4      Yes          No  https://www.facebook.com/profile.php?id=100035...   \n",
       "\n",
       "                            University                  \n",
       "0           Hamm lippstadt University                   \n",
       "1   deggendorf institute of technology  Bachelor's = 1  \n",
       "2                                  DIT                  \n",
       "3                                  DIT                  \n",
       "4  Fulda university of applied science                  "
      ]
     },
     "execution_count": 11,
     "metadata": {},
     "output_type": "execute_result"
    }
   ],
   "source": [
    "df = pd.DataFrame(ws.get_all_records(expected_headers=[\n",
    "    \"Name\",  # Note the leading space!\n",
    "    \"Appointment Date\",\n",
    "    \"Applying For\",\n",
    "    \"Offer Letter\",\n",
    "    \"Defferment\",\n",
    "    \"Enrolled\",\n",
    "    \"Block money\",\n",
    "    \"Facebook ID Link\",\n",
    "    \"University\"\n",
    "]))\n",
    "df.head()"
   ]
  }
 ],
 "metadata": {
  "kernelspec": {
   "display_name": "Python 3",
   "language": "python",
   "name": "python3"
  },
  "language_info": {
   "codemirror_mode": {
    "name": "ipython",
    "version": 3
   },
   "file_extension": ".py",
   "mimetype": "text/x-python",
   "name": "python",
   "nbconvert_exporter": "python",
   "pygments_lexer": "ipython3",
   "version": "3.11.0"
  }
 },
 "nbformat": 4,
 "nbformat_minor": 5
}
