{
 "cells": [
  {
   "cell_type": "code",
   "execution_count": 1,
   "id": "5a0ab923",
   "metadata": {},
   "outputs": [],
   "source": [
    "import pandas as pd\n",
    "df = pd.read_csv('csv files/manual_vs_auto.csv')"
   ]
  },
  {
   "cell_type": "code",
   "execution_count": 2,
   "id": "9ed65e7c",
   "metadata": {},
   "outputs": [
    {
     "name": "stdout",
     "output_type": "stream",
     "text": [
      "Count:\n",
      "       Image  Manual  Auto_th_2  Auto_th_3  Auto_th_4\n",
      "Set                                                 \n",
      "Set1     25      24         25         25         25\n",
      "Set2     25      24         25         25         25\n",
      "Set3     25      24         25         25         25\n",
      "Set4     25      22         25         25         25\n",
      "\n",
      "Average:\n",
      "           Manual  Auto_th_2  Auto_th_3  Auto_th_4\n",
      "Set                                              \n",
      "Set1  100.666667      72.84      98.04      92.36\n",
      "Set2   98.666667      75.40      98.00      93.44\n",
      "Set3  100.000000      78.48      95.52      94.40\n",
      "Set4  100.818182      78.76      98.76      92.64\n"
     ]
    }
   ],
   "source": [
    "df = df.rename(columns= {'Unnamed: 0': 'Set'})\n",
    "df = df.drop('Manual2', axis=1)\n",
    "\n",
    "# Group by 'Set'\n",
    "group_by_file = df.groupby(by=['Set'])\n",
    "\n",
    "# Only use numeric columns\n",
    "numeric_df = df.select_dtypes(include='number')\n",
    "# Group again, now just with numeric data\n",
    "group_by_numeric = numeric_df.groupby(df['Set'])\n",
    "\n",
    "\n",
    "set_data_count = group_by_file.count()    # Count for each value per group\n",
    "set_data_avg = group_by_numeric.mean()\t  # Mean for each value per group\n",
    "\n",
    "print(\"Count:\\n\", set_data_count)\n",
    "print(\"\\nAverage:\\n\", set_data_avg)\n"
   ]
  },
  {
   "cell_type": "code",
   "execution_count": null,
   "id": "83d2dcfa",
   "metadata": {},
   "outputs": [
    {
     "name": "stdout",
     "output_type": "stream",
     "text": [
      "<pandas.core.groupby.generic.DataFrameGroupBy object at 0x000001BFEB05BE00>\n"
     ]
    }
   ],
   "source": []
  },
  {
   "cell_type": "code",
   "execution_count": 3,
   "id": "d6e2d6d8",
   "metadata": {},
   "outputs": [
    {
     "data": {
      "text/html": [
       "<div>\n",
       "<style scoped>\n",
       "    .dataframe tbody tr th:only-of-type {\n",
       "        vertical-align: middle;\n",
       "    }\n",
       "\n",
       "    .dataframe tbody tr th {\n",
       "        vertical-align: top;\n",
       "    }\n",
       "\n",
       "    .dataframe thead th {\n",
       "        text-align: right;\n",
       "    }\n",
       "</style>\n",
       "<table border=\"1\" class=\"dataframe\">\n",
       "  <thead>\n",
       "    <tr style=\"text-align: right;\">\n",
       "      <th></th>\n",
       "      <th>Manual</th>\n",
       "      <th>Manual2</th>\n",
       "      <th>Auto_th_2</th>\n",
       "      <th>Auto_th_3</th>\n",
       "      <th>Auto_th_4</th>\n",
       "    </tr>\n",
       "  </thead>\n",
       "  <tbody>\n",
       "    <tr>\n",
       "      <th>Manual</th>\n",
       "      <td>1.000000</td>\n",
       "      <td>0.911646</td>\n",
       "      <td>0.738123</td>\n",
       "      <td>0.796569</td>\n",
       "      <td>0.651191</td>\n",
       "    </tr>\n",
       "    <tr>\n",
       "      <th>Manual2</th>\n",
       "      <td>0.911646</td>\n",
       "      <td>1.000000</td>\n",
       "      <td>0.998625</td>\n",
       "      <td>0.835766</td>\n",
       "      <td>0.704634</td>\n",
       "    </tr>\n",
       "    <tr>\n",
       "      <th>Auto_th_2</th>\n",
       "      <td>0.738123</td>\n",
       "      <td>0.998625</td>\n",
       "      <td>1.000000</td>\n",
       "      <td>0.615319</td>\n",
       "      <td>0.544969</td>\n",
       "    </tr>\n",
       "    <tr>\n",
       "      <th>Auto_th_3</th>\n",
       "      <td>0.796569</td>\n",
       "      <td>0.835766</td>\n",
       "      <td>0.615319</td>\n",
       "      <td>1.000000</td>\n",
       "      <td>0.466908</td>\n",
       "    </tr>\n",
       "    <tr>\n",
       "      <th>Auto_th_4</th>\n",
       "      <td>0.651191</td>\n",
       "      <td>0.704634</td>\n",
       "      <td>0.544969</td>\n",
       "      <td>0.466908</td>\n",
       "      <td>1.000000</td>\n",
       "    </tr>\n",
       "  </tbody>\n",
       "</table>\n",
       "</div>"
      ],
      "text/plain": [
       "             Manual   Manual2  Auto_th_2  Auto_th_3  Auto_th_4\n",
       "Manual     1.000000  0.911646   0.738123   0.796569   0.651191\n",
       "Manual2    0.911646  1.000000   0.998625   0.835766   0.704634\n",
       "Auto_th_2  0.738123  0.998625   1.000000   0.615319   0.544969\n",
       "Auto_th_3  0.796569  0.835766   0.615319   1.000000   0.466908\n",
       "Auto_th_4  0.651191  0.704634   0.544969   0.466908   1.000000"
      ]
     },
     "execution_count": 3,
     "metadata": {},
     "output_type": "execute_result"
    }
   ],
   "source": [
    "df = pd.read_csv('csv files/manual_vs_auto.csv')\n",
    "#Correlation between data\n",
    "\n",
    "# Keep only numeric columns before computing correlation\n",
    "numeric_df = df.select_dtypes(include='number')\n",
    "numeric_df.corr()\n"
   ]
  },
  {
   "cell_type": "code",
   "execution_count": 4,
   "id": "50e2b779",
   "metadata": {},
   "outputs": [
    {
     "name": "stdout",
     "output_type": "stream",
     "text": [
      "0.7381233054217538\n"
     ]
    },
    {
     "data": {
      "text/plain": [
       "'\\nPositive numbers indicate a positive correlation — one goes up the other goes up,\\nnegative numbers represent an inverse correlation — one goes up the other goes down. \\n1.0 indicates a perfect correlation.\\n\\n'"
      ]
     },
     "execution_count": 4,
     "metadata": {},
     "output_type": "execute_result"
    }
   ],
   "source": [
    "print(df['Manual'].corr(df['Auto_th_2'])) \n",
    "\n",
    "\n",
    "\"\"\"\n",
    "Positive numbers indicate a positive correlation — one goes up the other goes up,\n",
    "negative numbers represent an inverse correlation — one goes up the other goes down. \n",
    "1.0 indicates a perfect correlation.\n",
    "\n",
    "\"\"\""
   ]
  }
 ],
 "metadata": {
  "kernelspec": {
   "display_name": "Python 3",
   "language": "python",
   "name": "python3"
  },
  "language_info": {
   "codemirror_mode": {
    "name": "ipython",
    "version": 3
   },
   "file_extension": ".py",
   "mimetype": "text/x-python",
   "name": "python",
   "nbconvert_exporter": "python",
   "pygments_lexer": "ipython3",
   "version": "3.13.2"
  }
 },
 "nbformat": 4,
 "nbformat_minor": 5
}
