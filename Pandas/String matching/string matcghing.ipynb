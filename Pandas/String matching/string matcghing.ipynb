{
 "cells": [
  {
   "cell_type": "code",
   "execution_count": 15,
   "id": "9cacc683",
   "metadata": {},
   "outputs": [],
   "source": [
    "import itertools\n",
    "import pandas as pd\n",
    "\n",
    "# The new library!\n",
    "from thefuzz import fuzz, process"
   ]
  },
  {
   "cell_type": "code",
   "execution_count": 16,
   "id": "e828bfa3",
   "metadata": {},
   "outputs": [],
   "source": [
    "df1 = pd.read_csv('companies_1.csv')\n",
    "df2 = pd.read_csv('companies_2.csv')"
   ]
  },
  {
   "cell_type": "code",
   "execution_count": 17,
   "id": "88d99b1e",
   "metadata": {},
   "outputs": [
    {
     "data": {
      "text/plain": [
       "array(['Adobe Systems, Inc.', 'Adventist Health', 'AECOM',\n",
       "       'Aerojet Rockedyne Holdings (GenCorp)',\n",
       "       'Alameda-Contra Costa Transit District',\n",
       "       'Alaska Community Foundation',\n",
       "       'Alaska Retirement Management Board', 'Alexander & Baldwin, Inc.',\n",
       "       'Allergan, Inc.'], dtype=object)"
      ]
     },
     "execution_count": 17,
     "metadata": {},
     "output_type": "execute_result"
    }
   ],
   "source": [
    "df1['CLIENT'].values"
   ]
  },
  {
   "cell_type": "markdown",
   "id": "a8213d01",
   "metadata": {},
   "source": [
    ">>> A = [\"Apple\", \"Alphabet\", \"Microsoft\"]\n",
    ">>> B = [\"MSFT\", \"Alphabet/Google\", \"Apple inc.\"]\n",
    "\n",
    ">>> list(itertools.product(A, B))\n",
    "[\n",
    " ('Apple', 'MSFT'),\n",
    " ('Apple', 'Alphabet/Google'),\n",
    " ('Apple', 'Apple inc.'),\n",
    " ('Alphabet', 'MSFT'),\n",
    " ('Alphabet', 'Alphabet/Google'),\n",
    " ('Alphabet', 'Apple inc.'),\n",
    " ('Microsoft', 'MSFT'),\n",
    " ('Microsoft', 'Alphabet/Google'),\n",
    " ('Microsoft', 'Apple inc.')\n",
    "]"
   ]
  },
  {
   "cell_type": "code",
   "execution_count": 18,
   "id": "5b5dfd96",
   "metadata": {},
   "outputs": [
    {
     "data": {
      "text/html": [
       "<div>\n",
       "<style scoped>\n",
       "    .dataframe tbody tr th:only-of-type {\n",
       "        vertical-align: middle;\n",
       "    }\n",
       "\n",
       "    .dataframe tbody tr th {\n",
       "        vertical-align: top;\n",
       "    }\n",
       "\n",
       "    .dataframe thead th {\n",
       "        text-align: right;\n",
       "    }\n",
       "</style>\n",
       "<table border=\"1\" class=\"dataframe\">\n",
       "  <thead>\n",
       "    <tr style=\"text-align: right;\">\n",
       "      <th></th>\n",
       "      <th>CSV 1</th>\n",
       "      <th>CSV 2</th>\n",
       "    </tr>\n",
       "  </thead>\n",
       "  <tbody>\n",
       "    <tr>\n",
       "      <th>0</th>\n",
       "      <td>Adobe Systems, Inc.</td>\n",
       "      <td>AAA Northern California, Nevada &amp; Utah Auto Ex...</td>\n",
       "    </tr>\n",
       "    <tr>\n",
       "      <th>1</th>\n",
       "      <td>Adobe Systems, Inc.</td>\n",
       "      <td>ACCO Engineered Systems</td>\n",
       "    </tr>\n",
       "    <tr>\n",
       "      <th>2</th>\n",
       "      <td>Adobe Systems, Inc.</td>\n",
       "      <td>Adams County Retirement Plan</td>\n",
       "    </tr>\n",
       "    <tr>\n",
       "      <th>3</th>\n",
       "      <td>Adobe Systems, Inc.</td>\n",
       "      <td>Adidas America, Inc.</td>\n",
       "    </tr>\n",
       "    <tr>\n",
       "      <th>4</th>\n",
       "      <td>Adobe Systems, Inc.</td>\n",
       "      <td>Adobe Systems, Inc.</td>\n",
       "    </tr>\n",
       "  </tbody>\n",
       "</table>\n",
       "</div>"
      ],
      "text/plain": [
       "                 CSV 1                                              CSV 2\n",
       "0  Adobe Systems, Inc.  AAA Northern California, Nevada & Utah Auto Ex...\n",
       "1  Adobe Systems, Inc.                            ACCO Engineered Systems\n",
       "2  Adobe Systems, Inc.                       Adams County Retirement Plan\n",
       "3  Adobe Systems, Inc.                               Adidas America, Inc.\n",
       "4  Adobe Systems, Inc.                                Adobe Systems, Inc."
      ]
     },
     "execution_count": 18,
     "metadata": {},
     "output_type": "execute_result"
    }
   ],
   "source": [
    "df = pd.DataFrame(itertools.product(df1['CLIENT'].values, df2['Firm Name'].values), columns=['CSV 1', 'CSV 2'])\n",
    "df.head()"
   ]
  },
  {
   "cell_type": "markdown",
   "id": "faec6d23",
   "metadata": {},
   "source": [
    "# Calculating the Levenshtein distance\n",
    "We're going to use the partial_ratio function from the fuzz module to compute the \"distance\" between two strings. The result is a number between 0 and 100, with 100 indicating a \"perfect\" match. Please keep in mind that this method is not perfect, as shown in the examples about Microsoft in the notebook."
   ]
  },
  {
   "cell_type": "code",
   "execution_count": 21,
   "id": "b287e4ec",
   "metadata": {},
   "outputs": [],
   "source": [
    "score = [fuzz.partial_ratio(c1, c2) for c1, c2 in df.values]"
   ]
  },
  {
   "cell_type": "code",
   "execution_count": 25,
   "id": "dda3f487",
   "metadata": {},
   "outputs": [
    {
     "data": {
      "text/html": [
       "<div>\n",
       "<style scoped>\n",
       "    .dataframe tbody tr th:only-of-type {\n",
       "        vertical-align: middle;\n",
       "    }\n",
       "\n",
       "    .dataframe tbody tr th {\n",
       "        vertical-align: top;\n",
       "    }\n",
       "\n",
       "    .dataframe thead th {\n",
       "        text-align: right;\n",
       "    }\n",
       "</style>\n",
       "<table border=\"1\" class=\"dataframe\">\n",
       "  <thead>\n",
       "    <tr style=\"text-align: right;\">\n",
       "      <th></th>\n",
       "      <th>CSV 1</th>\n",
       "      <th>CSV 2</th>\n",
       "      <th>Ratio Score</th>\n",
       "    </tr>\n",
       "  </thead>\n",
       "  <tbody>\n",
       "    <tr>\n",
       "      <th>0</th>\n",
       "      <td>Adobe Systems, Inc.</td>\n",
       "      <td>AAA Northern California, Nevada &amp; Utah Auto Ex...</td>\n",
       "      <td>32</td>\n",
       "    </tr>\n",
       "    <tr>\n",
       "      <th>1</th>\n",
       "      <td>Adobe Systems, Inc.</td>\n",
       "      <td>ACCO Engineered Systems</td>\n",
       "      <td>64</td>\n",
       "    </tr>\n",
       "    <tr>\n",
       "      <th>2</th>\n",
       "      <td>Adobe Systems, Inc.</td>\n",
       "      <td>Adams County Retirement Plan</td>\n",
       "      <td>41</td>\n",
       "    </tr>\n",
       "    <tr>\n",
       "      <th>3</th>\n",
       "      <td>Adobe Systems, Inc.</td>\n",
       "      <td>Adidas America, Inc.</td>\n",
       "      <td>50</td>\n",
       "    </tr>\n",
       "    <tr>\n",
       "      <th>4</th>\n",
       "      <td>Adobe Systems, Inc.</td>\n",
       "      <td>Adobe Systems, Inc.</td>\n",
       "      <td>100</td>\n",
       "    </tr>\n",
       "    <tr>\n",
       "      <th>5</th>\n",
       "      <td>Adobe Systems, Inc.</td>\n",
       "      <td>Advanced Micro Devices, Inc.</td>\n",
       "      <td>59</td>\n",
       "    </tr>\n",
       "    <tr>\n",
       "      <th>6</th>\n",
       "      <td>Adobe Systems, Inc.</td>\n",
       "      <td>AECOM Technology Corporation</td>\n",
       "      <td>29</td>\n",
       "    </tr>\n",
       "    <tr>\n",
       "      <th>7</th>\n",
       "      <td>Adobe Systems, Inc.</td>\n",
       "      <td>Aera Energy LLC</td>\n",
       "      <td>35</td>\n",
       "    </tr>\n",
       "    <tr>\n",
       "      <th>8</th>\n",
       "      <td>Adobe Systems, Inc.</td>\n",
       "      <td>Aerojet Rocketdyne Holdings, Inc.</td>\n",
       "      <td>54</td>\n",
       "    </tr>\n",
       "    <tr>\n",
       "      <th>9</th>\n",
       "      <td>Adventist Health</td>\n",
       "      <td>AAA Northern California, Nevada &amp; Utah Auto Ex...</td>\n",
       "      <td>38</td>\n",
       "    </tr>\n",
       "  </tbody>\n",
       "</table>\n",
       "</div>"
      ],
      "text/plain": [
       "                 CSV 1                                              CSV 2  \\\n",
       "0  Adobe Systems, Inc.  AAA Northern California, Nevada & Utah Auto Ex...   \n",
       "1  Adobe Systems, Inc.                            ACCO Engineered Systems   \n",
       "2  Adobe Systems, Inc.                       Adams County Retirement Plan   \n",
       "3  Adobe Systems, Inc.                               Adidas America, Inc.   \n",
       "4  Adobe Systems, Inc.                                Adobe Systems, Inc.   \n",
       "5  Adobe Systems, Inc.                       Advanced Micro Devices, Inc.   \n",
       "6  Adobe Systems, Inc.                       AECOM Technology Corporation   \n",
       "7  Adobe Systems, Inc.                                    Aera Energy LLC   \n",
       "8  Adobe Systems, Inc.                  Aerojet Rocketdyne Holdings, Inc.   \n",
       "9     Adventist Health  AAA Northern California, Nevada & Utah Auto Ex...   \n",
       "\n",
       "   Ratio Score  \n",
       "0           32  \n",
       "1           64  \n",
       "2           41  \n",
       "3           50  \n",
       "4          100  \n",
       "5           59  \n",
       "6           29  \n",
       "7           35  \n",
       "8           54  \n",
       "9           38  "
      ]
     },
     "execution_count": 25,
     "metadata": {},
     "output_type": "execute_result"
    }
   ],
   "source": [
    "df['Ratio Score'] = score\n",
    "df.head(10)"
   ]
  },
  {
   "cell_type": "code",
   "execution_count": 26,
   "id": "cbbff312",
   "metadata": {},
   "outputs": [
    {
     "data": {
      "text/html": [
       "<div>\n",
       "<style scoped>\n",
       "    .dataframe tbody tr th:only-of-type {\n",
       "        vertical-align: middle;\n",
       "    }\n",
       "\n",
       "    .dataframe tbody tr th {\n",
       "        vertical-align: top;\n",
       "    }\n",
       "\n",
       "    .dataframe thead th {\n",
       "        text-align: right;\n",
       "    }\n",
       "</style>\n",
       "<table border=\"1\" class=\"dataframe\">\n",
       "  <thead>\n",
       "    <tr style=\"text-align: right;\">\n",
       "      <th></th>\n",
       "      <th>CSV 1</th>\n",
       "      <th>CSV 2</th>\n",
       "      <th>Ratio Score</th>\n",
       "    </tr>\n",
       "  </thead>\n",
       "  <tbody>\n",
       "    <tr>\n",
       "      <th>4</th>\n",
       "      <td>Adobe Systems, Inc.</td>\n",
       "      <td>Adobe Systems, Inc.</td>\n",
       "      <td>100</td>\n",
       "    </tr>\n",
       "    <tr>\n",
       "      <th>24</th>\n",
       "      <td>AECOM</td>\n",
       "      <td>AECOM Technology Corporation</td>\n",
       "      <td>100</td>\n",
       "    </tr>\n",
       "  </tbody>\n",
       "</table>\n",
       "</div>"
      ],
      "text/plain": [
       "                  CSV 1                         CSV 2  Ratio Score\n",
       "4   Adobe Systems, Inc.           Adobe Systems, Inc.          100\n",
       "24                AECOM  AECOM Technology Corporation          100"
      ]
     },
     "execution_count": 26,
     "metadata": {},
     "output_type": "execute_result"
    }
   ],
   "source": [
    "df[df['Ratio Score'] > 90]"
   ]
  }
 ],
 "metadata": {
  "kernelspec": {
   "display_name": "Python 3",
   "language": "python",
   "name": "python3"
  },
  "language_info": {
   "codemirror_mode": {
    "name": "ipython",
    "version": 3
   },
   "file_extension": ".py",
   "mimetype": "text/x-python",
   "name": "python",
   "nbconvert_exporter": "python",
   "pygments_lexer": "ipython3",
   "version": "3.13.2"
  }
 },
 "nbformat": 4,
 "nbformat_minor": 5
}
