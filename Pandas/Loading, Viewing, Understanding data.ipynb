{
 "cells": [
  {
   "cell_type": "markdown",
   "id": "82b41a6c",
   "metadata": {},
   "source": [
    "PART 1: LOADING, VIEWING AND  UNDERSTANGING DATA"
   ]
  },
  {
   "cell_type": "code",
   "execution_count": 1,
   "id": "b4c0603b",
   "metadata": {},
   "outputs": [],
   "source": [
    "import pandas as pd"
   ]
  },
  {
   "cell_type": "code",
   "execution_count": 2,
   "id": "c1bc86e6",
   "metadata": {},
   "outputs": [
    {
     "data": {
      "text/plain": [
       "<Axes: title={'center': 'Area'}, ylabel='Frequency'>"
      ]
     },
     "execution_count": 2,
     "metadata": {},
     "output_type": "execute_result"
    },
    {
     "data": {
      "image/png": "[encoded data removed]",
      "text/plain": [
       "<Figure size 640x480 with 1 Axes>"
      ]
     },
     "metadata": {},
     "output_type": "display_data"
    }
   ],
   "source": [
    "df = pd.read_csv('csv files/image_measurements.csv')\n",
    "df['Area'].plot(kind= 'hist', title='Area', bins = 50)"
   ]
  },
  {
   "cell_type": "code",
   "execution_count": 3,
   "id": "c3537ace",
   "metadata": {},
   "outputs": [
    {
     "data": {
      "text/html": [
       "<div>\n",
       "<style scoped>\n",
       "    .dataframe tbody tr th:only-of-type {\n",
       "        vertical-align: middle;\n",
       "    }\n",
       "\n",
       "    .dataframe tbody tr th {\n",
       "        vertical-align: top;\n",
       "    }\n",
       "\n",
       "    .dataframe thead th {\n",
       "        text-align: right;\n",
       "    }\n",
       "</style>\n",
       "<table border=\"1\" class=\"dataframe\">\n",
       "  <thead>\n",
       "    <tr style=\"text-align: right;\">\n",
       "      <th></th>\n",
       "      <th>Area</th>\n",
       "      <th>Intensity</th>\n",
       "      <th>Orientation</th>\n",
       "    </tr>\n",
       "  </thead>\n",
       "  <tbody>\n",
       "    <tr>\n",
       "      <th>1</th>\n",
       "      <td>10</td>\n",
       "      <td>200</td>\n",
       "      <td>60.0</td>\n",
       "    </tr>\n",
       "    <tr>\n",
       "      <th>2</th>\n",
       "      <td>12</td>\n",
       "      <td>155</td>\n",
       "      <td>45.0</td>\n",
       "    </tr>\n",
       "    <tr>\n",
       "      <th>3</th>\n",
       "      <td>9</td>\n",
       "      <td>50</td>\n",
       "      <td>-45.0</td>\n",
       "    </tr>\n",
       "    <tr>\n",
       "      <th>4</th>\n",
       "      <td>16</td>\n",
       "      <td>240</td>\n",
       "      <td>90.0</td>\n",
       "    </tr>\n",
       "  </tbody>\n",
       "</table>\n",
       "</div>"
      ],
      "text/plain": [
       "   Area  Intensity  Orientation\n",
       "1    10        200         60.0\n",
       "2    12        155         45.0\n",
       "3     9         50        -45.0\n",
       "4    16        240         90.0"
      ]
     },
     "execution_count": 3,
     "metadata": {},
     "output_type": "execute_result"
    }
   ],
   "source": [
    "data = [[10, 200, 60],\n",
    "        [12, 155, 45],\n",
    "        [9, 50, -45.],\n",
    "        [16, 240, 90]] \n",
    "\n",
    "df = pd.DataFrame(data, columns = ['Area', 'Intensity', 'Orientation'])\n",
    "df.index = range(1, len(df) + 1)\n",
    "df"
   ]
  },
  {
   "cell_type": "code",
   "execution_count": 6,
   "id": "22118b86",
   "metadata": {},
   "outputs": [
    {
     "data": {
      "text/plain": [
       "4"
      ]
     },
     "execution_count": 6,
     "metadata": {},
     "output_type": "execute_result"
    }
   ],
   "source": [
    "df.index[3]"
   ]
  },
  {
   "cell_type": "code",
   "execution_count": 25,
   "id": "1ea68daf",
   "metadata": {},
   "outputs": [
    {
     "name": "stdout",
     "output_type": "stream",
     "text": [
      "<class 'pandas.core.frame.DataFrame'>\n",
      "RangeIndex: 100 entries, 0 to 99\n",
      "Data columns (total 7 columns):\n",
      " #   Column      Non-Null Count  Dtype  \n",
      "---  ------      --------------  -----  \n",
      " 0   Unnamed: 0  100 non-null    object \n",
      " 1   Image       100 non-null    object \n",
      " 2   Manual      94 non-null     float64\n",
      " 3   Manual2     3 non-null      float64\n",
      " 4   Auto_th_2   100 non-null    int64  \n",
      " 5   Auto_th_3   100 non-null    int64  \n",
      " 6   Auto_th_4   100 non-null    int64  \n",
      "dtypes: float64(2), int64(3), object(2)\n",
      "memory usage: 5.6+ KB\n",
      "None\n",
      "(100, 7)\n"
     ]
    }
   ],
   "source": [
    "df = pd.read_csv('csv files/manual_vs_auto.csv')\n",
    "\n",
    "print(df.info())  # Prvides an overview of the dataframe.\n",
    "print(df.shape)   # How many rows and columns\n"
   ]
  },
  {
   "cell_type": "code",
   "execution_count": 26,
   "id": "82d06c87",
   "metadata": {},
   "outputs": [
    {
     "name": "stdout",
     "output_type": "stream",
     "text": [
      "   Unnamed: 0     Image  Manual  Manual2  Auto_th_2  Auto_th_3  Auto_th_4\n",
      "0        Set1    Image1    92.0     93.0         70         87         82\n",
      "1        Set1    Image2    87.0     83.0         60         85         83\n",
      "2        Set1    Image3   104.0     98.0         74         99         94\n",
      "3        Set1    Image4    99.0      NaN         73        101        109\n",
      "4        Set1    Image5    89.0      NaN         59         90         67\n",
      "..        ...       ...     ...      ...        ...        ...        ...\n",
      "95       Set4   Image96   106.0      NaN         75        112         98\n",
      "96       Set4   Image97    80.0      NaN         66         80         88\n",
      "97       Set4   Image98    92.0      NaN         73         93         95\n",
      "98       Set4   Image99   116.0      NaN        101        115         93\n",
      "99       Set4  Image100    99.0      NaN         77        106        102\n",
      "\n",
      "[100 rows x 7 columns]\n",
      "  Unnamed: 0   Image  Manual  Manual2  Auto_th_2  Auto_th_3  Auto_th_4\n",
      "0       Set1  Image1    92.0     93.0         70         87         82\n",
      "1       Set1  Image2    87.0     83.0         60         85         83\n",
      "2       Set1  Image3   104.0     98.0         74         99         94\n",
      "3       Set1  Image4    99.0      NaN         73        101        109\n",
      "4       Set1  Image5    89.0      NaN         59         90         67\n",
      "5       Set1  Image6   115.0      NaN         82        124        105\n",
      "6       Set1  Image7   102.0      NaN         68        103         93\n",
      "   Unnamed: 0     Image  Manual  Manual2  Auto_th_2  Auto_th_3  Auto_th_4\n",
      "95       Set4   Image96   106.0      NaN         75        112         98\n",
      "96       Set4   Image97    80.0      NaN         66         80         88\n",
      "97       Set4   Image98    92.0      NaN         73         93         95\n",
      "98       Set4   Image99   116.0      NaN        101        115         93\n",
      "99       Set4  Image100    99.0      NaN         77        106        102\n"
     ]
    }
   ],
   "source": [
    "print(df)  #Shows a lot of stuff but truncated\n",
    "print(df.head(7))  #Default prints 5 rows from the top\n",
    "# First default column you see are indices. \n",
    "print(df.tail())   #Default prints 5 rows from the bottom"
   ]
  },
  {
   "cell_type": "code",
   "execution_count": 27,
   "id": "db68397a",
   "metadata": {},
   "outputs": [
    {
     "name": "stdout",
     "output_type": "stream",
     "text": [
      "RangeIndex(start=0, stop=100, step=1)\n",
      "  Unnamed: 0   Image  Manual  Manual2  Auto_th_2  Auto_th_3  Auto_th_4\n",
      "0       Set1  Image1    92.0     93.0         70         87         82\n",
      "1       Set1  Image2    87.0     83.0         60         85         83\n",
      "2       Set1  Image3   104.0     98.0         74         99         94\n",
      "3       Set1  Image4    99.0      NaN         73        101        109\n",
      "4       Set1  Image5    89.0      NaN         59         90         67\n"
     ]
    }
   ],
   "source": [
    "# First line in csv is considered header, even if you don't specify\n",
    "# so it prints it out every time\n",
    "# First column is the index and it goes from 0, 1, 2, ....\n",
    "# Index is not part of the data frame\n",
    "# INdex is the unique identifier of a row, in our case a specific grain in a specific image\n",
    "# Any of the other columns can be assigned as index if we know it is a unique identifier. \n",
    "\n",
    "print(df.index)  # Defines start and stop with step size. Not very exciting with default index\n",
    "\n",
    "#But can be useful if we assign other column as index. \n",
    "# df = df.set_index('Image')\n",
    "print(df.head())\n"
   ]
  },
  {
   "cell_type": "code",
   "execution_count": 28,
   "id": "9413264c",
   "metadata": {},
   "outputs": [
    {
     "name": "stdout",
     "output_type": "stream",
     "text": [
      "Index(['Unnamed: 0', 'Image', 'Manual', 'Manual2', 'Auto_th_2', 'Auto_th_3',\n",
      "       'Auto_th_4'],\n",
      "      dtype='object')\n"
     ]
    }
   ],
   "source": [
    "#View all column names.\n",
    "\n",
    "print(df.columns)"
   ]
  },
  {
   "cell_type": "code",
   "execution_count": 29,
   "id": "bc7881dd",
   "metadata": {},
   "outputs": [
    {
     "name": "stdout",
     "output_type": "stream",
     "text": [
      "0     93.0\n",
      "1     83.0\n",
      "2     98.0\n",
      "3      NaN\n",
      "4      NaN\n",
      "      ... \n",
      "95     NaN\n",
      "96     NaN\n",
      "97     NaN\n",
      "98     NaN\n",
      "99     NaN\n",
      "Name: Manual2, Length: 100, dtype: float64\n"
     ]
    }
   ],
   "source": [
    "#Missing data is encoded as NaN so we can work with them in a friendly manner. \n",
    "\n",
    "print(df[\"Manual2\"])  "
   ]
  },
  {
   "cell_type": "code",
   "execution_count": 30,
   "id": "1998cdfc",
   "metadata": {},
   "outputs": [
    {
     "name": "stdout",
     "output_type": "stream",
     "text": [
      "    Manual  Auto_th_2\n",
      "0     92.0         70\n",
      "1     87.0         60\n",
      "2    104.0         74\n",
      "3     99.0         73\n",
      "4     89.0         59\n",
      "..     ...        ...\n",
      "95   106.0         75\n",
      "96    80.0         66\n",
      "97    92.0         73\n",
      "98   116.0        101\n",
      "99    99.0         77\n",
      "\n",
      "[100 rows x 2 columns]\n"
     ]
    }
   ],
   "source": [
    "#To get multiple columns, it is just\n",
    "print(df[['Manual', 'Auto_th_2']])"
   ]
  },
  {
   "cell_type": "code",
   "execution_count": null,
   "id": "e95feade",
   "metadata": {},
   "outputs": [
    {
     "data": {
      "text/plain": [
       "Unnamed: 0      Set1\n",
       "Image         Image3\n",
       "Manual         104.0\n",
       "Manual2         98.0\n",
       "Auto_th_2         74\n",
       "Auto_th_3         99\n",
       "Auto_th_4         94\n",
       "Name: 2, dtype: object"
      ]
     },
     "execution_count": 31,
     "metadata": {},
     "output_type": "execute_result"
    }
   ],
   "source": [
    "# To get the values of a specific index\n",
    "df.loc[2]"
   ]
  },
  {
   "cell_type": "code",
   "execution_count": 32,
   "id": "ecb785e2",
   "metadata": {},
   "outputs": [
    {
     "name": "stdout",
     "output_type": "stream",
     "text": [
      "104.0\n"
     ]
    }
   ],
   "source": [
    "value = df.loc[2]['Manual']\n",
    "print(value)"
   ]
  },
  {
   "cell_type": "code",
   "execution_count": 33,
   "id": "cdfddfe5",
   "metadata": {},
   "outputs": [
    {
     "data": {
      "text/html": [
       "<div>\n",
       "<style scoped>\n",
       "    .dataframe tbody tr th:only-of-type {\n",
       "        vertical-align: middle;\n",
       "    }\n",
       "\n",
       "    .dataframe tbody tr th {\n",
       "        vertical-align: top;\n",
       "    }\n",
       "\n",
       "    .dataframe thead th {\n",
       "        text-align: right;\n",
       "    }\n",
       "</style>\n",
       "<table border=\"1\" class=\"dataframe\">\n",
       "  <thead>\n",
       "    <tr style=\"text-align: right;\">\n",
       "      <th></th>\n",
       "      <th>Unnamed: 0</th>\n",
       "      <th>Image</th>\n",
       "      <th>Manual</th>\n",
       "      <th>Manual2</th>\n",
       "      <th>Auto_th_2</th>\n",
       "      <th>Auto_th_3</th>\n",
       "      <th>Auto_th_4</th>\n",
       "    </tr>\n",
       "  </thead>\n",
       "  <tbody>\n",
       "    <tr>\n",
       "      <th>2</th>\n",
       "      <td>Set1</td>\n",
       "      <td>Image3</td>\n",
       "      <td>104.0</td>\n",
       "      <td>98.0</td>\n",
       "      <td>74</td>\n",
       "      <td>99</td>\n",
       "      <td>94</td>\n",
       "    </tr>\n",
       "    <tr>\n",
       "      <th>8</th>\n",
       "      <td>Set1</td>\n",
       "      <td>Image9</td>\n",
       "      <td>104.0</td>\n",
       "      <td>NaN</td>\n",
       "      <td>88</td>\n",
       "      <td>99</td>\n",
       "      <td>112</td>\n",
       "    </tr>\n",
       "  </tbody>\n",
       "</table>\n",
       "</div>"
      ],
      "text/plain": [
       "  Unnamed: 0   Image  Manual  Manual2  Auto_th_2  Auto_th_3  Auto_th_4\n",
       "2       Set1  Image3   104.0     98.0         74         99         94\n",
       "8       Set1  Image9   104.0      NaN         88         99        112"
      ]
     },
     "execution_count": 33,
     "metadata": {},
     "output_type": "execute_result"
    }
   ],
   "source": [
    "df.loc[[2,8]]"
   ]
  },
  {
   "cell_type": "code",
   "execution_count": 34,
   "id": "a08cbaf9",
   "metadata": {},
   "outputs": [
    {
     "data": {
      "text/plain": [
       "Manual    104.0\n",
       "Name: 2, dtype: object"
      ]
     },
     "execution_count": 34,
     "metadata": {},
     "output_type": "execute_result"
    }
   ],
   "source": [
    "# We can also get specific values\n",
    "df.loc[2, ['Manual']]      # df.loc[INDEX, COLUMN]"
   ]
  },
  {
   "cell_type": "code",
   "execution_count": 35,
   "id": "3bfaa8fd",
   "metadata": {},
   "outputs": [
    {
     "name": "stdout",
     "output_type": "stream",
     "text": [
      "    Manual  Auto_th_2\n",
      "20    89.0         65\n",
      "21    88.0         66\n",
      "22   106.0         71\n",
      "23   107.0         92\n",
      "24   108.0         93\n",
      "25   102.0         85\n",
      "26    93.0         76\n",
      "27    83.0         62\n",
      "28   110.0         92\n",
      "29    89.0         70\n",
      "30   115.0         77\n"
     ]
    }
   ],
   "source": [
    "#Combining above two, to get specific columns from specific rows.\n",
    "\n",
    "df = pd.read_csv('csv files/manual_vs_auto.csv')\n",
    "print(df.loc[20:30, ['Manual', 'Auto_th_2']])"
   ]
  },
  {
   "cell_type": "code",
   "execution_count": 36,
   "id": "e3bb81af",
   "metadata": {},
   "outputs": [
    {
     "name": "stdout",
     "output_type": "stream",
     "text": [
      "['Set1' 'Set2' 'Set3' 'Set4']\n",
      "120.0\n"
     ]
    }
   ],
   "source": [
    "# TO look at all unique entires. In this case, our 3 file names. \n",
    "print(df['Unnamed: 0'].unique())\n",
    "\n",
    "# To get the max value of a column\n",
    "print(df['Manual'].max())"
   ]
  },
  {
   "cell_type": "code",
   "execution_count": 37,
   "id": "8334ace4",
   "metadata": {},
   "outputs": [
    {
     "name": "stdout",
     "output_type": "stream",
     "text": [
      "Index(['Image_set', 'Image', 'Manual', 'Manual2', 'Auto_th_2', 'Auto_th_3',\n",
      "       'Auto_th_4'],\n",
      "      dtype='object')\n"
     ]
    }
   ],
   "source": [
    "#If unnamed is bothering you then you can change the name.\n",
    "df = df.rename(columns = {'Unnamed: 0':'Image_set'})\n",
    "\n",
    "df = df.rename(columns = {'equivalent_diameter':'Diameter(um)', \n",
    "                          'Area':'Area(sq. um)',\n",
    "                          'orientation':'orientation (deg)',\n",
    "                          'MajorAxisLength':'Length (um)',\n",
    "                          'MinorAxisLength':'Width (um)',\n",
    "                          'Perimeter':'Perimeter (um)'})\n",
    "\n",
    "print(df.columns) "
   ]
  },
  {
   "cell_type": "code",
   "execution_count": 38,
   "id": "7386c10f",
   "metadata": {},
   "outputs": [
    {
     "name": "stdout",
     "output_type": "stream",
     "text": [
      "Image_set     object\n",
      "Image         object\n",
      "Manual       float64\n",
      "Manual2      float64\n",
      "Auto_th_2      int64\n",
      "Auto_th_3      int64\n",
      "Auto_th_4      int64\n",
      "dtype: object\n"
     ]
    }
   ],
   "source": [
    "print(df.dtypes)  "
   ]
  },
  {
   "cell_type": "code",
   "execution_count": 39,
   "id": "6e802e03",
   "metadata": {},
   "outputs": [
    {
     "name": "stdout",
     "output_type": "stream",
     "text": [
      "           Manual    Manual2   Auto_th_2   Auto_th_3   Auto_th_4\n",
      "count   94.000000   3.000000  100.000000  100.000000  100.000000\n",
      "mean   100.021277  91.333333   76.370000   97.580000   93.210000\n",
      "std     11.285140   7.637626   11.971055   12.327337   14.128769\n",
      "min     80.000000  83.000000   55.000000   71.000000   63.000000\n",
      "25%     90.250000  88.000000   67.750000   89.500000   83.750000\n",
      "50%    101.000000  93.000000   74.500000   98.500000   93.000000\n",
      "75%    108.000000  95.500000   85.000000  106.000000  103.250000\n",
      "max    120.000000  98.000000  109.000000  124.000000  129.000000\n"
     ]
    }
   ],
   "source": [
    "print(df.describe()) #Gives statistical summary of each column. "
   ]
  },
  {
   "cell_type": "code",
   "execution_count": 40,
   "id": "68d5d95a",
   "metadata": {},
   "outputs": [
    {
     "name": "stdout",
     "output_type": "stream",
     "text": [
      "Auto_th_2\n",
      "73    6\n",
      "85    6\n",
      "74    5\n",
      "60    5\n",
      "66    5\n",
      "Name: count, dtype: int64\n",
      "Count for 73:  6\n",
      "Count for 73: 6\n"
     ]
    }
   ],
   "source": [
    "# To see the amount of time a value is repeated\n",
    "\n",
    "print(df['Auto_th_2'].value_counts().head())\n",
    "\n",
    "# to see the count for a specific value\n",
    "count = df['Auto_th_2'].value_counts().get(73, 0)\n",
    "print(\"Count for 73: \", count)\n",
    "\n",
    "# or\n",
    "count = (df['Auto_th_2'] == 73).sum()\n",
    "print(\"Count for 73:\", count)\n",
    "\n"
   ]
  },
  {
   "cell_type": "code",
   "execution_count": null,
   "id": "bd3076ba",
   "metadata": {},
   "outputs": [
    {
     "data": {
      "text/html": [
       "<div>\n",
       "<style scoped>\n",
       "    .dataframe tbody tr th:only-of-type {\n",
       "        vertical-align: middle;\n",
       "    }\n",
       "\n",
       "    .dataframe tbody tr th {\n",
       "        vertical-align: top;\n",
       "    }\n",
       "\n",
       "    .dataframe thead th {\n",
       "        text-align: right;\n",
       "    }\n",
       "</style>\n",
       "<table border=\"1\" class=\"dataframe\">\n",
       "  <thead>\n",
       "    <tr style=\"text-align: right;\">\n",
       "      <th></th>\n",
       "      <th>Image_set</th>\n",
       "      <th>Image</th>\n",
       "      <th>Manual</th>\n",
       "      <th>Manual2</th>\n",
       "      <th>Auto_th_2</th>\n",
       "      <th>Auto_th_3</th>\n",
       "      <th>Auto_th_4</th>\n",
       "    </tr>\n",
       "  </thead>\n",
       "  <tbody>\n",
       "    <tr>\n",
       "      <th>0</th>\n",
       "      <td>Set1</td>\n",
       "      <td>Image1</td>\n",
       "      <td>92.0</td>\n",
       "      <td>93.0</td>\n",
       "      <td>70</td>\n",
       "      <td>87</td>\n",
       "      <td>82</td>\n",
       "    </tr>\n",
       "    <tr>\n",
       "      <th>1</th>\n",
       "      <td>Set1</td>\n",
       "      <td>Image2</td>\n",
       "      <td>87.0</td>\n",
       "      <td>83.0</td>\n",
       "      <td>60</td>\n",
       "      <td>85</td>\n",
       "      <td>83</td>\n",
       "    </tr>\n",
       "    <tr>\n",
       "      <th>2</th>\n",
       "      <td>Set1</td>\n",
       "      <td>Image3</td>\n",
       "      <td>104.0</td>\n",
       "      <td>98.0</td>\n",
       "      <td>74</td>\n",
       "      <td>99</td>\n",
       "      <td>94</td>\n",
       "    </tr>\n",
       "    <tr>\n",
       "      <th>3</th>\n",
       "      <td>Set1</td>\n",
       "      <td>Image4</td>\n",
       "      <td>99.0</td>\n",
       "      <td>NaN</td>\n",
       "      <td>73</td>\n",
       "      <td>101</td>\n",
       "      <td>109</td>\n",
       "    </tr>\n",
       "    <tr>\n",
       "      <th>4</th>\n",
       "      <td>Set1</td>\n",
       "      <td>Image5</td>\n",
       "      <td>89.0</td>\n",
       "      <td>NaN</td>\n",
       "      <td>59</td>\n",
       "      <td>90</td>\n",
       "      <td>67</td>\n",
       "    </tr>\n",
       "    <tr>\n",
       "      <th>...</th>\n",
       "      <td>...</td>\n",
       "      <td>...</td>\n",
       "      <td>...</td>\n",
       "      <td>...</td>\n",
       "      <td>...</td>\n",
       "      <td>...</td>\n",
       "      <td>...</td>\n",
       "    </tr>\n",
       "    <tr>\n",
       "      <th>95</th>\n",
       "      <td>Set4</td>\n",
       "      <td>Image96</td>\n",
       "      <td>106.0</td>\n",
       "      <td>NaN</td>\n",
       "      <td>75</td>\n",
       "      <td>112</td>\n",
       "      <td>98</td>\n",
       "    </tr>\n",
       "    <tr>\n",
       "      <th>96</th>\n",
       "      <td>Set4</td>\n",
       "      <td>Image97</td>\n",
       "      <td>80.0</td>\n",
       "      <td>NaN</td>\n",
       "      <td>66</td>\n",
       "      <td>80</td>\n",
       "      <td>88</td>\n",
       "    </tr>\n",
       "    <tr>\n",
       "      <th>97</th>\n",
       "      <td>Set4</td>\n",
       "      <td>Image98</td>\n",
       "      <td>92.0</td>\n",
       "      <td>NaN</td>\n",
       "      <td>73</td>\n",
       "      <td>93</td>\n",
       "      <td>95</td>\n",
       "    </tr>\n",
       "    <tr>\n",
       "      <th>98</th>\n",
       "      <td>Set4</td>\n",
       "      <td>Image99</td>\n",
       "      <td>116.0</td>\n",
       "      <td>NaN</td>\n",
       "      <td>101</td>\n",
       "      <td>115</td>\n",
       "      <td>93</td>\n",
       "    </tr>\n",
       "    <tr>\n",
       "      <th>99</th>\n",
       "      <td>Set4</td>\n",
       "      <td>Image100</td>\n",
       "      <td>99.0</td>\n",
       "      <td>NaN</td>\n",
       "      <td>77</td>\n",
       "      <td>106</td>\n",
       "      <td>102</td>\n",
       "    </tr>\n",
       "  </tbody>\n",
       "</table>\n",
       "<p>93 rows × 7 columns</p>\n",
       "</div>"
      ],
      "text/plain": [
       "   Image_set     Image  Manual  Manual2  Auto_th_2  Auto_th_3  Auto_th_4\n",
       "0       Set1    Image1    92.0     93.0         70         87         82\n",
       "1       Set1    Image2    87.0     83.0         60         85         83\n",
       "2       Set1    Image3   104.0     98.0         74         99         94\n",
       "3       Set1    Image4    99.0      NaN         73        101        109\n",
       "4       Set1    Image5    89.0      NaN         59         90         67\n",
       "..       ...       ...     ...      ...        ...        ...        ...\n",
       "95      Set4   Image96   106.0      NaN         75        112         98\n",
       "96      Set4   Image97    80.0      NaN         66         80         88\n",
       "97      Set4   Image98    92.0      NaN         73         93         95\n",
       "98      Set4   Image99   116.0      NaN        101        115         93\n",
       "99      Set4  Image100    99.0      NaN         77        106        102\n",
       "\n",
       "[93 rows x 7 columns]"
      ]
     },
     "execution_count": 43,
     "metadata": {},
     "output_type": "execute_result"
    }
   ],
   "source": [
    "# To see duplicates according to a specific column:\n",
    "\n",
    "duplicate_manuals = df[df.duplicated(subset=['Manual'], keep=False)]\n",
    "duplicate_manuals"
   ]
  },
  {
   "cell_type": "markdown",
   "id": "d423c5ae",
   "metadata": {},
   "source": [
    "# Difference between loc and iloc\n",
    "\n",
    "iloc[0]\n",
    "Accesses the first row by position (i.e., row at index 0 in the result).\n",
    "It ignores the actual index label and just goes by order.\n",
    "\n",
    "loc\n",
    "Accesses rows by their label/index, not by position.\n",
    "So using loc[0] means you're trying to access the row whose index label is literally 0, not the first row of the result.\n",
    "\n",
    "iloc uses the Python stdlib indexing scheme, where the first element of the range is included and the last one excluded. loc, meanwhile, indexes inclusively.\n",
    "\n",
    "This is particularly confusing when the DataFrame index is a simple numerical list, e.g. 0,...,1000. In this case df.iloc[0:1000] will return 1000 entries, while df.loc[0:1000] return 1001 of them! To get 1000 elements using loc, you will need to go one lower and ask for df.iloc[0:999]."
   ]
  }
 ],
 "metadata": {
  "kernelspec": {
   "display_name": "Python 3",
   "language": "python",
   "name": "python3"
  },
  "language_info": {
   "codemirror_mode": {
    "name": "ipython",
    "version": 3
   },
   "file_extension": ".py",
   "mimetype": "text/x-python",
   "name": "python",
   "nbconvert_exporter": "python",
   "pygments_lexer": "ipython3",
   "version": "3.13.3"
  }
 },
 "nbformat": 4,
 "nbformat_minor": 5
}
