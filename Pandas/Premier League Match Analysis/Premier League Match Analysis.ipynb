{
 "cells": [
  {
   "cell_type": "code",
   "execution_count": 28,
   "id": "7df32c42",
   "metadata": {},
   "outputs": [
    {
     "data": {
      "text/html": [
       "<div>\n",
       "<style scoped>\n",
       "    .dataframe tbody tr th:only-of-type {\n",
       "        vertical-align: middle;\n",
       "    }\n",
       "\n",
       "    .dataframe tbody tr th {\n",
       "        vertical-align: top;\n",
       "    }\n",
       "\n",
       "    .dataframe thead th {\n",
       "        text-align: right;\n",
       "    }\n",
       "</style>\n",
       "<table border=\"1\" class=\"dataframe\">\n",
       "  <thead>\n",
       "    <tr style=\"text-align: right;\">\n",
       "      <th></th>\n",
       "      <th>Season</th>\n",
       "      <th>home_team</th>\n",
       "      <th>away_team</th>\n",
       "      <th>home_goals</th>\n",
       "      <th>away_goals</th>\n",
       "      <th>result</th>\n",
       "    </tr>\n",
       "  </thead>\n",
       "  <tbody>\n",
       "    <tr>\n",
       "      <th>0</th>\n",
       "      <td>1993-94</td>\n",
       "      <td>Arsenal</td>\n",
       "      <td>Coventry</td>\n",
       "      <td>0</td>\n",
       "      <td>3</td>\n",
       "      <td>A</td>\n",
       "    </tr>\n",
       "    <tr>\n",
       "      <th>1</th>\n",
       "      <td>1993-94</td>\n",
       "      <td>Aston Villa</td>\n",
       "      <td>QPR</td>\n",
       "      <td>4</td>\n",
       "      <td>1</td>\n",
       "      <td>H</td>\n",
       "    </tr>\n",
       "    <tr>\n",
       "      <th>2</th>\n",
       "      <td>1993-94</td>\n",
       "      <td>Chelsea</td>\n",
       "      <td>Blackburn</td>\n",
       "      <td>1</td>\n",
       "      <td>2</td>\n",
       "      <td>A</td>\n",
       "    </tr>\n",
       "    <tr>\n",
       "      <th>3</th>\n",
       "      <td>1993-94</td>\n",
       "      <td>Liverpool</td>\n",
       "      <td>Sheffield Weds</td>\n",
       "      <td>2</td>\n",
       "      <td>0</td>\n",
       "      <td>H</td>\n",
       "    </tr>\n",
       "    <tr>\n",
       "      <th>4</th>\n",
       "      <td>1993-94</td>\n",
       "      <td>Man City</td>\n",
       "      <td>Leeds</td>\n",
       "      <td>1</td>\n",
       "      <td>1</td>\n",
       "      <td>D</td>\n",
       "    </tr>\n",
       "  </tbody>\n",
       "</table>\n",
       "</div>"
      ],
      "text/plain": [
       "    Season    home_team       away_team  home_goals  away_goals result\n",
       "0  1993-94      Arsenal        Coventry           0           3      A\n",
       "1  1993-94  Aston Villa             QPR           4           1      H\n",
       "2  1993-94      Chelsea       Blackburn           1           2      A\n",
       "3  1993-94    Liverpool  Sheffield Weds           2           0      H\n",
       "4  1993-94     Man City           Leeds           1           1      D"
      ]
     },
     "execution_count": 28,
     "metadata": {},
     "output_type": "execute_result"
    }
   ],
   "source": [
    "import pandas as pd\n",
    "df = pd.read_csv('epl_dataset.csv')\n",
    "df.head()"
   ]
  },
  {
   "cell_type": "code",
   "execution_count": 29,
   "id": "b4077c11",
   "metadata": {},
   "outputs": [
    {
     "name": "stdout",
     "output_type": "stream",
     "text": [
      "<class 'pandas.core.frame.DataFrame'>\n",
      "RangeIndex: 11113 entries, 0 to 11112\n",
      "Data columns (total 6 columns):\n",
      " #   Column      Non-Null Count  Dtype \n",
      "---  ------      --------------  ----- \n",
      " 0   Season      11113 non-null  object\n",
      " 1   home_team   11113 non-null  object\n",
      " 2   away_team   11113 non-null  object\n",
      " 3   home_goals  11113 non-null  int64 \n",
      " 4   away_goals  11113 non-null  int64 \n",
      " 5   result      11113 non-null  object\n",
      "dtypes: int64(2), object(4)\n",
      "memory usage: 521.1+ KB\n"
     ]
    }
   ],
   "source": [
    "df.info()"
   ]
  },
  {
   "cell_type": "markdown",
   "id": "05a7a92e",
   "metadata": {},
   "source": [
    "### Replace invalid values from the season column  (? -> 'Unknown season')"
   ]
  },
  {
   "cell_type": "code",
   "execution_count": 30,
   "id": "3bfd996d",
   "metadata": {},
   "outputs": [],
   "source": [
    "df.loc[df['Season'] == '?', 'Season'] = 'Unknown Season'"
   ]
  },
  {
   "cell_type": "markdown",
   "id": "99161c69",
   "metadata": {},
   "source": [
    "### Identify invalid values in goals scored\n",
    "\n",
    "Analyze the columns home_goals and remove rows with invalid values\n",
    "Hint: Use a visualization to help you in the process!"
   ]
  },
  {
   "cell_type": "code",
   "execution_count": 32,
   "id": "51a99029",
   "metadata": {},
   "outputs": [
    {
     "data": {
      "text/plain": [
       "<Axes: >"
      ]
     },
     "execution_count": 32,
     "metadata": {},
     "output_type": "execute_result"
    },
    {
     "data": {
      "image/png": "[encoded data removed]",
      "text/plain": [
       "<Figure size 640x480 with 1 Axes>"
      ]
     },
     "metadata": {},
     "output_type": "display_data"
    }
   ],
   "source": [
    "df['home_goals'].plot(kind='box', vert = False)    # there are some negative values. Goals should be >= 0"
   ]
  },
  {
   "cell_type": "code",
   "execution_count": 33,
   "id": "4a34683f",
   "metadata": {},
   "outputs": [
    {
     "data": {
      "text/html": [
       "<div>\n",
       "<style scoped>\n",
       "    .dataframe tbody tr th:only-of-type {\n",
       "        vertical-align: middle;\n",
       "    }\n",
       "\n",
       "    .dataframe tbody tr th {\n",
       "        vertical-align: top;\n",
       "    }\n",
       "\n",
       "    .dataframe thead th {\n",
       "        text-align: right;\n",
       "    }\n",
       "</style>\n",
       "<table border=\"1\" class=\"dataframe\">\n",
       "  <thead>\n",
       "    <tr style=\"text-align: right;\">\n",
       "      <th></th>\n",
       "      <th>Season</th>\n",
       "      <th>home_team</th>\n",
       "      <th>away_team</th>\n",
       "      <th>home_goals</th>\n",
       "      <th>away_goals</th>\n",
       "      <th>result</th>\n",
       "    </tr>\n",
       "  </thead>\n",
       "  <tbody>\n",
       "    <tr>\n",
       "      <th>12</th>\n",
       "      <td>1993-94</td>\n",
       "      <td>Everton</td>\n",
       "      <td>Man City</td>\n",
       "      <td>-1</td>\n",
       "      <td>0</td>\n",
       "      <td>H</td>\n",
       "    </tr>\n",
       "    <tr>\n",
       "      <th>1777</th>\n",
       "      <td>1997-98</td>\n",
       "      <td>Liverpool</td>\n",
       "      <td>Chelsea</td>\n",
       "      <td>-4</td>\n",
       "      <td>2</td>\n",
       "      <td>H</td>\n",
       "    </tr>\n",
       "    <tr>\n",
       "      <th>1785</th>\n",
       "      <td>1997-98</td>\n",
       "      <td>Leeds</td>\n",
       "      <td>Newcastle</td>\n",
       "      <td>-4</td>\n",
       "      <td>1</td>\n",
       "      <td>H</td>\n",
       "    </tr>\n",
       "    <tr>\n",
       "      <th>1791</th>\n",
       "      <td>1997-98</td>\n",
       "      <td>Liverpool</td>\n",
       "      <td>Derby</td>\n",
       "      <td>-4</td>\n",
       "      <td>0</td>\n",
       "      <td>H</td>\n",
       "    </tr>\n",
       "    <tr>\n",
       "      <th>1813</th>\n",
       "      <td>1997-98</td>\n",
       "      <td>Liverpool</td>\n",
       "      <td>Tottenham</td>\n",
       "      <td>-4</td>\n",
       "      <td>0</td>\n",
       "      <td>H</td>\n",
       "    </tr>\n",
       "    <tr>\n",
       "      <th>1832</th>\n",
       "      <td>1997-98</td>\n",
       "      <td>Chelsea</td>\n",
       "      <td>Derby</td>\n",
       "      <td>-4</td>\n",
       "      <td>0</td>\n",
       "      <td>H</td>\n",
       "    </tr>\n",
       "    <tr>\n",
       "      <th>1965</th>\n",
       "      <td>1997-98</td>\n",
       "      <td>Leeds</td>\n",
       "      <td>Blackburn</td>\n",
       "      <td>-4</td>\n",
       "      <td>0</td>\n",
       "      <td>H</td>\n",
       "    </tr>\n",
       "  </tbody>\n",
       "</table>\n",
       "</div>"
      ],
      "text/plain": [
       "       Season  home_team  away_team  home_goals  away_goals result\n",
       "12    1993-94    Everton   Man City          -1           0      H\n",
       "1777  1997-98  Liverpool    Chelsea          -4           2      H\n",
       "1785  1997-98      Leeds  Newcastle          -4           1      H\n",
       "1791  1997-98  Liverpool      Derby          -4           0      H\n",
       "1813  1997-98  Liverpool  Tottenham          -4           0      H\n",
       "1832  1997-98    Chelsea      Derby          -4           0      H\n",
       "1965  1997-98      Leeds  Blackburn          -4           0      H"
      ]
     },
     "execution_count": 33,
     "metadata": {},
     "output_type": "execute_result"
    }
   ],
   "source": [
    "df[df['home_goals'] < 0]"
   ]
  },
  {
   "cell_type": "code",
   "execution_count": 34,
   "id": "f7d34b5d",
   "metadata": {},
   "outputs": [
    {
     "data": {
      "text/html": [
       "<div>\n",
       "<style scoped>\n",
       "    .dataframe tbody tr th:only-of-type {\n",
       "        vertical-align: middle;\n",
       "    }\n",
       "\n",
       "    .dataframe tbody tr th {\n",
       "        vertical-align: top;\n",
       "    }\n",
       "\n",
       "    .dataframe thead th {\n",
       "        text-align: right;\n",
       "    }\n",
       "</style>\n",
       "<table border=\"1\" class=\"dataframe\">\n",
       "  <thead>\n",
       "    <tr style=\"text-align: right;\">\n",
       "      <th></th>\n",
       "      <th>Season</th>\n",
       "      <th>home_team</th>\n",
       "      <th>away_team</th>\n",
       "      <th>home_goals</th>\n",
       "      <th>away_goals</th>\n",
       "      <th>result</th>\n",
       "    </tr>\n",
       "  </thead>\n",
       "  <tbody>\n",
       "  </tbody>\n",
       "</table>\n",
       "</div>"
      ],
      "text/plain": [
       "Empty DataFrame\n",
       "Columns: [Season, home_team, away_team, home_goals, away_goals, result]\n",
       "Index: []"
      ]
     },
     "execution_count": 34,
     "metadata": {},
     "output_type": "execute_result"
    }
   ],
   "source": [
    "df = df[df['home_goals'] >= 0]\n",
    "\n",
    "df[df['home_goals'] < 0]"
   ]
  },
  {
   "cell_type": "code",
   "execution_count": 35,
   "id": "e1c5f7dc",
   "metadata": {},
   "outputs": [
    {
     "data": {
      "text/plain": [
       "result\n",
       "H    5081\n",
       "A    3161\n",
       "D    2864\n",
       "Name: count, dtype: int64"
      ]
     },
     "execution_count": 35,
     "metadata": {},
     "output_type": "execute_result"
    }
   ],
   "source": [
    "df['result'].value_counts()"
   ]
  },
  {
   "cell_type": "markdown",
   "id": "0cf17b4a",
   "metadata": {},
   "source": [
    "### Identify and clean invalid results in the result column"
   ]
  },
  {
   "cell_type": "code",
   "execution_count": 38,
   "id": "c96767ee",
   "metadata": {},
   "outputs": [],
   "source": [
    "df.loc[df['home_goals'] > df['away_goals'], 'result'] = 'H'\n",
    "df.loc[df['home_goals'] < df['away_goals'], 'result'] = 'A'\n",
    "df.loc[df['home_goals'] == df['away_goals'], 'result'] = 'D'"
   ]
  },
  {
   "cell_type": "markdown",
   "id": "0e56833d",
   "metadata": {},
   "source": [
    "### Calculate average goals per season"
   ]
  },
  {
   "cell_type": "code",
   "execution_count": 45,
   "id": "8d40c750",
   "metadata": {},
   "outputs": [
    {
     "data": {
      "text/plain": [
       "Season\n",
       "1993-94    2.590022\n",
       "1994-95    2.586580\n",
       "1995-96    2.600000\n",
       "1996-97    2.552632\n",
       "1997-98    2.652406\n",
       "Name: Total_Goals, dtype: float64"
      ]
     },
     "execution_count": 45,
     "metadata": {},
     "output_type": "execute_result"
    }
   ],
   "source": [
    "df['Total_Goals'] = df['home_goals'] + df['away_goals']\t\n",
    "\n",
    "df.groupby('Season')['Total_Goals'].mean().head()"
   ]
  },
  {
   "cell_type": "markdown",
   "id": "197acb69",
   "metadata": {},
   "source": [
    "### What's the biggest goal difference in a match?"
   ]
  },
  {
   "cell_type": "code",
   "execution_count": 46,
   "id": "a99d1165",
   "metadata": {},
   "outputs": [
    {
     "data": {
      "text/plain": [
       "np.int64(9)"
      ]
     },
     "execution_count": 46,
     "metadata": {},
     "output_type": "execute_result"
    }
   ],
   "source": [
    "(df['home_goals'] - df['away_goals']).abs().max()"
   ]
  },
  {
   "cell_type": "markdown",
   "id": "75e0fa9c",
   "metadata": {},
   "source": [
    "### What's the team with most away wins?"
   ]
  },
  {
   "cell_type": "code",
   "execution_count": 54,
   "id": "83b983d5",
   "metadata": {},
   "outputs": [
    {
     "data": {
      "text/plain": [
       "'Man United'"
      ]
     },
     "execution_count": 54,
     "metadata": {},
     "output_type": "execute_result"
    }
   ],
   "source": [
    "away_wins = df[df['result'] == 'A']\n",
    "\n",
    "away_wins['away_team'].value_counts().idxmax()"
   ]
  },
  {
   "cell_type": "code",
   "execution_count": 66,
   "id": "009c91e7",
   "metadata": {},
   "outputs": [
    {
     "data": {
      "text/plain": [
       "'Man United'"
      ]
     },
     "execution_count": 66,
     "metadata": {},
     "output_type": "execute_result"
    }
   ],
   "source": [
    "# or\n",
    "df[df['result'] == 'A'].groupby('away_team')['result'].count().idxmax()"
   ]
  },
  {
   "cell_type": "markdown",
   "id": "3a434d2c",
   "metadata": {},
   "source": [
    "### What's the team with the most goals scored at home?"
   ]
  },
  {
   "cell_type": "code",
   "execution_count": 56,
   "id": "9e297489",
   "metadata": {},
   "outputs": [
    {
     "data": {
      "text/plain": [
       "home_team\n",
       "Man United    1168\n",
       "Arsenal       1119\n",
       "Liverpool     1093\n",
       "Chelsea       1080\n",
       "Tottenham      948\n",
       "Name: home_goals, dtype: int64"
      ]
     },
     "execution_count": 56,
     "metadata": {},
     "output_type": "execute_result"
    }
   ],
   "source": [
    "home_goals = df.groupby('home_team')['home_goals'].sum().sort_values(ascending=False)\n",
    "home_goals.head(5)"
   ]
  },
  {
   "cell_type": "markdown",
   "id": "66a1bdbd",
   "metadata": {},
   "source": [
    "### What's the team that received the least amount of goals while playing at home?\n",
    "\n",
    "This is a tricky activity, because we're not looking for the \"total\" of goals received, but the \"ratio\" of received goals / played goals."
   ]
  },
  {
   "cell_type": "code",
   "execution_count": 76,
   "id": "46e22ab3",
   "metadata": {},
   "outputs": [
    {
     "data": {
      "text/html": [
       "<div>\n",
       "<style scoped>\n",
       "    .dataframe tbody tr th:only-of-type {\n",
       "        vertical-align: middle;\n",
       "    }\n",
       "\n",
       "    .dataframe tbody tr th {\n",
       "        vertical-align: top;\n",
       "    }\n",
       "\n",
       "    .dataframe thead th {\n",
       "        text-align: right;\n",
       "    }\n",
       "</style>\n",
       "<table border=\"1\" class=\"dataframe\">\n",
       "  <thead>\n",
       "    <tr style=\"text-align: right;\">\n",
       "      <th></th>\n",
       "      <th>away_goals</th>\n",
       "    </tr>\n",
       "    <tr>\n",
       "      <th>home_team</th>\n",
       "      <th></th>\n",
       "    </tr>\n",
       "  </thead>\n",
       "  <tbody>\n",
       "    <tr>\n",
       "      <th>Man United</th>\n",
       "      <td>0.744565</td>\n",
       "    </tr>\n",
       "    <tr>\n",
       "      <th>Liverpool</th>\n",
       "      <td>0.795620</td>\n",
       "    </tr>\n",
       "    <tr>\n",
       "      <th>Chelsea</th>\n",
       "      <td>0.828780</td>\n",
       "    </tr>\n",
       "    <tr>\n",
       "      <th>Arsenal</th>\n",
       "      <td>0.844203</td>\n",
       "    </tr>\n",
       "    <tr>\n",
       "      <th>Man City</th>\n",
       "      <td>0.942982</td>\n",
       "    </tr>\n",
       "  </tbody>\n",
       "</table>\n",
       "</div>"
      ],
      "text/plain": [
       "            away_goals\n",
       "home_team             \n",
       "Man United    0.744565\n",
       "Liverpool     0.795620\n",
       "Chelsea       0.828780\n",
       "Arsenal       0.844203\n",
       "Man City      0.942982"
      ]
     },
     "execution_count": 76,
     "metadata": {},
     "output_type": "execute_result"
    }
   ],
   "source": [
    "df[['home_team', 'away_goals']].groupby('home_team').mean().sort_values(by='away_goals').head(5)"
   ]
  },
  {
   "cell_type": "code",
   "execution_count": null,
   "id": "0b4817dc",
   "metadata": {},
   "outputs": [
    {
     "name": "stderr",
     "output_type": "stream",
     "text": [
      "C:\\Users\\User\\AppData\\Local\\Temp\\ipykernel_9228\\1330593079.py:2: DeprecationWarning: DataFrameGroupBy.apply operated on the grouping columns. This behavior is deprecated, and in a future version of pandas the grouping columns will be excluded from the operation. Either pass `include_groups=False` to exclude the groupings or explicitly select the grouping columns after groupby to silence this warning.\n",
      "  df.groupby('home_team').apply(lambda rows: rows['away_goals'].sum() / rows['result'].count()).sort_values().head()\n"
     ]
    },
    {
     "data": {
      "text/plain": [
       "home_team\n",
       "Man United    0.744565\n",
       "Liverpool     0.795620\n",
       "Chelsea       0.828780\n",
       "Arsenal       0.844203\n",
       "Man City      0.942982\n",
       "dtype: float64"
      ]
     },
     "execution_count": 80,
     "metadata": {},
     "output_type": "execute_result"
    }
   ],
   "source": [
    "# or\n",
    "df.groupby('home_team').apply(lambda rows: rows['away_goals'].sum() / rows['result'].count()).sort_values().head()"
   ]
  },
  {
   "cell_type": "code",
   "execution_count": 83,
   "id": "ddc69826",
   "metadata": {},
   "outputs": [
    {
     "data": {
      "text/html": [
       "<div>\n",
       "<style scoped>\n",
       "    .dataframe tbody tr th:only-of-type {\n",
       "        vertical-align: middle;\n",
       "    }\n",
       "\n",
       "    .dataframe tbody tr th {\n",
       "        vertical-align: top;\n",
       "    }\n",
       "\n",
       "    .dataframe thead th {\n",
       "        text-align: right;\n",
       "    }\n",
       "</style>\n",
       "<table border=\"1\" class=\"dataframe\">\n",
       "  <thead>\n",
       "    <tr style=\"text-align: right;\">\n",
       "      <th></th>\n",
       "      <th>games_played</th>\n",
       "      <th>goals_received</th>\n",
       "      <th>ratio</th>\n",
       "    </tr>\n",
       "    <tr>\n",
       "      <th>home_team</th>\n",
       "      <th></th>\n",
       "      <th></th>\n",
       "      <th></th>\n",
       "    </tr>\n",
       "  </thead>\n",
       "  <tbody>\n",
       "    <tr>\n",
       "      <th>Man United</th>\n",
       "      <td>552</td>\n",
       "      <td>411</td>\n",
       "      <td>0.744565</td>\n",
       "    </tr>\n",
       "    <tr>\n",
       "      <th>Arsenal</th>\n",
       "      <td>552</td>\n",
       "      <td>466</td>\n",
       "      <td>0.844203</td>\n",
       "    </tr>\n",
       "    <tr>\n",
       "      <th>Tottenham</th>\n",
       "      <td>551</td>\n",
       "      <td>591</td>\n",
       "      <td>1.072595</td>\n",
       "    </tr>\n",
       "    <tr>\n",
       "      <th>Everton</th>\n",
       "      <td>550</td>\n",
       "      <td>607</td>\n",
       "      <td>1.103636</td>\n",
       "    </tr>\n",
       "    <tr>\n",
       "      <th>Chelsea</th>\n",
       "      <td>549</td>\n",
       "      <td>455</td>\n",
       "      <td>0.828780</td>\n",
       "    </tr>\n",
       "  </tbody>\n",
       "</table>\n",
       "</div>"
      ],
      "text/plain": [
       "            games_played  goals_received     ratio\n",
       "home_team                                         \n",
       "Man United           552             411  0.744565\n",
       "Arsenal              552             466  0.844203\n",
       "Tottenham            551             591  1.072595\n",
       "Everton              550             607  1.103636\n",
       "Chelsea              549             455  0.828780"
      ]
     },
     "execution_count": 83,
     "metadata": {},
     "output_type": "execute_result"
    }
   ],
   "source": [
    "# or\n",
    "away_goals_df = df.groupby('home_team')[['result', 'away_goals']].agg(\n",
    "    {'result': 'count', 'away_goals': 'sum'}\n",
    ").sort_values(\n",
    "    by=['result', 'away_goals'], ascending=[False, True]\n",
    ").rename(columns={'result': 'games_played', 'away_goals': 'goals_received'})\n",
    "\n",
    "away_goals_df['ratio'] = away_goals_df['goals_received'] / away_goals_df['games_played']\n",
    "away_goals_df.head(5)"
   ]
  }
 ],
 "metadata": {
  "kernelspec": {
   "display_name": "Python 3",
   "language": "python",
   "name": "python3"
  },
  "language_info": {
   "codemirror_mode": {
    "name": "ipython",
    "version": 3
   },
   "file_extension": ".py",
   "mimetype": "text/x-python",
   "name": "python",
   "nbconvert_exporter": "python",
   "pygments_lexer": "ipython3",
   "version": "3.13.2"
  }
 },
 "nbformat": 4,
 "nbformat_minor": 5
}
