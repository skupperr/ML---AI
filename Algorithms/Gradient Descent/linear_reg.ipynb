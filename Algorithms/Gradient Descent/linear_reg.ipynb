{
 "cells": [
  {
   "cell_type": "code",
   "execution_count": 135,
   "id": "d7860dfc",
   "metadata": {},
   "outputs": [],
   "source": [
    "import pandas as pd\n",
    "import numpy as np\n",
    "import matplotlib.pyplot as plt"
   ]
  },
  {
   "cell_type": "code",
   "execution_count": 136,
   "id": "ac249241",
   "metadata": {},
   "outputs": [
    {
     "data": {
      "text/html": [
       "<div>\n",
       "<style scoped>\n",
       "    .dataframe tbody tr th:only-of-type {\n",
       "        vertical-align: middle;\n",
       "    }\n",
       "\n",
       "    .dataframe tbody tr th {\n",
       "        vertical-align: top;\n",
       "    }\n",
       "\n",
       "    .dataframe thead th {\n",
       "        text-align: right;\n",
       "    }\n",
       "</style>\n",
       "<table border=\"1\" class=\"dataframe\">\n",
       "  <thead>\n",
       "    <tr style=\"text-align: right;\">\n",
       "      <th></th>\n",
       "      <th>x</th>\n",
       "      <th>y</th>\n",
       "    </tr>\n",
       "  </thead>\n",
       "  <tbody>\n",
       "    <tr>\n",
       "      <th>0</th>\n",
       "      <td>0.000000</td>\n",
       "      <td>4.447692</td>\n",
       "    </tr>\n",
       "    <tr>\n",
       "      <th>1</th>\n",
       "      <td>0.020040</td>\n",
       "      <td>5.024612</td>\n",
       "    </tr>\n",
       "    <tr>\n",
       "      <th>2</th>\n",
       "      <td>0.040080</td>\n",
       "      <td>5.869593</td>\n",
       "    </tr>\n",
       "    <tr>\n",
       "      <th>3</th>\n",
       "      <td>0.060120</td>\n",
       "      <td>4.722490</td>\n",
       "    </tr>\n",
       "    <tr>\n",
       "      <th>4</th>\n",
       "      <td>0.080160</td>\n",
       "      <td>4.877101</td>\n",
       "    </tr>\n",
       "    <tr>\n",
       "      <th>5</th>\n",
       "      <td>0.100200</td>\n",
       "      <td>5.046555</td>\n",
       "    </tr>\n",
       "    <tr>\n",
       "      <th>6</th>\n",
       "      <td>0.120240</td>\n",
       "      <td>5.374993</td>\n",
       "    </tr>\n",
       "    <tr>\n",
       "      <th>7</th>\n",
       "      <td>0.140281</td>\n",
       "      <td>5.543020</td>\n",
       "    </tr>\n",
       "    <tr>\n",
       "      <th>8</th>\n",
       "      <td>0.160321</td>\n",
       "      <td>5.954347</td>\n",
       "    </tr>\n",
       "    <tr>\n",
       "      <th>9</th>\n",
       "      <td>0.180361</td>\n",
       "      <td>5.610471</td>\n",
       "    </tr>\n",
       "  </tbody>\n",
       "</table>\n",
       "</div>"
      ],
      "text/plain": [
       "          x         y\n",
       "0  0.000000  4.447692\n",
       "1  0.020040  5.024612\n",
       "2  0.040080  5.869593\n",
       "3  0.060120  4.722490\n",
       "4  0.080160  4.877101\n",
       "5  0.100200  5.046555\n",
       "6  0.120240  5.374993\n",
       "7  0.140281  5.543020\n",
       "8  0.160321  5.954347\n",
       "9  0.180361  5.610471"
      ]
     },
     "execution_count": 136,
     "metadata": {},
     "output_type": "execute_result"
    }
   ],
   "source": [
    "df = pd.read_csv('linear_data.csv')\n",
    "x = df['x']\n",
    "y = df['y']\n",
    "\n",
    "df.head(10)"
   ]
  },
  {
   "cell_type": "code",
   "execution_count": 137,
   "id": "a0ac5a06",
   "metadata": {},
   "outputs": [
    {
     "data": {
      "text/plain": [
       "<matplotlib.collections.PathCollection at 0x22f5b0bd9d0>"
      ]
     },
     "execution_count": 137,
     "metadata": {},
     "output_type": "execute_result"
    },
    {
     "data": {
      "image/png": "[encoded data removed]",
      "text/plain": [
       "<Figure size 640x480 with 1 Axes>"
      ]
     },
     "metadata": {},
     "output_type": "display_data"
    }
   ],
   "source": [
    "plt.scatter(x,y,color='blue')"
   ]
  },
  {
   "cell_type": "code",
   "execution_count": 138,
   "id": "115c32cd",
   "metadata": {},
   "outputs": [],
   "source": [
    "# first step\n",
    "m=0\n",
    "c=0\n",
    "learning_rate = 0.01\n",
    "\n",
    "n = int(len(x))"
   ]
  },
  {
   "cell_type": "code",
   "execution_count": 139,
   "id": "284dbbff",
   "metadata": {},
   "outputs": [
    {
     "name": "stdout",
     "output_type": "stream",
     "text": [
      "m:  1.9989028820058785\n",
      "c:  5.017826390926276\n"
     ]
    }
   ],
   "source": [
    "# second step\n",
    "iterations = 1000\n",
    "\n",
    "for i in range(iterations):\n",
    "    y_predictions = m * x + c\n",
    "    derivatives_m = (-2/n) * sum(x*(y-y_predictions))\n",
    "    derivatives_c = (-2/n) * sum(y-y_predictions)\n",
    "\n",
    "    m = m - learning_rate * derivatives_m\n",
    "    c = c - learning_rate * derivatives_c\n",
    "    \n",
    "print(\"m: \", m)\n",
    "print(\"c: \", c)"
   ]
  },
  {
   "cell_type": "markdown",
   "id": "1cc1a209",
   "metadata": {},
   "source": [
    "### Make predictions"
   ]
  },
  {
   "cell_type": "code",
   "execution_count": 140,
   "id": "3a37a024",
   "metadata": {},
   "outputs": [
    {
     "name": "stdout",
     "output_type": "stream",
     "text": [
      "5.017826390926276\n"
     ]
    }
   ],
   "source": [
    "# y = mx + c\n",
    "\n",
    "pred = m * 0.000000 + c\n",
    "print(pred)"
   ]
  },
  {
   "cell_type": "code",
   "execution_count": 141,
   "id": "7ee4d296",
   "metadata": {},
   "outputs": [
    {
     "data": {
      "image/png": "[encoded data removed]",
      "text/plain": [
       "<Figure size 640x480 with 1 Axes>"
      ]
     },
     "metadata": {},
     "output_type": "display_data"
    }
   ],
   "source": [
    "plt.scatter(x, y, color='blue')\n",
    "plt.plot(x, m*x + c, color='red')\n",
    "plt.xlabel('x')\n",
    "plt.ylabel('y')\n",
    "plt.title('Linear Fit')\n",
    "plt.show()"
   ]
  },
  {
   "cell_type": "code",
   "execution_count": 142,
   "id": "456ea180",
   "metadata": {},
   "outputs": [
    {
     "name": "stdout",
     "output_type": "stream",
     "text": [
      "R^2 score: 0.992883699817096\n"
     ]
    }
   ],
   "source": [
    "# Calculate R^2 score\n",
    "y_pred = m * x + c\n",
    "ss_res = np.sum((y - y_pred) ** 2)\n",
    "ss_tot = np.sum((y - np.mean(y)) ** 2)\n",
    "r2_score = 1 - (ss_res / ss_tot)\n",
    "print(\"R^2 score:\", r2_score)"
   ]
  }
 ],
 "metadata": {
  "kernelspec": {
   "display_name": "Python 3",
   "language": "python",
   "name": "python3"
  },
  "language_info": {
   "codemirror_mode": {
    "name": "ipython",
    "version": 3
   },
   "file_extension": ".py",
   "mimetype": "text/x-python",
   "name": "python",
   "nbconvert_exporter": "python",
   "pygments_lexer": "ipython3",
   "version": "3.11.0"
  }
 },
 "nbformat": 4,
 "nbformat_minor": 5
}
