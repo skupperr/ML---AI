{
  "cells": [
    {
      "cell_type": "code",
      "execution_count": null,
      "metadata": {
        "id": "Q06JwKfKg7oB"
      },
      "outputs": [],
      "source": [
        "import numpy as np\n",
        "import pandas as pd\n",
        "import matplotlib.pyplot as plt"
      ]
    },
    {
      "cell_type": "code",
      "execution_count": null,
      "metadata": {
        "id": "ju2PO_rWhK6r"
      },
      "outputs": [],
      "source": [
        "dataset = np.array([\n",
        "    [5, 3, 1500, 4, 2],\n",
        "    [10, 2, 1200, 3, 1],\n",
        "    [3, 4, 1800, 5, 2],\n",
        "    [8, 3, 1300, 4, 2],\n",
        "    [15, 2, 900, 2, 0],\n",
        "    [7, 3, 1400, 3, 1],\n",
        "    [2, 5, 2000, 6, 2],\n",
        "    [6, 2, 1100, 3, 0],\n",
        "    [12, 3, 1600, 4, 2],\n",
        "    [4, 4, 1700, 5, 1]\n",
        "])"
      ]
    },
    {
      "cell_type": "code",
      "execution_count": null,
      "metadata": {
        "colab": {
          "base_uri": "https://localhost:8080/"
        },
        "id": "3ddK_UcDhXt1",
        "outputId": "a6837e4a-0a43-499a-8a03-96fc83d06052"
      },
      "outputs": [
        {
          "name": "stdout",
          "output_type": "stream",
          "text": [
            "[[   5    3 1500    4]\n",
            " [  10    2 1200    3]\n",
            " [   3    4 1800    5]\n",
            " [   8    3 1300    4]\n",
            " [  15    2  900    2]\n",
            " [   7    3 1400    3]\n",
            " [   2    5 2000    6]\n",
            " [   6    2 1100    3]\n",
            " [  12    3 1600    4]\n",
            " [   4    4 1700    5]]\n"
          ]
        }
      ],
      "source": [
        "x = dataset[:,0:4]\n",
        "print(x)"
      ]
    },
    {
      "cell_type": "code",
      "execution_count": null,
      "metadata": {
        "colab": {
          "base_uri": "https://localhost:8080/"
        },
        "id": "XbCGdncrhcn9",
        "outputId": "f4c40b1b-f230-45e8-bf85-56ee0f151cea"
      },
      "outputs": [
        {
          "name": "stdout",
          "output_type": "stream",
          "text": [
            "[2 1 2 2 0 1 2 0 2 1]\n"
          ]
        }
      ],
      "source": [
        "y=dataset[:,4]\n",
        "print(y)"
      ]
    },
    {
      "cell_type": "code",
      "execution_count": null,
      "metadata": {
        "id": "NOVB8ZdEhf4d"
      },
      "outputs": [],
      "source": [
        "x_test=np.asarray([4,3,1505,5])"
      ]
    },
    {
      "cell_type": "markdown",
      "metadata": {
        "id": "_7cXV5t66OQD"
      },
      "source": [
        "# Step-1: Calculate distance"
      ]
    },
    {
      "cell_type": "code",
      "execution_count": null,
      "metadata": {
        "colab": {
          "base_uri": "https://localhost:8080/"
        },
        "id": "QuvvU6l56TxD",
        "outputId": "2c55e1b7-4cb9-4cea-9666-c8a891fe1009"
      },
      "outputs": [
        {
          "data": {
            "text/plain": [
              "array([[   5,    3, 1500,    4],\n",
              "       [  10,    2, 1200,    3],\n",
              "       [   3,    4, 1800,    5],\n",
              "       [   8,    3, 1300,    4],\n",
              "       [  15,    2,  900,    2],\n",
              "       [   7,    3, 1400,    3],\n",
              "       [   2,    5, 2000,    6],\n",
              "       [   6,    2, 1100,    3],\n",
              "       [  12,    3, 1600,    4],\n",
              "       [   4,    4, 1700,    5]])"
            ]
          },
          "execution_count": 31,
          "metadata": {},
          "output_type": "execute_result"
        }
      ],
      "source": [
        "x"
      ]
    },
    {
      "cell_type": "code",
      "execution_count": null,
      "metadata": {
        "id": "xi7Jc3y2hugJ"
      },
      "outputs": [],
      "source": [
        "def eucledianDistance(x1,x2):\n",
        "    sum = 0.0\n",
        "    for a,b in zip(x1,x2):\n",
        "      #print(a,b)\n",
        "      sum += (a-b)**2\n",
        "    return sum**0.5"
      ]
    },
    {
      "cell_type": "code",
      "execution_count": null,
      "metadata": {
        "id": "xRUQsB21h73s"
      },
      "outputs": [],
      "source": [
        "distances=[]\n",
        "for i in x:\n",
        "    distance = eucledianDistance(i,x_test)\n",
        "    distances.append(distance)\n",
        "\n",
        "distances=np.asarray(distances)"
      ]
    },
    {
      "cell_type": "code",
      "execution_count": null,
      "metadata": {
        "colab": {
          "base_uri": "https://localhost:8080/"
        },
        "id": "IQ7sZ9jyh99l",
        "outputId": "437e616b-50bd-4d11-fbd4-c425cf662942"
      },
      "outputs": [
        {
          "name": "stdout",
          "output_type": "stream",
          "text": [
            "[  5.19615242 305.06720571 295.00338981 205.04145922 605.10825478\n",
            " 105.06188652 495.00909083 405.01111096  95.34149149 195.00256409]\n"
          ]
        }
      ],
      "source": [
        "print(distances)"
      ]
    },
    {
      "cell_type": "markdown",
      "metadata": {
        "id": "QzLxvpiG8KUc"
      },
      "source": [
        "# Step-2: Sort distances in ascending order"
      ]
    },
    {
      "cell_type": "code",
      "execution_count": null,
      "metadata": {
        "colab": {
          "base_uri": "https://localhost:8080/"
        },
        "id": "0J39QYXKiAQg",
        "outputId": "a4671a68-5c26-46f8-b099-d252a971e154"
      },
      "outputs": [
        {
          "name": "stdout",
          "output_type": "stream",
          "text": [
            "[0 8 5 9 3 2 1 7 6 4]\n"
          ]
        }
      ],
      "source": [
        "distanceIndices = np.argsort(distances)\n",
        "print(distanceIndices)"
      ]
    },
    {
      "cell_type": "markdown",
      "metadata": {
        "id": "uWr7tZVz8nyT"
      },
      "source": [
        "# Step-3: Select k neighbors"
      ]
    },
    {
      "cell_type": "code",
      "execution_count": null,
      "metadata": {
        "colab": {
          "base_uri": "https://localhost:8080/"
        },
        "id": "tWTQHuddiE93",
        "outputId": "47999dc9-85e7-4670-b13e-9458fe38647d"
      },
      "outputs": [
        {
          "data": {
            "text/plain": [
              "array([0, 8, 5, 9, 3, 2, 1])"
            ]
          },
          "execution_count": 43,
          "metadata": {},
          "output_type": "execute_result"
        }
      ],
      "source": [
        "k=7\n",
        "\n",
        "distanceIndices = distanceIndices[:k]\n",
        "distanceIndices"
      ]
    },
    {
      "cell_type": "markdown",
      "metadata": {
        "id": "K9UZg1qc8_Tr"
      },
      "source": [
        "# Step-4: Calculate majority"
      ]
    },
    {
      "cell_type": "code",
      "execution_count": null,
      "metadata": {
        "id": "VNf1_X5msxJQ"
      },
      "outputs": [],
      "source": [
        "label = dict()\n",
        "label[0]=0\n",
        "label[1]=0\n",
        "label[2]=0"
      ]
    },
    {
      "cell_type": "code",
      "execution_count": null,
      "metadata": {
        "colab": {
          "base_uri": "https://localhost:8080/"
        },
        "id": "4QMMThKGiHG_",
        "outputId": "835c299f-7d16-49f9-b15b-07cec6d231b1"
      },
      "outputs": [
        {
          "name": "stdout",
          "output_type": "stream",
          "text": [
            "2\n",
            "2\n",
            "1\n",
            "1\n",
            "2\n",
            "2\n",
            "1\n"
          ]
        }
      ],
      "source": [
        "for i in distanceIndices:\n",
        "    result=y[i]\n",
        "    print(result)\n",
        "    label[result]=label[result]+1"
      ]
    },
    {
      "cell_type": "code",
      "execution_count": null,
      "metadata": {
        "colab": {
          "base_uri": "https://localhost:8080/"
        },
        "id": "ZUz3CfatiJov",
        "outputId": "f7eef8ed-e142-4ea3-d01d-fcaf6b24c08d"
      },
      "outputs": [
        {
          "data": {
            "text/plain": [
              "2"
            ]
          },
          "execution_count": 46,
          "metadata": {},
          "output_type": "execute_result"
        }
      ],
      "source": [
        "max(zip(label.values(),label.keys()))[1]"
      ]
    }
  ],
  "metadata": {
    "colab": {
      "provenance": []
    },
    "kernelspec": {
      "display_name": "Python 3",
      "name": "python3"
    },
    "language_info": {
      "name": "python",
      "version": "3.13.2"
    }
  },
  "nbformat": 4,
  "nbformat_minor": 0
}
