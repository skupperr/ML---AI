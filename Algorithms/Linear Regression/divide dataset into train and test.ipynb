{
 "cells": [
  {
   "cell_type": "code",
   "execution_count": 1,
   "id": "c2924533",
   "metadata": {},
   "outputs": [],
   "source": [
    "import pandas as pd\n",
    "import numpy as np\n",
    "import sklearn as sk\n",
    "from sklearn.model_selection import train_test_split\n",
    "\n",
    "df = pd.read_csv('cells.csv')"
   ]
  },
  {
   "cell_type": "code",
   "execution_count": 46,
   "id": "625632ca",
   "metadata": {},
   "outputs": [],
   "source": [
    "x_df = df[['time']]\n",
    "y_df = df[['cells']]\n",
    "\n",
    "x_train, x_test, y_train, y_test = train_test_split(x_df, y_df, test_size = 0.4, random_state=10)\n",
    "\n",
    "# random_state can be any integer and it is used as a seed to randomly split dataset.\n",
    "# By doing this we work with same test dataset every time, if this is important.\n",
    "# random_state = None splits dataset randomly every time"
   ]
  },
  {
   "cell_type": "code",
   "execution_count": 47,
   "id": "37297f2b",
   "metadata": {},
   "outputs": [],
   "source": [
    "reg = sk.linear_model.LinearRegression()\n",
    "reg.fit(x_train, y_train)\n",
    "\n",
    "predictions = reg.predict(x_test)"
   ]
  },
  {
   "cell_type": "code",
   "execution_count": 48,
   "id": "55b79337",
   "metadata": {},
   "outputs": [
    {
     "name": "stdout",
     "output_type": "stream",
     "text": [
      "   cells\n",
      "2    238\n",
      "6    265\n",
      "8    301\n",
      "5    260\n",
      "7    283\n",
      "[[229.66081871]\n",
      " [270.73684211]\n",
      " [291.2748538 ]\n",
      " [260.46783626]\n",
      " [281.00584795]]\n"
     ]
    }
   ],
   "source": [
    "print(y_test)\n",
    "print(predictions)"
   ]
  },
  {
   "cell_type": "code",
   "execution_count": 49,
   "id": "73427b1c",
   "metadata": {},
   "outputs": [
    {
     "name": "stdout",
     "output_type": "stream",
     "text": [
      "Mean Squared Error (MSE): 40.245456721726484\n",
      "Mean Absolute Error (MAE): 5.252631578947375\n"
     ]
    }
   ],
   "source": [
    "from sklearn.metrics import mean_squared_error, mean_absolute_error\n",
    "\n",
    "# Calculate MSE and MAE\n",
    "mse = mean_squared_error(y_test, predictions)\n",
    "mae = mean_absolute_error(y_test, predictions)\n",
    "\n",
    "print(\"Mean Squared Error (MSE):\", mse)\n",
    "print(\"Mean Absolute Error (MAE):\", mae)\n"
   ]
  },
  {
   "cell_type": "code",
   "execution_count": 50,
   "id": "5cdd92c3",
   "metadata": {},
   "outputs": [
    {
     "name": "stdout",
     "output_type": "stream",
     "text": [
      "Mean sq. errror between y_test and predicted = 40.245456721726484\n"
     ]
    }
   ],
   "source": [
    "print(\"Mean sq. errror between y_test and predicted =\", np.mean((predictions - y_test)**2)) "
   ]
  }
 ],
 "metadata": {
  "kernelspec": {
   "display_name": "Python 3",
   "language": "python",
   "name": "python3"
  },
  "language_info": {
   "codemirror_mode": {
    "name": "ipython",
    "version": 3
   },
   "file_extension": ".py",
   "mimetype": "text/x-python",
   "name": "python",
   "nbconvert_exporter": "python",
   "pygments_lexer": "ipython3",
   "version": "3.13.2"
  }
 },
 "nbformat": 4,
 "nbformat_minor": 5
}
