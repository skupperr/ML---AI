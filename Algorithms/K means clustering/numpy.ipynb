{
 "cells": [
  {
   "cell_type": "code",
   "execution_count": 1,
   "metadata": {},
   "outputs": [],
   "source": [
    "import numpy as np"
   ]
  },
  {
   "cell_type": "code",
   "execution_count": 2,
   "metadata": {},
   "outputs": [
    {
     "data": {
      "text/plain": [
       "array([[ 2, 10],\n",
       "       [ 2,  5],\n",
       "       [ 8,  4],\n",
       "       [ 5,  8],\n",
       "       [ 7,  5],\n",
       "       [ 6,  4],\n",
       "       [ 1,  2],\n",
       "       [ 4,  9]])"
      ]
     },
     "execution_count": 2,
     "metadata": {},
     "output_type": "execute_result"
    }
   ],
   "source": [
    "data = [[2, 10], [2, 5], [8, 4], [5, 8], [7, 5], [6, 4], [1, 2], [4, 9]]\n",
    "data = np.array(data)\n",
    "data"
   ]
  },
  {
   "cell_type": "code",
   "execution_count": 6,
   "metadata": {},
   "outputs": [
    {
     "name": "stdout",
     "output_type": "stream",
     "text": [
      "[3 0 4]\n",
      "[[ 5  8]\n",
      " [ 2 10]\n",
      " [ 7  5]]\n"
     ]
    }
   ],
   "source": [
    "# choose 3 random elements\n",
    "random_indices = np.random.choice(data.shape[0], 3, replace=False)\n",
    "print(random_indices)\n",
    "\n",
    "print(data[random_indices])"
   ]
  },
  {
   "cell_type": "code",
   "execution_count": 7,
   "metadata": {},
   "outputs": [
    {
     "name": "stdout",
     "output_type": "stream",
     "text": [
      "4\n",
      "[4 5]\n"
     ]
    }
   ],
   "source": [
    "a = [\n",
    "     [1, 4],\n",
    "     [3, 5]\n",
    "]\n",
    "a = np.array(a)\n",
    "print(a[0,1])\n",
    "print(a[:,1])"
   ]
  }
 ],
 "metadata": {
  "kernelspec": {
   "display_name": "base",
   "language": "python",
   "name": "python3"
  },
  "language_info": {
   "codemirror_mode": {
    "name": "ipython",
    "version": 3
   },
   "file_extension": ".py",
   "mimetype": "text/x-python",
   "name": "python",
   "nbconvert_exporter": "python",
   "pygments_lexer": "ipython3",
   "version": "3.12.7"
  }
 },
 "nbformat": 4,
 "nbformat_minor": 2
}
