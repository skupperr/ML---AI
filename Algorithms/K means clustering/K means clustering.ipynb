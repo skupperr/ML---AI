{
  "cells": [
    {
      "cell_type": "code",
      "execution_count": 5,
      "metadata": {
        "id": "ilr6BM7CVoPK"
      },
      "outputs": [],
      "source": [
        "import numpy as np\n",
        "import pandas as pd\n",
        "from matplotlib import pyplot as plt"
      ]
    },
    {
      "cell_type": "code",
      "execution_count": 15,
      "metadata": {
        "id": "KDpk8PZrZNjP"
      },
      "outputs": [],
      "source": [
        "data = [[2, 10], [2, 5], [8, 4], [5, 8], [7, 5], [6, 4], [1, 2], [4, 9]]"
      ]
    },
    {
      "cell_type": "code",
      "execution_count": null,
      "metadata": {
        "colab": {
          "base_uri": "https://localhost:8080/"
        },
        "id": "hT5qsQBLqAJw",
        "outputId": "86093806-69e6-4e32-bf0c-da679c804452"
      },
      "outputs": [
        {
          "data": {
            "text/plain": [
              "array([[ 2, 10],\n",
              "       [ 2,  5],\n",
              "       [ 8,  4],\n",
              "       [ 5,  8],\n",
              "       [ 7,  5],\n",
              "       [ 6,  4],\n",
              "       [ 1,  2],\n",
              "       [ 4,  9]])"
            ]
          },
          "execution_count": 16,
          "metadata": {},
          "output_type": "execute_result"
        }
      ],
      "source": [
        "data = np.array(data)\n",
        "data"
      ]
    },
    {
      "cell_type": "code",
      "execution_count": 4,
      "metadata": {
        "colab": {
          "base_uri": "https://localhost:8080/",
          "height": 430
        },
        "id": "-ySSu9ZdqGRA",
        "outputId": "6e7eac27-4a1e-4f42-d4a9-fac346b7d1c7"
      },
      "outputs": [
        {
          "data": {
            "image/png": "[encoded data removed]",
            "text/plain": [
              "<Figure size 640x480 with 1 Axes>"
            ]
          },
          "metadata": {},
          "output_type": "display_data"
        }
      ],
      "source": [
        "plt.scatter(data[:, 0], data[:, 1])\n",
        "plt.grid()\n",
        "plt.show()"
      ]
    },
    {
      "cell_type": "code",
      "execution_count": 5,
      "metadata": {
        "colab": {
          "base_uri": "https://localhost:8080/"
        },
        "id": "7UjFw31Ok1TE",
        "outputId": "30b7fbfb-5e3a-441f-c287-99cacc5e757e"
      },
      "outputs": [
        {
          "data": {
            "text/plain": [
              "8"
            ]
          },
          "execution_count": 5,
          "metadata": {},
          "output_type": "execute_result"
        }
      ],
      "source": [
        "data.shape[0]"
      ]
    },
    {
      "cell_type": "code",
      "execution_count": 6,
      "metadata": {
        "id": "SKtLHglnwR75"
      },
      "outputs": [],
      "source": [
        "k = 3"
      ]
    },
    {
      "cell_type": "code",
      "execution_count": 7,
      "metadata": {
        "colab": {
          "base_uri": "https://localhost:8080/"
        },
        "id": "P2nT3fSWwiSp",
        "outputId": "0fb71c48-8e46-49db-e06d-35aa5d245154"
      },
      "outputs": [
        {
          "name": "stdout",
          "output_type": "stream",
          "text": [
            "[6 5 7]\n"
          ]
        }
      ],
      "source": [
        "# Randomly determine 3 indices\n",
        "random_indices = np.random.choice(data.shape[0], k, replace=False)\n",
        "print(random_indices)"
      ]
    },
    {
      "cell_type": "code",
      "execution_count": 8,
      "metadata": {
        "colab": {
          "base_uri": "https://localhost:8080/"
        },
        "id": "kh95IX19Z6Nw",
        "outputId": "96043044-14c7-4217-9f18-7fcb978ee00e"
      },
      "outputs": [
        {
          "name": "stdout",
          "output_type": "stream",
          "text": [
            "Selected random points (initial centroids):\n",
            "[[1 2]\n",
            " [6 4]\n",
            " [4 9]]\n"
          ]
        }
      ],
      "source": [
        "# Get those the points at those 3 indices\n",
        "centers = data[random_indices]\n",
        "# Print the selected points\n",
        "print(\"Selected random points (initial centroids):\")\n",
        "print(centers)"
      ]
    },
    {
      "cell_type": "code",
      "execution_count": 10,
      "metadata": {
        "colab": {
          "base_uri": "https://localhost:8080/",
          "height": 430
        },
        "id": "YGoF9a7lZrhQ",
        "outputId": "55de19ca-037c-42de-e41a-54e57429ecda"
      },
      "outputs": [
        {
          "data": {
            "image/png": "[encoded data removed]",
            "text/plain": [
              "<Figure size 640x480 with 1 Axes>"
            ]
          },
          "metadata": {},
          "output_type": "display_data"
        }
      ],
      "source": [
        "plt.scatter(data[:, 0], data[:, 1])\n",
        "plt.scatter(centers[:, 0], centers[:, 1])\n",
        "plt.show()"
      ]
    },
    {
      "cell_type": "code",
      "execution_count": 11,
      "metadata": {
        "id": "Rl_EELjDaI1o"
      },
      "outputs": [],
      "source": [
        "def calculate_distance(a, b):\n",
        "    dist = 0\n",
        "    for x, y in zip(a, b):\n",
        "        dist += (x - y) ** 2\n",
        "    return dist**0.5"
      ]
    },
    {
      "cell_type": "code",
      "execution_count": 42,
      "metadata": {
        "id": "TuhAgnbIxhy4"
      },
      "outputs": [],
      "source": [
        "distance = np.zeros((data.shape[0], k))"
      ]
    },
    {
      "cell_type": "code",
      "execution_count": 43,
      "metadata": {
        "colab": {
          "base_uri": "https://localhost:8080/"
        },
        "id": "yc95WX9axxFg",
        "outputId": "e2a61a08-04b1-4bce-9117-6da5587c38dd"
      },
      "outputs": [
        {
          "data": {
            "text/plain": [
              "array([[0., 0., 0.],\n",
              "       [0., 0., 0.],\n",
              "       [0., 0., 0.],\n",
              "       [0., 0., 0.],\n",
              "       [0., 0., 0.],\n",
              "       [0., 0., 0.],\n",
              "       [0., 0., 0.],\n",
              "       [0., 0., 0.]])"
            ]
          },
          "execution_count": 43,
          "metadata": {},
          "output_type": "execute_result"
        }
      ],
      "source": [
        "distance"
      ]
    },
    {
      "cell_type": "code",
      "execution_count": 44,
      "metadata": {
        "id": "OujAZfjMxBbR"
      },
      "outputs": [],
      "source": [
        "for i, d in enumerate(data):\n",
        "    for j, c in enumerate(centers):\n",
        "        distance[i, j] = calculate_distance(d, c)"
      ]
    },
    {
      "cell_type": "markdown",
      "metadata": {},
      "source": [
        "axis=0: Sorts each column.\n",
        "axis=1: Sorts each row."
      ]
    },
    {
      "cell_type": "code",
      "execution_count": 45,
      "metadata": {
        "id": "SDI45vPFyGKg"
      },
      "outputs": [],
      "source": [
        "closure = np.argmin(distance, axis=1)   #to find the index of the minimum value in each row"
      ]
    },
    {
      "cell_type": "code",
      "execution_count": 46,
      "metadata": {
        "colab": {
          "base_uri": "https://localhost:8080/"
        },
        "id": "ShEyFDdPW-tQ",
        "outputId": "f6403dbf-fed1-4fd4-cea2-40fc39ffd1ba"
      },
      "outputs": [
        {
          "data": {
            "text/plain": [
              "array([[8.06225775, 7.21110255, 2.23606798],\n",
              "       [3.16227766, 4.12310563, 4.47213595],\n",
              "       [7.28010989, 2.        , 6.40312424],\n",
              "       [7.21110255, 4.12310563, 1.41421356],\n",
              "       [6.70820393, 1.41421356, 5.        ],\n",
              "       [5.38516481, 0.        , 5.38516481],\n",
              "       [0.        , 5.38516481, 7.61577311],\n",
              "       [7.61577311, 5.38516481, 0.        ]])"
            ]
          },
          "execution_count": 46,
          "metadata": {},
          "output_type": "execute_result"
        }
      ],
      "source": [
        "distance"
      ]
    },
    {
      "cell_type": "code",
      "execution_count": 47,
      "metadata": {
        "colab": {
          "base_uri": "https://localhost:8080/"
        },
        "id": "OO18gTcpzWWx",
        "outputId": "1859dcdb-a4ef-499b-da92-a4dfa9d74c73"
      },
      "outputs": [
        {
          "data": {
            "text/plain": [
              "array([2, 0, 1, 2, 1, 1, 0, 2], dtype=int64)"
            ]
          },
          "execution_count": 47,
          "metadata": {},
          "output_type": "execute_result"
        }
      ],
      "source": [
        "closure"
      ]
    },
    {
      "cell_type": "code",
      "execution_count": 60,
      "metadata": {
        "id": "nfcPPYa_y045"
      },
      "outputs": [
        {
          "name": "stdout",
          "output_type": "stream",
          "text": [
            "centroid:1 closure:[False  True False False False False  True False] data:[[2 5]\n",
            " [1 2]]\n",
            "centroid:2 closure:[False False  True False  True  True False False] data:[[8 4]\n",
            " [7 5]\n",
            " [6 4]]\n",
            "centroid:3 closure:[ True False False  True False False False  True] data:[[ 2 10]\n",
            " [ 5  8]\n",
            " [ 4  9]]\n"
          ]
        }
      ],
      "source": [
        "new_centers = np.zeros((3, 2))\n",
        "for i, c in enumerate(centers):\n",
        "    y = closure == i\n",
        "    s = data[closure == i, :]\n",
        "    new_centers[i, :] = np.sum(s, axis=0) / s.shape[0]\n",
        "    print(f'centroid:{i+1} closure:{y} data:{s}')"
      ]
    },
    {
      "cell_type": "code",
      "execution_count": 61,
      "metadata": {
        "colab": {
          "base_uri": "https://localhost:8080/"
        },
        "id": "KafuoqkL0ynx",
        "outputId": "772a3cde-2910-4bb7-eb88-e1df28cfb133"
      },
      "outputs": [
        {
          "data": {
            "text/plain": [
              "array([[1.5       , 3.5       ],\n",
              "       [7.        , 4.33333333],\n",
              "       [3.66666667, 9.        ]])"
            ]
          },
          "execution_count": 61,
          "metadata": {},
          "output_type": "execute_result"
        }
      ],
      "source": [
        "new_centers"
      ]
    },
    {
      "cell_type": "code",
      "execution_count": 54,
      "metadata": {
        "colab": {
          "base_uri": "https://localhost:8080/"
        },
        "id": "g9CmUYlv1PKC",
        "outputId": "05416235-a994-4fd8-a4ce-84c0ba4ba9c8"
      },
      "outputs": [
        {
          "name": "stdout",
          "output_type": "stream",
          "text": [
            "-------------it:1---------\n",
            "centroid:1 closure:[False  True False False False False  True False] data:[[2 5]\n",
            " [1 2]]\n",
            "centroid:2 closure:[False False  True False  True  True False False] data:[[8 4]\n",
            " [7 5]\n",
            " [6 4]]\n",
            "centroid:3 closure:[ True False False  True False False False  True] data:[[ 2 10]\n",
            " [ 5  8]\n",
            " [ 4  9]]\n",
            "closure:[2 0 1 2 1 1 0 2] | old_closure:[0. 0. 0. 0. 0. 0. 0. 0.] | centers:[[1.5        3.5       ]\n",
            " [7.         4.33333333]\n",
            " [3.66666667 9.        ]]\n",
            "-------------it:2---------\n",
            "centroid:1 closure:[False  True False False False False  True False] data:[[2 5]\n",
            " [1 2]]\n",
            "centroid:2 closure:[False False  True False  True  True False False] data:[[8 4]\n",
            " [7 5]\n",
            " [6 4]]\n",
            "centroid:3 closure:[ True False False  True False False False  True] data:[[ 2 10]\n",
            " [ 5  8]\n",
            " [ 4  9]]\n",
            "closure:[2 0 1 2 1 1 0 2] | old_closure:[2 0 1 2 1 1 0 2] | centers:[[1.5        3.5       ]\n",
            " [7.         4.33333333]\n",
            " [3.66666667 9.        ]]\n"
          ]
        }
      ],
      "source": [
        "distance = np.zeros((data.shape[0], k))\n",
        "closure = np.zeros((data.shape[0]))\n",
        "m = 0\n",
        "while True:\n",
        "    m = m + 1\n",
        "    print(f\"-------------it:{m}---------\")\n",
        "    for i, d in enumerate(data):\n",
        "        for j, c in enumerate(centers):\n",
        "            distance[i, j] = calculate_distance(d, c)\n",
        "    new_closure = np.argmin(distance, axis=1)\n",
        "    new_centers = np.zeros((3, 2))\n",
        "    for i, c in enumerate(centers):\n",
        "        y = new_closure == i\n",
        "        s = data[new_closure == i, :]\n",
        "        new_centers[i, :] = np.sum(s, axis=0) / s.shape[0]\n",
        "        print(f\"centroid:{i+1} closure:{y} data:{s}\")\n",
        "    centers = new_centers.copy()\n",
        "\n",
        "    print(f\"closure:{new_closure} | old_closure:{closure} | centers:{new_centers}\")\n",
        "    if np.all(new_closure == closure):\n",
        "        break\n",
        "    closure = new_closure.copy()"
      ]
    },
    {
      "cell_type": "code",
      "execution_count": 18,
      "metadata": {
        "colab": {
          "base_uri": "https://localhost:8080/",
          "height": 206
        },
        "id": "_JZUERKNYeLQ",
        "outputId": "69db60d1-986a-48d1-eebd-95d2bc67ece3"
      },
      "outputs": [
        {
          "data": {
            "text/html": [
              "<div>\n",
              "<style scoped>\n",
              "    .dataframe tbody tr th:only-of-type {\n",
              "        vertical-align: middle;\n",
              "    }\n",
              "\n",
              "    .dataframe tbody tr th {\n",
              "        vertical-align: top;\n",
              "    }\n",
              "\n",
              "    .dataframe thead th {\n",
              "        text-align: right;\n",
              "    }\n",
              "</style>\n",
              "<table border=\"1\" class=\"dataframe\">\n",
              "  <thead>\n",
              "    <tr style=\"text-align: right;\">\n",
              "      <th></th>\n",
              "      <th>2.098745172099389933e-01</th>\n",
              "      <th>2.002906846795961204e+00</th>\n",
              "    </tr>\n",
              "  </thead>\n",
              "  <tbody>\n",
              "    <tr>\n",
              "      <th>0</th>\n",
              "      <td>1.925265</td>\n",
              "      <td>1.782311</td>\n",
              "    </tr>\n",
              "    <tr>\n",
              "      <th>1</th>\n",
              "      <td>0.885361</td>\n",
              "      <td>0.141400</td>\n",
              "    </tr>\n",
              "    <tr>\n",
              "      <th>2</th>\n",
              "      <td>1.606608</td>\n",
              "      <td>1.885941</td>\n",
              "    </tr>\n",
              "    <tr>\n",
              "      <th>3</th>\n",
              "      <td>1.511095</td>\n",
              "      <td>1.234464</td>\n",
              "    </tr>\n",
              "    <tr>\n",
              "      <th>4</th>\n",
              "      <td>2.248156</td>\n",
              "      <td>0.440106</td>\n",
              "    </tr>\n",
              "  </tbody>\n",
              "</table>\n",
              "</div>"
            ],
            "text/plain": [
              "   2.098745172099389933e-01  2.002906846795961204e+00\n",
              "0                  1.925265                  1.782311\n",
              "1                  0.885361                  0.141400\n",
              "2                  1.606608                  1.885941\n",
              "3                  1.511095                  1.234464\n",
              "4                  2.248156                  0.440106"
            ]
          },
          "execution_count": 18,
          "metadata": {},
          "output_type": "execute_result"
        }
      ],
      "source": [
        "path = \"data.csv\"\n",
        "\n",
        "# Read the Excel file into a Pandas DataFrame\n",
        "df = pd.read_csv(path)\n",
        "df.head()"
      ]
    },
    {
      "cell_type": "code",
      "execution_count": 19,
      "metadata": {
        "id": "xsRGSyTG7wbz"
      },
      "outputs": [],
      "source": [
        "data = df.to_numpy()"
      ]
    },
    {
      "cell_type": "code",
      "execution_count": 20,
      "metadata": {
        "colab": {
          "base_uri": "https://localhost:8080/"
        },
        "id": "w2tSGBJC70Ga",
        "outputId": "ed9f6f92-7b9c-4fc2-e32a-7cc61ed40a40"
      },
      "outputs": [
        {
          "data": {
            "text/plain": [
              "(1199, 2)"
            ]
          },
          "execution_count": 20,
          "metadata": {},
          "output_type": "execute_result"
        }
      ],
      "source": [
        "data.shape"
      ]
    },
    {
      "cell_type": "code",
      "execution_count": 21,
      "metadata": {
        "colab": {
          "base_uri": "https://localhost:8080/",
          "height": 430
        },
        "id": "Iua0LDUXY3NX",
        "outputId": "b6c98d82-fa89-48db-f696-4e87d804263b"
      },
      "outputs": [
        {
          "data": {
            "image/png": "[encoded data removed]",
            "text/plain": [
              "<Figure size 640x480 with 1 Axes>"
            ]
          },
          "metadata": {},
          "output_type": "display_data"
        }
      ],
      "source": [
        "plt.scatter(data[:, 0], data[:, 1])\n",
        "plt.show()"
      ]
    },
    {
      "cell_type": "code",
      "execution_count": null,
      "metadata": {
        "colab": {
          "base_uri": "https://localhost:8080/"
        },
        "id": "_d4DenZTZH1Q",
        "outputId": "3caccbc2-dc52-438f-b245-1c5a62616823"
      },
      "outputs": [
        {
          "name": "stdout",
          "output_type": "stream",
          "text": [
            "[13  6  9]\n"
          ]
        }
      ],
      "source": [
        "k = 3\n",
        "# Randomly determine 3 indices\n",
        "random_indices = np.random.choice(data.shape[0], 3, replace=False)\n",
        "print(random_indices)"
      ]
    },
    {
      "cell_type": "code",
      "execution_count": null,
      "metadata": {
        "id": "HOdUDKoV8Lub"
      },
      "outputs": [],
      "source": [
        "centers = data[random_indices]"
      ]
    },
    {
      "cell_type": "code",
      "execution_count": null,
      "metadata": {
        "colab": {
          "base_uri": "https://localhost:8080/",
          "height": 430
        },
        "id": "_dIbEjGX8Owq",
        "outputId": "30fea956-de1d-4904-a635-09d6a3c3ccc5"
      },
      "outputs": [
        {
          "data": {
            "image/png": "[encoded data removed]",
            "text/plain": [
              "<Figure size 640x480 with 1 Axes>"
            ]
          },
          "metadata": {},
          "output_type": "display_data"
        }
      ],
      "source": [
        "plt.scatter(data[:, 4], data[:, 5])\n",
        "plt.scatter(centers[:, 4], centers[:, 5])\n",
        "plt.show()"
      ]
    },
    {
      "cell_type": "code",
      "execution_count": null,
      "metadata": {
        "colab": {
          "base_uri": "https://localhost:8080/"
        },
        "id": "uiJUty5v8Ybj",
        "outputId": "eb01c5dd-ca35-4ac7-b693-3fee0c598fd3"
      },
      "outputs": [
        {
          "name": "stdout",
          "output_type": "stream",
          "text": [
            "-------------it:1---------\n",
            "centroid:1 closure:[False False  True  True  True False False False  True False  True False\n",
            "  True  True  True False  True False  True  True False False False False\n",
            "  True] data:[[ 8.          4.         85.          1.          3.81787992  3.42611067]\n",
            " [ 5.          6.         99.          6.          4.77890264  3.68982672]\n",
            " [ 7.          8.         89.          4.          3.95323108  4.08654826]\n",
            " [ 5.          5.         91.          3.          2.28623035  2.60918367]\n",
            " [ 8.          4.         78.          4.          4.00652376  3.7965964 ]\n",
            " [ 3.          9.         75.          4.          3.77389336  4.64140352]\n",
            " [ 6.          5.         93.          6.          2.82416538  3.87306214]\n",
            " [ 5.          5.         83.          4.          3.68373028  2.88690106]\n",
            " [ 8.          5.         85.          0.          4.91513629  3.36960371]\n",
            " [ 2.          5.         80.          0.          4.16518856  3.24952984]\n",
            " [ 5.          7.         97.          0.          2.70795476  4.64984078]\n",
            " [ 3.          6.         89.          0.          3.31800951  2.81639675]]\n",
            "centroid:2 closure:[False False False False False False  True False False False False False\n",
            " False False False False False False False False False False False False\n",
            " False] data:[[ 7.          8.         51.          0.          4.55011573  3.81325214]]\n",
            "centroid:3 closure:[ True  True False False False  True False  True False  True False  True\n",
            " False False False  True False  True False False  True  True  True  True\n",
            " False] data:[[ 7.          7.         63.          4.          4.13402586  2.60515761]\n",
            " [ 4.          7.         66.          4.          4.37052662  4.68729079]\n",
            " [ 3.          6.         53.          1.          4.74487903  2.41799436]\n",
            " [ 8.          4.         55.          3.          3.34835202  3.61952327]\n",
            " [ 4.          7.         53.          3.          3.11245476  4.82856071]\n",
            " [ 8.          7.         67.          0.          3.99776707  4.0843548 ]\n",
            " [ 2.          4.         59.          0.          3.14878062  2.31648278]\n",
            " [ 6.          8.         63.          6.          4.54674147  2.65532131]\n",
            " [ 1.          7.         64.          3.          2.76820497  2.97303506]\n",
            " [ 6.          7.         57.          6.          2.12130077  2.36626386]\n",
            " [ 9.          7.         63.          2.          4.13198867  3.06889351]\n",
            " [ 1.          8.         72.          2.          2.33267246  4.72048533]]\n",
            "closure:[2 2 0 0 0 2 1 2 0 2 0 2 0 0 0 2 0 2 0 0 2 2 2 2 0] | old_closure:[0. 0. 0. 0. 0. 0. 0. 0. 0. 0. 0. 0. 0. 0. 0. 0. 0. 0. 0. 0. 0. 0. 0. 0.\n",
            " 0.] | centers:[[ 5.41666667  5.75       87.          2.66666667  3.68590382  3.59125029]\n",
            " [ 7.          8.         51.          0.          4.55011573  3.81325214]\n",
            " [ 4.91666667  6.58333333 61.25        2.83333333  3.56314119  3.36194695]]\n",
            "-------------it:2---------\n",
            "centroid:1 closure:[False False  True  True  True False False False  True False  True False\n",
            "  True  True  True False  True False  True  True False False False False\n",
            "  True] data:[[ 8.          4.         85.          1.          3.81787992  3.42611067]\n",
            " [ 5.          6.         99.          6.          4.77890264  3.68982672]\n",
            " [ 7.          8.         89.          4.          3.95323108  4.08654826]\n",
            " [ 5.          5.         91.          3.          2.28623035  2.60918367]\n",
            " [ 8.          4.         78.          4.          4.00652376  3.7965964 ]\n",
            " [ 3.          9.         75.          4.          3.77389336  4.64140352]\n",
            " [ 6.          5.         93.          6.          2.82416538  3.87306214]\n",
            " [ 5.          5.         83.          4.          3.68373028  2.88690106]\n",
            " [ 8.          5.         85.          0.          4.91513629  3.36960371]\n",
            " [ 2.          5.         80.          0.          4.16518856  3.24952984]\n",
            " [ 5.          7.         97.          0.          2.70795476  4.64984078]\n",
            " [ 3.          6.         89.          0.          3.31800951  2.81639675]]\n",
            "centroid:2 closure:[False False False False False  True  True  True False  True False False\n",
            " False False False False False False False False False False False False\n",
            " False] data:[[ 3.          6.         53.          1.          4.74487903  2.41799436]\n",
            " [ 7.          8.         51.          0.          4.55011573  3.81325214]\n",
            " [ 8.          4.         55.          3.          3.34835202  3.61952327]\n",
            " [ 4.          7.         53.          3.          3.11245476  4.82856071]]\n",
            "centroid:3 closure:[ True  True False False False False False False False False False  True\n",
            " False False False  True False  True False False  True  True  True  True\n",
            " False] data:[[ 7.          7.         63.          4.          4.13402586  2.60515761]\n",
            " [ 4.          7.         66.          4.          4.37052662  4.68729079]\n",
            " [ 8.          7.         67.          0.          3.99776707  4.0843548 ]\n",
            " [ 2.          4.         59.          0.          3.14878062  2.31648278]\n",
            " [ 6.          8.         63.          6.          4.54674147  2.65532131]\n",
            " [ 1.          7.         64.          3.          2.76820497  2.97303506]\n",
            " [ 6.          7.         57.          6.          2.12130077  2.36626386]\n",
            " [ 9.          7.         63.          2.          4.13198867  3.06889351]\n",
            " [ 1.          8.         72.          2.          2.33267246  4.72048533]]\n",
            "closure:[2 2 0 0 0 1 1 1 0 1 0 2 0 0 0 2 0 2 0 0 2 2 2 2 0] | old_closure:[2 2 0 0 0 2 1 2 0 2 0 2 0 0 0 2 0 2 0 0 2 2 2 2 0] | centers:[[ 5.41666667  5.75       87.          2.66666667  3.68590382  3.59125029]\n",
            " [ 5.5         6.25       53.          1.75        3.93895038  3.66983262]\n",
            " [ 4.88888889  6.88888889 63.77777778  3.          3.50577872  3.27525389]]\n",
            "-------------it:3---------\n",
            "centroid:1 closure:[False False  True  True  True False False False  True False  True False\n",
            " False  True  True False  True False  True  True False False False False\n",
            "  True] data:[[ 8.          4.         85.          1.          3.81787992  3.42611067]\n",
            " [ 5.          6.         99.          6.          4.77890264  3.68982672]\n",
            " [ 7.          8.         89.          4.          3.95323108  4.08654826]\n",
            " [ 5.          5.         91.          3.          2.28623035  2.60918367]\n",
            " [ 8.          4.         78.          4.          4.00652376  3.7965964 ]\n",
            " [ 6.          5.         93.          6.          2.82416538  3.87306214]\n",
            " [ 5.          5.         83.          4.          3.68373028  2.88690106]\n",
            " [ 8.          5.         85.          0.          4.91513629  3.36960371]\n",
            " [ 2.          5.         80.          0.          4.16518856  3.24952984]\n",
            " [ 5.          7.         97.          0.          2.70795476  4.64984078]\n",
            " [ 3.          6.         89.          0.          3.31800951  2.81639675]]\n",
            "centroid:2 closure:[False False False False False  True  True  True False  True False False\n",
            " False False False False False False False False False  True False False\n",
            " False] data:[[ 3.          6.         53.          1.          4.74487903  2.41799436]\n",
            " [ 7.          8.         51.          0.          4.55011573  3.81325214]\n",
            " [ 8.          4.         55.          3.          3.34835202  3.61952327]\n",
            " [ 4.          7.         53.          3.          3.11245476  4.82856071]\n",
            " [ 6.          7.         57.          6.          2.12130077  2.36626386]]\n",
            "centroid:3 closure:[ True  True False False False False False False False False False  True\n",
            "  True False False  True False  True False False  True False  True  True\n",
            " False] data:[[ 7.          7.         63.          4.          4.13402586  2.60515761]\n",
            " [ 4.          7.         66.          4.          4.37052662  4.68729079]\n",
            " [ 8.          7.         67.          0.          3.99776707  4.0843548 ]\n",
            " [ 3.          9.         75.          4.          3.77389336  4.64140352]\n",
            " [ 2.          4.         59.          0.          3.14878062  2.31648278]\n",
            " [ 6.          8.         63.          6.          4.54674147  2.65532131]\n",
            " [ 1.          7.         64.          3.          2.76820497  2.97303506]\n",
            " [ 9.          7.         63.          2.          4.13198867  3.06889351]\n",
            " [ 1.          8.         72.          2.          2.33267246  4.72048533]]\n",
            "closure:[2 2 0 0 0 1 1 1 0 1 0 2 2 0 0 2 0 2 0 0 2 1 2 2 0] | old_closure:[2 2 0 0 0 1 1 1 0 1 0 2 0 0 0 2 0 2 0 0 2 2 2 2 0] | centers:[[ 5.63636364  5.45454545 88.09090909  2.54545455  3.67790477  3.49578182]\n",
            " [ 5.6         6.4        53.8         2.6         3.57542046  3.40911887]\n",
            " [ 4.55555556  7.11111111 65.77777778  2.77777778  3.68940012  3.52804719]]\n",
            "-------------it:4---------\n",
            "centroid:1 closure:[False False  True  True  True False False False  True False  True False\n",
            " False  True  True False  True False  True  True False False False False\n",
            "  True] data:[[ 8.          4.         85.          1.          3.81787992  3.42611067]\n",
            " [ 5.          6.         99.          6.          4.77890264  3.68982672]\n",
            " [ 7.          8.         89.          4.          3.95323108  4.08654826]\n",
            " [ 5.          5.         91.          3.          2.28623035  2.60918367]\n",
            " [ 8.          4.         78.          4.          4.00652376  3.7965964 ]\n",
            " [ 6.          5.         93.          6.          2.82416538  3.87306214]\n",
            " [ 5.          5.         83.          4.          3.68373028  2.88690106]\n",
            " [ 8.          5.         85.          0.          4.91513629  3.36960371]\n",
            " [ 2.          5.         80.          0.          4.16518856  3.24952984]\n",
            " [ 5.          7.         97.          0.          2.70795476  4.64984078]\n",
            " [ 3.          6.         89.          0.          3.31800951  2.81639675]]\n",
            "centroid:2 closure:[False False False False False  True  True  True False  True False False\n",
            " False False False  True False False False False False  True False False\n",
            " False] data:[[ 3.          6.         53.          1.          4.74487903  2.41799436]\n",
            " [ 7.          8.         51.          0.          4.55011573  3.81325214]\n",
            " [ 8.          4.         55.          3.          3.34835202  3.61952327]\n",
            " [ 4.          7.         53.          3.          3.11245476  4.82856071]\n",
            " [ 2.          4.         59.          0.          3.14878062  2.31648278]\n",
            " [ 6.          7.         57.          6.          2.12130077  2.36626386]]\n",
            "centroid:3 closure:[ True  True False False False False False False False False False  True\n",
            "  True False False False False  True False False  True False  True  True\n",
            " False] data:[[ 7.          7.         63.          4.          4.13402586  2.60515761]\n",
            " [ 4.          7.         66.          4.          4.37052662  4.68729079]\n",
            " [ 8.          7.         67.          0.          3.99776707  4.0843548 ]\n",
            " [ 3.          9.         75.          4.          3.77389336  4.64140352]\n",
            " [ 6.          8.         63.          6.          4.54674147  2.65532131]\n",
            " [ 1.          7.         64.          3.          2.76820497  2.97303506]\n",
            " [ 9.          7.         63.          2.          4.13198867  3.06889351]\n",
            " [ 1.          8.         72.          2.          2.33267246  4.72048533]]\n",
            "closure:[2 2 0 0 0 1 1 1 0 1 0 2 2 0 0 1 0 2 0 0 2 1 2 2 0] | old_closure:[2 2 0 0 0 1 1 1 0 1 0 2 2 0 0 2 0 2 0 0 2 1 2 2 0] | centers:[[ 5.63636364  5.45454545 88.09090909  2.54545455  3.67790477  3.49578182]\n",
            " [ 5.          6.         54.66666667  2.16666667  3.50431382  3.22701285]\n",
            " [ 4.875       7.5        66.625       3.125       3.75697756  3.67949274]]\n",
            "-------------it:5---------\n",
            "centroid:1 closure:[False False  True  True  True False False False  True False  True False\n",
            " False  True  True False  True False  True  True False False False False\n",
            "  True] data:[[ 8.          4.         85.          1.          3.81787992  3.42611067]\n",
            " [ 5.          6.         99.          6.          4.77890264  3.68982672]\n",
            " [ 7.          8.         89.          4.          3.95323108  4.08654826]\n",
            " [ 5.          5.         91.          3.          2.28623035  2.60918367]\n",
            " [ 8.          4.         78.          4.          4.00652376  3.7965964 ]\n",
            " [ 6.          5.         93.          6.          2.82416538  3.87306214]\n",
            " [ 5.          5.         83.          4.          3.68373028  2.88690106]\n",
            " [ 8.          5.         85.          0.          4.91513629  3.36960371]\n",
            " [ 2.          5.         80.          0.          4.16518856  3.24952984]\n",
            " [ 5.          7.         97.          0.          2.70795476  4.64984078]\n",
            " [ 3.          6.         89.          0.          3.31800951  2.81639675]]\n",
            "centroid:2 closure:[False False False False False  True  True  True False  True False False\n",
            " False False False  True False False False False False  True False False\n",
            " False] data:[[ 3.          6.         53.          1.          4.74487903  2.41799436]\n",
            " [ 7.          8.         51.          0.          4.55011573  3.81325214]\n",
            " [ 8.          4.         55.          3.          3.34835202  3.61952327]\n",
            " [ 4.          7.         53.          3.          3.11245476  4.82856071]\n",
            " [ 2.          4.         59.          0.          3.14878062  2.31648278]\n",
            " [ 6.          7.         57.          6.          2.12130077  2.36626386]]\n",
            "centroid:3 closure:[ True  True False False False False False False False False False  True\n",
            "  True False False False False  True False False  True False  True  True\n",
            " False] data:[[ 7.          7.         63.          4.          4.13402586  2.60515761]\n",
            " [ 4.          7.         66.          4.          4.37052662  4.68729079]\n",
            " [ 8.          7.         67.          0.          3.99776707  4.0843548 ]\n",
            " [ 3.          9.         75.          4.          3.77389336  4.64140352]\n",
            " [ 6.          8.         63.          6.          4.54674147  2.65532131]\n",
            " [ 1.          7.         64.          3.          2.76820497  2.97303506]\n",
            " [ 9.          7.         63.          2.          4.13198867  3.06889351]\n",
            " [ 1.          8.         72.          2.          2.33267246  4.72048533]]\n",
            "closure:[2 2 0 0 0 1 1 1 0 1 0 2 2 0 0 1 0 2 0 0 2 1 2 2 0] | old_closure:[2 2 0 0 0 1 1 1 0 1 0 2 2 0 0 1 0 2 0 0 2 1 2 2 0] | centers:[[ 5.63636364  5.45454545 88.09090909  2.54545455  3.67790477  3.49578182]\n",
            " [ 5.          6.         54.66666667  2.16666667  3.50431382  3.22701285]\n",
            " [ 4.875       7.5        66.625       3.125       3.75697756  3.67949274]]\n"
          ]
        }
      ],
      "source": [
        "distance = np.zeros((data.shape[0], k))\n",
        "closure = np.zeros((data.shape[0]))\n",
        "m = 0\n",
        "while True:\n",
        "    m = m + 1\n",
        "    print(f\"-------------it:{m}---------\")\n",
        "    for i, d in enumerate(data):\n",
        "        for j, c in enumerate(centers):\n",
        "            distance[i, j] = calculate_distance(d, c)\n",
        "    new_closure = np.argmin(distance, axis=1)\n",
        "    new_centers = np.zeros((k, data.shape[1]))\n",
        "    for i, c in enumerate(centers):\n",
        "        y = new_closure == i\n",
        "        s = data[new_closure == i, :]\n",
        "        new_centers[i, :] = np.sum(s, axis=0) / s.shape[0]\n",
        "        print(f\"centroid:{i+1} closure:{y} data:{s}\")\n",
        "    centers = new_centers.copy()\n",
        "\n",
        "    print(f\"closure:{new_closure} | old_closure:{closure} | centers:{new_centers}\")\n",
        "    if np.all(new_closure == closure):\n",
        "        break\n",
        "    closure = new_closure.copy()"
      ]
    },
    {
      "cell_type": "code",
      "execution_count": null,
      "metadata": {
        "colab": {
          "base_uri": "https://localhost:8080/",
          "height": 448
        },
        "id": "uFq7ZoSE92cT",
        "outputId": "9ad88fb5-331c-4a96-a6f8-b0b325069651"
      },
      "outputs": [
        {
          "data": {
            "text/plain": [
              "<matplotlib.collections.PathCollection at 0x7f2cf7c725c0>"
            ]
          },
          "execution_count": 58,
          "metadata": {},
          "output_type": "execute_result"
        },
        {
          "data": {
            "image/png": "[encoded data removed]",
            "text/plain": [
              "<Figure size 640x480 with 1 Axes>"
            ]
          },
          "metadata": {},
          "output_type": "display_data"
        }
      ],
      "source": [
        "plt.scatter(data[:, 4], data[:, 5], c=closure)"
      ]
    },
    {
      "cell_type": "code",
      "execution_count": null,
      "metadata": {
        "id": "hAVDoOSu84iq"
      },
      "outputs": [],
      "source": []
    }
  ],
  "metadata": {
    "colab": {
      "provenance": []
    },
    "kernelspec": {
      "display_name": "base",
      "language": "python",
      "name": "python3"
    },
    "language_info": {
      "codemirror_mode": {
        "name": "ipython",
        "version": 3
      },
      "file_extension": ".py",
      "mimetype": "text/x-python",
      "name": "python",
      "nbconvert_exporter": "python",
      "pygments_lexer": "ipython3",
      "version": "3.12.7"
    }
  },
  "nbformat": 4,
  "nbformat_minor": 0
}
