{
 "cells": [
  {
   "cell_type": "markdown",
   "id": "0932d658",
   "metadata": {},
   "source": [
    "### Raw Code"
   ]
  },
  {
   "cell_type": "code",
   "execution_count": 3,
   "id": "4c3ae02a",
   "metadata": {},
   "outputs": [],
   "source": [
    "def min_max_scaling(data):\n",
    "\tmin_value = min(data)\n",
    "\tmax_value = max(data)\n",
    "\tscaled_data = [(x - min_value) / (max_value - min_value) for x in data]\n",
    "\n",
    "\treturn scaled_data"
   ]
  },
  {
   "cell_type": "code",
   "execution_count": 4,
   "id": "683d13ec",
   "metadata": {},
   "outputs": [
    {
     "name": "stdout",
     "output_type": "stream",
     "text": [
      "Original Data:  [1, 20, 30, 4, 5]\n",
      "Scaled Data:  [0.0, 0.6551724137931034, 1.0, 0.10344827586206896, 0.13793103448275862]\n"
     ]
    }
   ],
   "source": [
    "data = [1, 20, 30, 4, 5]\n",
    "scaled_data = min_max_scaling(data)\n",
    "print(\"Original Data: \", data)\n",
    "print(\"Scaled Data: \", scaled_data)"
   ]
  },
  {
   "cell_type": "markdown",
   "id": "19956a06",
   "metadata": {},
   "source": [
    "## Using Sklearn"
   ]
  },
  {
   "cell_type": "code",
   "execution_count": 1,
   "id": "bf1f7c91",
   "metadata": {},
   "outputs": [],
   "source": [
    "import pandas as pd\n",
    "from sklearn.preprocessing import MinMaxScaler"
   ]
  },
  {
   "cell_type": "code",
   "execution_count": 2,
   "id": "1f3dadb4",
   "metadata": {},
   "outputs": [
    {
     "data": {
      "text/html": [
       "<div>\n",
       "<style scoped>\n",
       "    .dataframe tbody tr th:only-of-type {\n",
       "        vertical-align: middle;\n",
       "    }\n",
       "\n",
       "    .dataframe tbody tr th {\n",
       "        vertical-align: top;\n",
       "    }\n",
       "\n",
       "    .dataframe thead th {\n",
       "        text-align: right;\n",
       "    }\n",
       "</style>\n",
       "<table border=\"1\" class=\"dataframe\">\n",
       "  <thead>\n",
       "    <tr style=\"text-align: right;\">\n",
       "      <th></th>\n",
       "      <th>Feature 1</th>\n",
       "      <th>Feature 2</th>\n",
       "    </tr>\n",
       "  </thead>\n",
       "  <tbody>\n",
       "    <tr>\n",
       "      <th>0</th>\n",
       "      <td>1</td>\n",
       "      <td>6</td>\n",
       "    </tr>\n",
       "    <tr>\n",
       "      <th>1</th>\n",
       "      <td>5</td>\n",
       "      <td>7</td>\n",
       "    </tr>\n",
       "    <tr>\n",
       "      <th>2</th>\n",
       "      <td>10</td>\n",
       "      <td>8</td>\n",
       "    </tr>\n",
       "    <tr>\n",
       "      <th>3</th>\n",
       "      <td>4</td>\n",
       "      <td>19</td>\n",
       "    </tr>\n",
       "    <tr>\n",
       "      <th>4</th>\n",
       "      <td>5</td>\n",
       "      <td>10</td>\n",
       "    </tr>\n",
       "  </tbody>\n",
       "</table>\n",
       "</div>"
      ],
      "text/plain": [
       "   Feature 1  Feature 2\n",
       "0          1          6\n",
       "1          5          7\n",
       "2         10          8\n",
       "3          4         19\n",
       "4          5         10"
      ]
     },
     "execution_count": 2,
     "metadata": {},
     "output_type": "execute_result"
    }
   ],
   "source": [
    "data = {'Feature 1': [1, 5, 10, 4, 5],\n",
    "        'Feature 2': [6, 7, 8, 19, 10]}\n",
    "df = pd.DataFrame(data)\n",
    "df.head()"
   ]
  },
  {
   "cell_type": "code",
   "execution_count": 3,
   "id": "48f9eb77",
   "metadata": {},
   "outputs": [],
   "source": [
    "scaler = MinMaxScaler()\n",
    "scaled_data = scaler.fit_transform(df)\n",
    "\n",
    "scaled_df = pd.DataFrame(scaled_data, columns=df.columns)"
   ]
  },
  {
   "cell_type": "code",
   "execution_count": 5,
   "id": "1743abd7",
   "metadata": {},
   "outputs": [
    {
     "name": "stdout",
     "output_type": "stream",
     "text": [
      "Original Dataframe:\n",
      "   Feature 1  Feature 2\n",
      "0          1          6\n",
      "1          5          7\n",
      "2         10          8\n",
      "3          4         19\n",
      "4          5         10\n",
      "\n",
      "Scaled Dataframe:\n",
      "   Feature 1  Feature 2\n",
      "0   0.000000   0.000000\n",
      "1   0.444444   0.076923\n",
      "2   1.000000   0.153846\n",
      "3   0.333333   1.000000\n",
      "4   0.444444   0.307692\n"
     ]
    }
   ],
   "source": [
    "print(\"Original Dataframe:\")\n",
    "print(df)\n",
    "print(\"\\nScaled Dataframe:\")\n",
    "print(scaled_df)"
   ]
  }
 ],
 "metadata": {
  "kernelspec": {
   "display_name": "Python 3",
   "language": "python",
   "name": "python3"
  },
  "language_info": {
   "codemirror_mode": {
    "name": "ipython",
    "version": 3
   },
   "file_extension": ".py",
   "mimetype": "text/x-python",
   "name": "python",
   "nbconvert_exporter": "python",
   "pygments_lexer": "ipython3",
   "version": "3.11.0"
  }
 },
 "nbformat": 4,
 "nbformat_minor": 5
}
