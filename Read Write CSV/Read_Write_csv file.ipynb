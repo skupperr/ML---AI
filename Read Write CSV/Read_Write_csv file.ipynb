{
 "cells": [
  {
   "cell_type": "markdown",
   "id": "fe169b10",
   "metadata": {},
   "source": [
    "Read csv file"
   ]
  },
  {
   "cell_type": "code",
   "execution_count": null,
   "id": "56d22c8c",
   "metadata": {},
   "outputs": [
    {
     "name": "stdout",
     "output_type": "stream",
     "text": [
      "['Star', 'x', 'y', 'z']\n",
      "['Sun', '0', '0', '0']\n",
      "['Proxima Centauri', '176', '-406', '-49']\n",
      "['Lalande 21185', '552', '-473', '-38']\n",
      "['Lacaille 9352', '-848', '-540', '0']\n",
      "[\"Luyten's Star\", '-849', '-542', '0']\n",
      "['YZ Ceti', '-280', '1568', '40']\n",
      "['Tau Ceti', '-1389', '-2353', '182']\n",
      "['Gliese 1061', '-2240', '-942', '838']\n"
     ]
    }
   ],
   "source": [
    "import csv\n",
    "\n",
    "with open('Coordinates.csv', newline='') as myFile:  \n",
    "    reader = csv.reader(myFile)\n",
    "    for row in reader:\n",
    "        print(row)"
   ]
  },
  {
   "cell_type": "code",
   "execution_count": 3,
   "id": "b14c3a53",
   "metadata": {},
   "outputs": [
    {
     "data": {
      "text/html": [
       "<div>\n",
       "<style scoped>\n",
       "    .dataframe tbody tr th:only-of-type {\n",
       "        vertical-align: middle;\n",
       "    }\n",
       "\n",
       "    .dataframe tbody tr th {\n",
       "        vertical-align: top;\n",
       "    }\n",
       "\n",
       "    .dataframe thead th {\n",
       "        text-align: right;\n",
       "    }\n",
       "</style>\n",
       "<table border=\"1\" class=\"dataframe\">\n",
       "  <thead>\n",
       "    <tr style=\"text-align: right;\">\n",
       "      <th></th>\n",
       "      <th>Star</th>\n",
       "      <th>x</th>\n",
       "      <th>y</th>\n",
       "      <th>z</th>\n",
       "    </tr>\n",
       "  </thead>\n",
       "  <tbody>\n",
       "    <tr>\n",
       "      <th>0</th>\n",
       "      <td>Sun</td>\n",
       "      <td>0</td>\n",
       "      <td>0</td>\n",
       "      <td>0</td>\n",
       "    </tr>\n",
       "    <tr>\n",
       "      <th>1</th>\n",
       "      <td>Proxima Centauri</td>\n",
       "      <td>176</td>\n",
       "      <td>-406</td>\n",
       "      <td>-49</td>\n",
       "    </tr>\n",
       "    <tr>\n",
       "      <th>2</th>\n",
       "      <td>Lalande 21185</td>\n",
       "      <td>552</td>\n",
       "      <td>-473</td>\n",
       "      <td>-38</td>\n",
       "    </tr>\n",
       "  </tbody>\n",
       "</table>\n",
       "</div>"
      ],
      "text/plain": [
       "               Star    x    y   z\n",
       "0               Sun    0    0   0\n",
       "1  Proxima Centauri  176 -406 -49\n",
       "2     Lalande 21185  552 -473 -38"
      ]
     },
     "execution_count": 3,
     "metadata": {},
     "output_type": "execute_result"
    }
   ],
   "source": [
    "import pandas as pd\n",
    "\n",
    "path = \"Coordinates.csv\"\n",
    "df = pd.read_csv(path)\n",
    "df.head(3)"
   ]
  },
  {
   "cell_type": "markdown",
   "id": "05329e30",
   "metadata": {},
   "source": [
    "Write csv file"
   ]
  },
  {
   "cell_type": "code",
   "execution_count": 2,
   "id": "fe0dd55b",
   "metadata": {},
   "outputs": [],
   "source": [
    "import csv\n",
    "\n",
    "fruits = [['Apple', 'Orange', 'Banana', 'Grapes'], [20, 30, 50, 10]]\n",
    "\n",
    "with open('fruits.csv', 'w', newline='') as csv_file:\n",
    "    writer = csv.writer(csv_file, delimiter = ',')\n",
    "    for fruit in fruits:\n",
    "        writer.writerow(fruit)"
   ]
  },
  {
   "cell_type": "code",
   "execution_count": null,
   "id": "740ffcd8",
   "metadata": {},
   "outputs": [],
   "source": [
    "import csv\n",
    "\n",
    "some_list=[['apples', 'oranges', 'grapes', 'mangoes'], [20, 25, 42, 35]]\n",
    "output_file = open('fruits.csv', 'w')\n",
    "with output_file:  \n",
    "   writer = csv.writer(output_file)\n",
    "   writer.writerows(some_list)"
   ]
  },
  {
   "cell_type": "code",
   "execution_count": null,
   "id": "8b476c78",
   "metadata": {},
   "outputs": [],
   "source": [
    "#Adding header and rows..\n",
    "\n",
    "import csv\n",
    "\n",
    "header = ['name', 'age', 'ZIP']\n",
    "rows = [['John', 30, 94568],\n",
    "        ['Mary', 40, 94588],\n",
    "        ['Henry', 50, 94566]]\n",
    "\n",
    "with open('people.csv', 'w') as f:\n",
    "    csv_writer = csv.writer(f)\n",
    "    csv_writer.writerow(header)\n",
    "    for row in rows:\n",
    "        csv_writer.writerow(row)"
   ]
  },
  {
   "cell_type": "code",
   "execution_count": 3,
   "id": "452b483c",
   "metadata": {},
   "outputs": [],
   "source": [
    "#Using dictwriter\n",
    "import csv      \n",
    "\n",
    "header = ['name', 'age', 'ZIP']        \n",
    "rows = [{'name':'John', 'age':30, 'ZIP':94568},\n",
    "        {'name':'Mary', 'age':40, 'ZIP':94588},\n",
    "        {'name':'Henry', 'age':50, 'ZIP':94566},\n",
    "        ]\n",
    "\n",
    "with open('people.csv', 'w') as f:\n",
    "    csv_writer = csv.DictWriter(f, fieldnames= header)\n",
    "    csv_writer.writeheader()\n",
    "    csv_writer.writerows(rows)"
   ]
  }
 ],
 "metadata": {
  "kernelspec": {
   "display_name": "base",
   "language": "python",
   "name": "python3"
  },
  "language_info": {
   "codemirror_mode": {
    "name": "ipython",
    "version": 3
   },
   "file_extension": ".py",
   "mimetype": "text/x-python",
   "name": "python",
   "nbconvert_exporter": "python",
   "pygments_lexer": "ipython3",
   "version": "3.12.7"
  }
 },
 "nbformat": 4,
 "nbformat_minor": 5
}
